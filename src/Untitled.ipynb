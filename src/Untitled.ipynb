{
 "cells": [
  {
   "cell_type": "code",
   "execution_count": 1,
   "metadata": {},
   "outputs": [
    {
     "name": "stdout",
     "output_type": "stream",
     "text": [
      "/usr/bin/python3\n",
      "3.6.9 (default, Nov  7 2019, 10:44:02) \n",
      "[GCC 8.3.0]\n",
      "sys.version_info(major=3, minor=6, micro=9, releaselevel='final', serial=0)\n",
      "3.6.9\n"
     ]
    }
   ],
   "source": [
    "import sys\n",
    "\n",
    "from platform import python_version\n",
    "print(sys.executable)\n",
    "print(sys.version)\n",
    "print(sys.version_info)\n",
    "\n",
    "print(python_version())"
   ]
  },
  {
   "cell_type": "code",
   "execution_count": 3,
   "metadata": {},
   "outputs": [
    {
     "name": "stdout",
     "output_type": "stream",
     "text": [
      "/data/students_home/amoscatelli/Desktop/actionAnalysis/miniconda3/envs/actionEnv/bin/python\r\n"
     ]
    }
   ],
   "source": [
    "!which python"
   ]
  },
  {
   "cell_type": "code",
   "execution_count": 4,
   "metadata": {},
   "outputs": [
    {
     "name": "stdout",
     "output_type": "stream",
     "text": [
      "# packages in environment at /data/students_home/amoscatelli/Desktop/actionAnalysis/miniconda3/envs/actionEnv:\r\n",
      "#\r\n",
      "# Name                    Version                   Build  Channel\r\n",
      "_libgcc_mutex             0.1                        main  \r\n",
      "_tflow_select             2.1.0                       gpu  \r\n",
      "absl-py                   0.8.1                    py37_0  \r\n",
      "astor                     0.8.0                    py37_0  \r\n",
      "blas                      1.0                         mkl  \r\n",
      "c-ares                    1.15.0            h7b6447c_1001  \r\n",
      "ca-certificates           2019.11.27                    0  \r\n",
      "certifi                   2019.11.28               py37_0  \r\n",
      "cudatoolkit               10.0.130                      0  \r\n",
      "cudnn                     7.6.5                cuda10.0_0  \r\n",
      "cupti                     10.0.130                      0  \r\n",
      "gast                      0.2.2                    py37_0  \r\n",
      "google-pasta              0.1.8                      py_0  \r\n",
      "grpcio                    1.16.1           py37hf8bcb03_1  \r\n",
      "h5py                      2.10.0           py37h7918eee_0  \r\n",
      "hdf5                      1.10.4               hb1b8bf9_0  \r\n",
      "intel-openmp              2019.4                      243  \r\n",
      "keras-applications        1.0.8                      py_0  \r\n",
      "keras-preprocessing       1.1.0                      py_1  \r\n",
      "ld_impl_linux-64          2.33.1               h53a641e_7  \r\n",
      "libedit                   3.1.20181209         hc058e9b_0  \r\n",
      "libffi                    3.2.1                hd88cf55_4  \r\n",
      "libgcc-ng                 9.1.0                hdf63c60_0  \r\n",
      "libgfortran-ng            7.3.0                hdf63c60_0  \r\n",
      "libprotobuf               3.11.2               hd408876_0  \r\n",
      "libstdcxx-ng              9.1.0                hdf63c60_0  \r\n",
      "markdown                  3.1.1                    py37_0  \r\n",
      "mkl                       2019.4                      243  \r\n",
      "mkl-service               2.3.0            py37he904b0f_0  \r\n",
      "mkl_fft                   1.0.15           py37ha843d7b_0  \r\n",
      "mkl_random                1.1.0            py37hd6b4f25_0  \r\n",
      "ncurses                   6.1                  he6710b0_1  \r\n",
      "numpy                     1.18.1           py37h4f9e942_0  \r\n",
      "numpy-base                1.18.1           py37hde5b4d6_1  \r\n",
      "openssl                   1.1.1d               h7b6447c_3  \r\n",
      "opt_einsum                3.1.0                      py_0  \r\n",
      "pip                       20.0.2                   py37_0  \r\n",
      "protobuf                  3.11.2           py37he6710b0_0  \r\n",
      "python                    3.7.6                h0371630_2  \r\n",
      "readline                  7.0                  h7b6447c_5  \r\n",
      "scipy                     1.3.2            py37h7c811a0_0  \r\n",
      "setuptools                45.1.0                   py37_0  \r\n",
      "six                       1.14.0                   py37_0  \r\n",
      "sqlite                    3.30.1               h7b6447c_0  \r\n",
      "tensorboard               2.0.0              pyhb38c66f_1  \r\n",
      "tensorflow                2.0.0           gpu_py37h768510d_0  \r\n",
      "tensorflow-base           2.0.0           gpu_py37h0ec5d1f_0  \r\n",
      "tensorflow-estimator      2.0.0              pyh2649769_0  \r\n",
      "tensorflow-gpu            2.0.0                h0d30ee6_0  \r\n",
      "termcolor                 1.1.0                    py37_1  \r\n",
      "tk                        8.6.8                hbc83047_0  \r\n",
      "werkzeug                  0.16.0                     py_0  \r\n",
      "wheel                     0.33.6                   py37_0  \r\n",
      "wrapt                     1.11.2           py37h7b6447c_0  \r\n",
      "xz                        5.2.4                h14c3975_4  \r\n",
      "zlib                      1.2.11               h7b6447c_3  \r\n"
     ]
    }
   ],
   "source": [
    "!conda list"
   ]
  },
  {
   "cell_type": "code",
   "execution_count": null,
   "metadata": {},
   "outputs": [],
   "source": []
  }
 ],
 "metadata": {
  "kernelspec": {
   "display_name": "actionEnv",
   "language": "python",
   "name": "actionenv"
  },
  "language_info": {
   "codemirror_mode": {
    "name": "ipython",
    "version": 3
   },
   "file_extension": ".py",
   "mimetype": "text/x-python",
   "name": "python",
   "nbconvert_exporter": "python",
   "pygments_lexer": "ipython3",
   "version": "3.6.9"
  }
 },
 "nbformat": 4,
 "nbformat_minor": 2
}
