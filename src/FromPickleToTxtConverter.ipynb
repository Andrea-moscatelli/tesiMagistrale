{
 "cells": [
  {
   "cell_type": "markdown",
   "metadata": {},
   "source": [
    "# Display points"
   ]
  },
  {
   "cell_type": "code",
   "execution_count": null,
   "metadata": {},
   "outputs": [],
   "source": [
    "#Detectron2\n",
    "videoName = \"S003C002P015R001A007_rgb.avi\"\n",
    "detectronConfigName = \"/detectron2_repo/configs/COCO-Keypoints/keypoint_rcnn_X_101_32x8d_FPN_3x.yaml\"\n",
    "\n",
    "import matplotlib.pyplot as plt\n",
    "from matplotlib.pyplot import figure\n",
    "figure(num=None, figsize=(10, 6), dpi=80, facecolor='w', edgecolor='k')\n",
    "\n",
    "#extractFrames(videoName) # extract the video frames in ./temp\n",
    "framePaths = [f.path for f in os.scandir(\"./temp\") if f.is_file() and f.path.endswith('.jpg')]\n",
    "video_points_folder_name = PROJECT_FOLDER+\"/inputData/\"+videoName[:-4] #removing the .avi extension\n",
    "\n",
    "detectron2Model = detectronConfigName.split(\"/\")[-1][:-5]\n",
    "detectron2Folder = video_points_folder_name+\"/Detectron2-\"+str(detectron2Model)\n",
    "\n",
    "frame_path = framePaths[1]\n",
    "print(frame_path)\n",
    "im = cv2.imread(frame_path)\n",
    "outputsFile = frame_path.split(\"/\")[-1][:-4]+\".pickle\"\n",
    "with open(join(detectron2Folder,outputsFile), 'rb') as file_in:\n",
    "    outputs = pickle.load(file_in)        \n",
    "v = Visualizer(im[:,:,::-1], MetadataCatalog.get(cfg.DATASETS.TRAIN[0]), scale=1.2)\n",
    "v = v.draw_instance_predictions(outputs[\"instances\"].to(\"cpu\"))\n",
    "plt.imshow(v.get_image()[:, :, ::1])"
   ]
  }
 ],
 "metadata": {
  "kernelspec": {
   "display_name": "Python 2",
   "language": "python",
   "name": "python2"
  },
  "language_info": {
   "codemirror_mode": {
    "name": "ipython",
    "version": 2
   },
   "file_extension": ".py",
   "mimetype": "text/x-python",
   "name": "python",
   "nbconvert_exporter": "python",
   "pygments_lexer": "ipython2",
   "version": "2.7.15+"
  }
 },
 "nbformat": 4,
 "nbformat_minor": 2
}
