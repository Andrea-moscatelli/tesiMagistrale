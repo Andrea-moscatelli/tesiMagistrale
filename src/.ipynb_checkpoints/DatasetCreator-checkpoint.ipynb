{
 "cells": [
  {
   "cell_type": "code",
   "execution_count": 1,
   "metadata": {},
   "outputs": [],
   "source": [
    "INPUT_FOLDER = \"/data/students_home/amoscatelli/Desktop/actionAnalysis/inputData/\"\n",
    "DATASET_FOLDER = \"/data/students_home/amoscatelli/Desktop/actionAnalysis/datasets/\"\n",
    "video_dataset_folder = \"/data/datasets/NTURGBD\"\n",
    "ACTION_LABEL_SET = [\"A001\",\"A002\",\"A007\",\"A008\",\"A009\",\"A031\",\"A049\",\"A023\"]\n",
    "# video_name_format = \"S{:3d}C{:3d}P{:3d}R{:3d}A{:3d}_rgb.avi\" #Setup-Camera-Performer-Replication-Action"
   ]
  },
  {
   "cell_type": "code",
   "execution_count": 2,
   "metadata": {},
   "outputs": [
    {
     "name": "stdout",
     "output_type": "stream",
     "text": [
      "['nturgbd_rgb_s003', 'nturgbd_rgb_s008', 'nturgbd_rgb_s009', 'nturgbd_rgb_s005', 'nturgbd_rgb_s013', 'nturgbd_rgb_s001', 'nturgbd_rgb_s007', 'nturgbd_rgb_s015', 'nturgbd_rgb_s002', 'nturgbd_rgb_s004', 'nturgbd_rgb_s006', 'nturgbd_rgb_s010', 'nturgbd_rgb_s016', 'nturgbd_rgb_s017', 'nturgbd_rgb_s012', 'nturgbd_rgb_s011', 'nturgbd_rgb_s014']\n",
      "7584\n"
     ]
    }
   ],
   "source": [
    "SEED = 1234\n",
    "import os\n",
    "import random\n",
    "from os import listdir, scandir\n",
    "from os.path import isfile, isdir, join, exists\n",
    "\n",
    "\n",
    "setupFolders = [f for f in listdir(video_dataset_folder) if isdir(join(video_dataset_folder, f)) and f[:13]==\"nturgbd_rgb_s\"]\n",
    "print(setupFolders)\n",
    "fileNames = []\n",
    "fileEntries = []\n",
    "for folder in setupFolders:\n",
    "    setupeEntryFiles = [f for f in scandir(join(video_dataset_folder,folder,\"nturgb+d_rgb/\")) \n",
    "                       if isfile(join(video_dataset_folder,folder,\"nturgb+d_rgb/\",f)) \n",
    "                       and any(label in f.name for label in ACTION_LABEL_SET)]\n",
    "    fileEntries += setupeEntryFiles\n",
    "    \n",
    "#     fileNames.append([f for f in listdir(join(dataset_folder,folder,\"nturgb+d_rgb/\")) \n",
    "#                        if isfile(join(dataset_folder,folder,\"nturgb+d_rgb/\",f)) \n",
    "#                        and any(label in f for label in ACTION_LABEL_SET)])\n",
    "                       \n",
    "    fileNames.append([f.name for f in setupeEntryFiles])\n",
    "        \n",
    "fileNames = sum(fileNames, []) #making it in 1-row\n",
    "print(len(fileNames)) \n",
    "random.seed(SEED)\n",
    "random.shuffle(fileNames)"
   ]
  },
  {
   "cell_type": "markdown",
   "metadata": {},
   "source": [
    "## Check that each file has been competely parsed"
   ]
  },
  {
   "cell_type": "code",
   "execution_count": 11,
   "metadata": {},
   "outputs": [
    {
     "name": "stdout",
     "output_type": "stream",
     "text": [
      "Analyzing 7584 folders\n",
      "/data/students_home/amoscatelli/Desktop/actionAnalysis/inputData/S009C002P019R001A023_rgb doesn't contain ['DensePoseKeyPointsMask_ResNet50_FPN_s1x-e2e']\n"
     ]
    },
    {
     "ename": "ValueError",
     "evalue": "max() arg is an empty sequence",
     "output_type": "error",
     "traceback": [
      "\u001b[0;31m---------------------------------------------------------------------------\u001b[0m",
      "\u001b[0;31mValueError\u001b[0m                                Traceback (most recent call last)",
      "\u001b[0;32m<ipython-input-11-af2ceac307c5>\u001b[0m in \u001b[0;36m<module>\u001b[0;34m()\u001b[0m\n\u001b[1;32m     25\u001b[0m     \u001b[0;31m### check if every model has been completed ####\u001b[0m\u001b[0;34m\u001b[0m\u001b[0;34m\u001b[0m\u001b[0;34m\u001b[0m\u001b[0m\n\u001b[1;32m     26\u001b[0m     \u001b[0mfilesPerFolder\u001b[0m \u001b[0;34m=\u001b[0m \u001b[0mlist\u001b[0m\u001b[0;34m(\u001b[0m\u001b[0mzip\u001b[0m\u001b[0;34m(\u001b[0m\u001b[0mmap\u001b[0m\u001b[0;34m(\u001b[0m\u001b[0;32mlambda\u001b[0m \u001b[0mfolder\u001b[0m\u001b[0;34m:\u001b[0m \u001b[0mlen\u001b[0m\u001b[0;34m(\u001b[0m\u001b[0mlistdir\u001b[0m\u001b[0;34m(\u001b[0m\u001b[0mfolder\u001b[0m\u001b[0;34m)\u001b[0m\u001b[0;34m)\u001b[0m \u001b[0;34m,\u001b[0m\u001b[0mmodelFolderPaths\u001b[0m\u001b[0;34m)\u001b[0m\u001b[0;34m,\u001b[0m\u001b[0mmodelFolderPaths\u001b[0m\u001b[0;34m)\u001b[0m\u001b[0;34m)\u001b[0m \u001b[0;31m# take the number of files of each model folder\u001b[0m\u001b[0;34m\u001b[0m\u001b[0;34m\u001b[0m\u001b[0m\n\u001b[0;32m---> 27\u001b[0;31m     \u001b[0mmaxNumberOfFiles\u001b[0m \u001b[0;34m=\u001b[0m \u001b[0mmax\u001b[0m\u001b[0;34m(\u001b[0m\u001b[0mfilesPerFolder\u001b[0m\u001b[0;34m)\u001b[0m\u001b[0;34m[\u001b[0m\u001b[0;36m0\u001b[0m\u001b[0;34m]\u001b[0m\u001b[0;34m\u001b[0m\u001b[0;34m\u001b[0m\u001b[0m\n\u001b[0m\u001b[1;32m     28\u001b[0m     \u001b[0;32mfor\u001b[0m \u001b[0mnumberOfFiles\u001b[0m\u001b[0;34m,\u001b[0m\u001b[0mfolderPath\u001b[0m \u001b[0;32min\u001b[0m \u001b[0mfilesPerFolder\u001b[0m\u001b[0;34m:\u001b[0m\u001b[0;34m\u001b[0m\u001b[0;34m\u001b[0m\u001b[0m\n\u001b[1;32m     29\u001b[0m         \u001b[0;32mif\u001b[0m \u001b[0mnumberOfFiles\u001b[0m \u001b[0;34m==\u001b[0m \u001b[0;36m0\u001b[0m \u001b[0;32mor\u001b[0m \u001b[0mnumberOfFiles\u001b[0m \u001b[0;34m!=\u001b[0m \u001b[0mmaxNumberOfFiles\u001b[0m\u001b[0;34m:\u001b[0m\u001b[0;34m\u001b[0m\u001b[0;34m\u001b[0m\u001b[0m\n",
      "\u001b[0;31mValueError\u001b[0m: max() arg is an empty sequence"
     ]
    }
   ],
   "source": [
    "import os\n",
    "from os import listdir, scandir\n",
    "from os.path import isfile, isdir, join #, exists\n",
    "\n",
    "foldersPerVideo = [\n",
    "#     \"Detectron2-keypoint_rcnn_X_101_32x8d_FPN_3x\",\n",
    "#     \"PoseNet-101\"\n",
    "    \"DensePoseKeyPointsMask_ResNet50_FPN_s1x-e2e\"\n",
    "]\n",
    "folder_names = [f[:-4] for f in fileNames]\n",
    "analysedVideoFolders = [f.path for f in scandir(INPUT_FOLDER) if isdir(join(INPUT_FOLDER, f)) and f.name in folder_names]\n",
    "\n",
    "# analysedVideoFolders.sort(key=lambda x: os.path.getmtime(x)) #sort following the last modification time (useful for later as well)\n",
    "\n",
    "print(\"Analyzing {} folders\".format(len(analysedVideoFolders)))\n",
    "missingVideoCounter = 0\n",
    "for video_folder_name in analysedVideoFolders:\n",
    "    ### check if every video has been analysed with every model ####\n",
    "    modelFolderPaths = [f.path for f in scandir(video_folder_name) if isdir(f)]\n",
    "    modelFolders = [f.split(\"/\")[-1] for f in modelFolderPaths]\n",
    "    if set(modelFolders) != set(foldersPerVideo):\n",
    "        print(video_folder_name, \"doesn't contain\", list(set(foldersPerVideo) - set(modelFolders)))\n",
    "        missingVideoCounter += 1\n",
    "    \n",
    "    ### check if every model has been completed ####\n",
    "    filesPerFolder = list(zip(map(lambda folder: len(listdir(folder)) ,modelFolderPaths),modelFolderPaths)) # take the number of files of each model folder\n",
    "    maxNumberOfFiles = max(filesPerFolder)[0]\n",
    "    for numberOfFiles,folderPath in filesPerFolder:\n",
    "        if numberOfFiles == 0 or numberOfFiles != maxNumberOfFiles:\n",
    "            print(\"incompleted folder {}\".format(folderPath))\n",
    "            missingVideoCounter += 1\n",
    "print(\"DONE!\")\n",
    "\n",
    "print(\"video done: {}\\nMissing {} videos\".format(len(analysedVideoFolders)-missingVideoCounter,missingVideoCounter))"
   ]
  },
  {
   "cell_type": "markdown",
   "metadata": {},
   "source": [
    "# Creation of Dataset"
   ]
  },
  {
   "cell_type": "code",
   "execution_count": 3,
   "metadata": {},
   "outputs": [],
   "source": [
    "import pickle\n",
    "import numpy as np\n",
    "import parse\n",
    "\n",
    "# A1. drink water.\n",
    "# A2. eat meal/snack.\n",
    "# A7. throw.\n",
    "# A8. sitting down.\n",
    "# A9. standing up (from sitting position).\n",
    "# A23. hand waving.\n",
    "# A31. pointing to something with finger.\n",
    "# A38. salute.\n",
    "# A49. use a fan (with hand or paper)/feeling warm.\n",
    "\n",
    "video_folder_format = \"S{:3d}C{:3d}P{:3d}R{:3d}A{:3d}_rgb\"\n",
    "ACTION_LABEL_SET = [1,2,7,8,9,31,49,23]\n",
    "# [\"A001\",\"A002\",\"A007\",\"A008\",\"A009\",\"A031\",\"A049\",\"A023\"]\n"
   ]
  },
  {
   "cell_type": "markdown",
   "metadata": {},
   "source": [
    "## PoseNet dataset"
   ]
  },
  {
   "cell_type": "markdown",
   "metadata": {},
   "source": [
    "Posenet predicts: <br>\n",
    "1 - nose <br>\n",
    "2 - leftEye <br>\n",
    "3 - rightEye <br>\n",
    "4 - leftEar <br>\n",
    "5 - rightEar <br>\n",
    "6 - leftShoulder <br>\n",
    "7 - rightShoulder <br>\n",
    "8 - leftElbow <br>\n",
    "9 - rightElbow <br>\n",
    "10 - leftWrist <br>\n",
    "11 - rightWrist <br>\n",
    "12 - leftHip <br>\n",
    "13 - rightHip <br>\n",
    "14 - leftKnee <br>\n",
    "15 - rightKnee <br>\n",
    "16 - leftAnkle <br>\n",
    "17 - rightAnkle"
   ]
  },
  {
   "cell_type": "code",
   "execution_count": 8,
   "metadata": {
    "scrolled": true
   },
   "outputs": [
    {
     "name": "stdout",
     "output_type": "stream",
     "text": [
      "0/8532\n",
      "100/8532\n",
      "200/8532\n",
      "300/8532\n",
      "400/8532\n",
      "500/8532\n",
      "600/8532\n",
      "700/8532\n",
      "800/8532\n",
      "900/8532\n",
      "1000/8532\n",
      "1100/8532\n",
      "1200/8532\n",
      "1300/8532\n",
      "1400/8532\n",
      "1500/8532\n",
      "1600/8532\n",
      "1700/8532\n",
      "1800/8532\n",
      "1900/8532\n",
      "2000/8532\n",
      "2100/8532\n",
      "2200/8532\n",
      "2300/8532\n",
      "2400/8532\n",
      "2500/8532\n",
      "2600/8532\n",
      "2700/8532\n",
      "2800/8532\n",
      "2900/8532\n",
      "3000/8532\n",
      "3100/8532\n",
      "3200/8532\n",
      "3300/8532\n",
      "3400/8532\n",
      "3500/8532\n",
      "3600/8532\n",
      "3700/8532\n",
      "3800/8532\n",
      "3900/8532\n",
      "4000/8532\n",
      "4100/8532\n",
      "4200/8532\n",
      "4300/8532\n",
      "4400/8532\n",
      "4500/8532\n",
      "4600/8532\n",
      "4700/8532\n",
      "4800/8532\n",
      "4900/8532\n",
      "5000/8532\n",
      "5100/8532\n",
      "5200/8532\n",
      "5300/8532\n",
      "5400/8532\n",
      "5500/8532\n",
      "5600/8532\n",
      "5700/8532\n",
      "5800/8532\n",
      "5900/8532\n",
      "6000/8532\n",
      "6100/8532\n",
      "6200/8532\n",
      "6300/8532\n",
      "6400/8532\n",
      "6500/8532\n",
      "6600/8532\n",
      "6700/8532\n",
      "6800/8532\n",
      "6900/8532\n",
      "7000/8532\n",
      "7100/8532\n",
      "7200/8532\n",
      "7300/8532\n",
      "7400/8532\n",
      "7500/8532\n",
      "7600/8532\n",
      "7700/8532\n",
      "7800/8532\n",
      "7900/8532\n",
      "8000/8532\n",
      "8100/8532\n",
      "8200/8532\n",
      "8300/8532\n",
      "8400/8532\n",
      "8500/8532\n",
      "Done!\n"
     ]
    }
   ],
   "source": [
    "poseNetModelName = \"PoseNet-101\"\n",
    "densePoseDatasetName = DATASET_FOLDER+poseNetModelName+\"-dataset.pickle\"\n",
    "videoFeaturesList = []\n",
    "videoLabelsList = []\n",
    "videoSetupList = []\n",
    "videoCameraList = []\n",
    "videoPerformerList = []\n",
    "videoReplicationList = []\n",
    "\n",
    "for i,avf in enumerate(analysedVideoFolders):\n",
    "    if i% 100 == 0:\n",
    "        print(\"{}/{}\".format(i, len(analysedVideoFolders)))\n",
    "    \n",
    "    # retrieve the target label from folder name\n",
    "    setup, camera, performer, replication, target = parse.parse(video_folder_format,avf.split(\"/\")[-1])\n",
    "    \n",
    "    if target not in ACTION_LABEL_SET:\n",
    "        continue\n",
    "    \n",
    "    poseNet_folder = avf + \"/\"+ poseNetModelName\n",
    "    pose_scores_video = []\n",
    "#     keypoint_scores_video = [] # ignoring for now\n",
    "    keypoint_coords_video = []\n",
    "    framesInFolder = [f for f in listdir(poseNet_folder)]\n",
    "    framesInFolder.sort() # must be sorted to have the frame in the correct order   \n",
    "    for frame_file in framesInFolder:\n",
    "        with open(poseNet_folder+\"/\"+frame_file,'rb') as file_in:\n",
    "            pose_scores, keypoint_scores, keypoint_coords = pickle.load(file_in)\n",
    "        pose_scores_video.append(pose_scores)\n",
    "#         keypoint_scores_video.append(keypoint_scores) # for now ignoring the keypoints Scores\n",
    "        keypoint_coords_video.append(keypoint_coords)\n",
    "    \n",
    "    # find the pose that along the whole video is the \"surest\"\n",
    "    bestPoseIndex = np.argmax(np.mean(pose_scores_video, axis=0)) \n",
    "    \n",
    "    # retrieving the keypoint coordinates for the best pose\n",
    "    bestPoseKeypointCoords = [k[bestPoseIndex] for k in keypoint_coords_video] \n",
    "    \n",
    "    \n",
    "    videoFeaturesList.append(bestPoseKeypointCoords)\n",
    "    videoLabelsList.append(target)\n",
    "    videoSetupList.append(setup)\n",
    "    videoCameraList.append(camera)\n",
    "    videoPerformerList.append(performer)\n",
    "    videoReplicationList.append(replication)\n",
    "\n",
    "    \n",
    "# saving dataset WITHOUT PADDING\n",
    "videoFeatures = np.asarray(videoFeaturesList)\n",
    "videoLabels = np.asarray(videoLabelsList)\n",
    "videoSetups = np.asarray(videoSetupList)\n",
    "videoCameras= np.asarray(videoCameraList)\n",
    "videoPerformers = np.asarray(videoPerformerList)\n",
    "videoReplications = np.asarray(videoReplicationList)\n",
    "\n",
    "with open(densePoseDatasetName, 'wb') as handle:\n",
    "    pickle.dump((videoFeatures, \n",
    "                 videoLabels,\n",
    "                 videoSetups,\n",
    "                 videoCameras,\n",
    "                 videoPerformers,\n",
    "                 videoReplications), handle, protocol=pickle.HIGHEST_PROTOCOL)\n",
    "          \n",
    "print(\"Done!\")"
   ]
  },
  {
   "cell_type": "code",
   "execution_count": 9,
   "metadata": {},
   "outputs": [],
   "source": [
    "poseNetModelName = \"PoseNet-101\"\n",
    "densePoseDatasetName = DATASET_FOLDER+poseNetModelName+\"-dataset.pickle\"\n",
    "with open(densePoseDatasetName,'rb') as file_in:\n",
    "    readFeatures, readLabels, readSetups, readCameras, readPerformers, readReplications = pickle.load(file_in)"
   ]
  },
  {
   "cell_type": "code",
   "execution_count": 10,
   "metadata": {},
   "outputs": [
    {
     "data": {
      "text/plain": [
       "7584"
      ]
     },
     "execution_count": 10,
     "metadata": {},
     "output_type": "execute_result"
    }
   ],
   "source": [
    "len(readLabels) "
   ]
  },
  {
   "cell_type": "markdown",
   "metadata": {},
   "source": [
    "## Detectron2 dataset"
   ]
  },
  {
   "cell_type": "markdown",
   "metadata": {},
   "source": [
    "Detectron2 predicts: <br>\n",
    "1 - nose <br>\n",
    "2 - left_eye <br>\n",
    "3 - right_eye <br>\n",
    "4 - left_ear <br>\n",
    "5 - right_ear <br>\n",
    "6 - left_shoulder <br>\n",
    "7 - right_shoulder <br>\n",
    "8 - left_elbow <br>\n",
    "9 - right_elbow <br>\n",
    "10 - left_wrist <br>\n",
    "11 - right_wrist <br>\n",
    "12 - left_hip <br>\n",
    "13 - right_hip <br>\n",
    "14 - left_knee <br>\n",
    "15 - right_knee <br>\n",
    "16 - left_ankle <br>\n",
    "17 - right_ankle"
   ]
  },
  {
   "cell_type": "code",
   "execution_count": 11,
   "metadata": {},
   "outputs": [],
   "source": [
    "import os\n",
    "os.environ[\"CUDA_DEVICE_ORDER\"]=\"PCI_BUS_ID\"\n",
    "os.environ[\"CUDA_VISIBLE_DEVICES\"] = \"2\""
   ]
  },
  {
   "cell_type": "code",
   "execution_count": 12,
   "metadata": {},
   "outputs": [
    {
     "name": "stdout",
     "output_type": "stream",
     "text": [
      "1.3.1\n"
     ]
    }
   ],
   "source": [
    "import cv2\n",
    "import parse\n",
    "import pickle\n",
    "import torch, torchvision\n",
    "print(torch.__version__)\n",
    "# You may need to restart your runtime prior to this, to let your installation take effect\n",
    "# Some basic setup\n",
    "# Setup detectron2 logger\n",
    "import detectron2\n",
    "from detectron2.utils.logger import setup_logger\n",
    "setup_logger()\n",
    "\n",
    "# import some common libraries\n",
    "import numpy as np\n",
    "#from google.colab.patches import cv2_imshow\n",
    "\n",
    "# import some common detectron2 utilities\n",
    "from detectron2.engine import DefaultPredictor\n",
    "from detectron2.config import get_cfg\n",
    "from detectron2.utils.visualizer import Visualizer\n",
    "from detectron2.data import MetadataCatalog"
   ]
  },
  {
   "cell_type": "code",
   "execution_count": 13,
   "metadata": {
    "scrolled": true
   },
   "outputs": [
    {
     "name": "stdout",
     "output_type": "stream",
     "text": [
      "0/8532\n",
      "100/8532\n",
      "200/8532\n",
      "300/8532\n",
      "400/8532\n",
      "500/8532\n",
      "600/8532\n",
      "700/8532\n",
      "800/8532\n",
      "900/8532\n",
      "1000/8532\n",
      "1100/8532\n",
      "1200/8532\n",
      "1300/8532\n",
      "1400/8532\n",
      "1500/8532\n",
      "1600/8532\n",
      "1700/8532\n",
      "1800/8532\n",
      "1900/8532\n",
      "2000/8532\n",
      "2100/8532\n",
      "2200/8532\n",
      "2300/8532\n",
      "2400/8532\n",
      "2500/8532\n",
      "2600/8532\n",
      "2700/8532\n",
      "2800/8532\n",
      "2900/8532\n",
      "3000/8532\n",
      "3100/8532\n",
      "3200/8532\n",
      "3300/8532\n",
      "3400/8532\n",
      "3500/8532\n",
      "3600/8532\n",
      "3700/8532\n",
      "3800/8532\n",
      "3900/8532\n",
      "4000/8532\n",
      "4100/8532\n",
      "4200/8532\n",
      "4300/8532\n",
      "4400/8532\n",
      "4500/8532\n",
      "4600/8532\n",
      "4700/8532\n",
      "4800/8532\n",
      "4900/8532\n",
      "5000/8532\n",
      "5100/8532\n",
      "5200/8532\n",
      "5300/8532\n",
      "5400/8532\n",
      "5500/8532\n",
      "5600/8532\n",
      "5700/8532\n",
      "5800/8532\n",
      "5900/8532\n",
      "6000/8532\n",
      "6100/8532\n",
      "6200/8532\n",
      "6300/8532\n",
      "6400/8532\n",
      "6500/8532\n",
      "6600/8532\n",
      "6700/8532\n",
      "6800/8532\n",
      "6900/8532\n",
      "7000/8532\n",
      "7100/8532\n",
      "7200/8532\n",
      "7300/8532\n",
      "7400/8532\n",
      "7500/8532\n",
      "7600/8532\n",
      "7700/8532\n",
      "7800/8532\n",
      "7900/8532\n",
      "8000/8532\n",
      "8100/8532\n",
      "8200/8532\n",
      "8300/8532\n",
      "8400/8532\n",
      "8500/8532\n",
      "Done!\n"
     ]
    }
   ],
   "source": [
    "detectron2ModelName = \"keypoint_rcnn_X_101_32x8d_FPN_3x\"\n",
    "detectron2datasetName = DATASET_FOLDER+detectron2ModelName+\"-dataset.pickle\"\n",
    "videoFeaturesList = []\n",
    "videoLabelsList = []\n",
    "videoSetupList = []\n",
    "videoCameraList = []\n",
    "videoPerformerList = []\n",
    "videoReplicationList = []\n",
    "for i, avf in enumerate(analysedVideoFolders):\n",
    "    if i% 100 == 0:\n",
    "        print(\"{}/{}\".format(i, len(analysedVideoFolders)))\n",
    "        \n",
    "    # retrieve the target label from folder name\n",
    "    setup, camera, performer, replication, target = parse.parse(video_folder_format,avf.split(\"/\")[-1])\n",
    "    \n",
    "    if target not in ACTION_LABEL_SET:\n",
    "        continue\n",
    "        \n",
    "    detectron2_folder = avf + \"/Detectron2-\"+ detectron2ModelName\n",
    "    framesInFolder = [f for f in listdir(detectron2_folder)]\n",
    "    framesInFolder.sort() # must be sorted to have the frame in the correct order   \n",
    "    keypoints_video = []\n",
    "    for frame_file in framesInFolder:\n",
    "        with open(detectron2_folder+\"/\"+frame_file,'rb') as file_in:\n",
    "            outputsRead = pickle.load(file_in)\n",
    "#         if len(outputsRead['instances']) > 1:\n",
    "#             print(detectron2_folder+\"/\"+frame_file, \"has more than 1 pose\")\n",
    "\n",
    "        instancesFields = outputsRead['instances'].get_fields()\n",
    "\n",
    "        # get only the most sure pose (Detectron sorts them for us)\n",
    "        keypoints_frame = np.array(instancesFields['pred_keypoints'][0].cpu()) \n",
    "        keypoints_frame = [[k[0],k[1]] for k in keypoints_frame] #removing the third value (which I still didn't understand what it means)\n",
    "        keypoints_video.append(keypoints_frame)\n",
    "\n",
    "    videoFeaturesList.append(keypoints_video)\n",
    "    videoLabelsList.append(target)\n",
    "    videoSetupList.append(setup)\n",
    "    videoCameraList.append(camera)\n",
    "    videoPerformerList.append(performer)\n",
    "    videoReplicationList.append(replication)\n",
    "\n",
    "# saving dataset WITHOUT PADDING\n",
    "videoFeatures = np.asarray(videoFeaturesList)\n",
    "videoLabels = np.asarray(videoLabelsList)\n",
    "videoSetups = np.asarray(videoSetupList)\n",
    "videoCameras = np.asarray(videoCameraList)\n",
    "videoPerformers = np.asarray(videoPerformerList)\n",
    "videoReplications = np.asarray(videoReplicationList)\n",
    "\n",
    "with open(detectron2datasetName, 'wb') as handle:\n",
    "    pickle.dump((videoFeatures, \n",
    "                 videoLabels,\n",
    "                 videoSetups,\n",
    "                 videoCameras,\n",
    "                 videoPerformers,\n",
    "                 videoReplications), handle, protocol=pickle.HIGHEST_PROTOCOL)\n",
    "         \n",
    "print(\"Done!\")"
   ]
  },
  {
   "cell_type": "code",
   "execution_count": 82,
   "metadata": {},
   "outputs": [
    {
     "data": {
      "text/plain": [
       "(array([10]), array([3]), array([17]), array([1]))"
      ]
     },
     "execution_count": 82,
     "metadata": {},
     "output_type": "execute_result"
    }
   ],
   "source": [
    "# videoFeatures.shape\n",
    "# keypoints_frame_new = [[k[0],k[1]] for k in keypoints_frame]\n",
    "# keypoints_frame_new\n",
    "# keypoints_frame\n",
    "# videoSetups,videoCameras,videoPerformers,videoReplications"
   ]
  },
  {
   "cell_type": "code",
   "execution_count": 14,
   "metadata": {},
   "outputs": [
    {
     "data": {
      "text/plain": [
       "7584"
      ]
     },
     "execution_count": 14,
     "metadata": {},
     "output_type": "execute_result"
    }
   ],
   "source": [
    "detectron2ModelName = \"keypoint_rcnn_X_101_32x8d_FPN_3x\"\n",
    "detectron2datasetName = DATASET_FOLDER+detectron2ModelName+\"-dataset.pickle\"\n",
    "with open(detectron2datasetName,'rb') as file_in:\n",
    "    readFeaturesD2, readLabelsD2, readSetupsD2, readCamerasD2, readPerformersD2, readReplicationsD2 = pickle.load(file_in)\n",
    "len(readLabelsD2)"
   ]
  },
  {
   "cell_type": "markdown",
   "metadata": {},
   "source": [
    "# splitting dataset in train-val-test"
   ]
  },
  {
   "cell_type": "code",
   "execution_count": 37,
   "metadata": {},
   "outputs": [],
   "source": [
    "from sklearn.model_selection import StratifiedShuffleSplit\n",
    "import pickle\n",
    "\n",
    "TEST_SIZE = 0.1\n",
    "VAL_SIZE = 0.2\n",
    "modelNames = [\"PoseNet-101\",\"keypoint_rcnn_X_101_32x8d_FPN_3x\"]\n",
    "for modelName in modelNames:\n",
    "    datasetName = DATASET_FOLDER+modelName+\"-dataset.pickle\"\n",
    "    with open(datasetName,'rb') as file_in:\n",
    "        readFeatures, readLabels, readSetups, readCameras, readPerformers, readReplications = pickle.load(file_in)\n",
    "\n",
    "    readOnes = [readFeatures, readLabels, readSetups, readCameras, readPerformers, readReplications]\n",
    "    # TRAIN-TEST splitting\n",
    "    sss = StratifiedShuffleSplit(n_splits=1, test_size=TEST_SIZE)\n",
    "    for train_idx, test_idx in sss.split(readFeatures, readLabels):\n",
    "        trainValSet = [el[train_idx] for el in readOnes]\n",
    "        testSet = [el[test_idx] for el in readOnes]\n",
    "    # TRAIN-VAL splitting\n",
    "    sss = StratifiedShuffleSplit(n_splits=1, test_size=VAL_SIZE)\n",
    "    for train_idx, val_idx in sss.split(trainValSet[0], trainValSet[1]):\n",
    "        trainSet = [el[train_idx] for el in trainValSet]\n",
    "        valSet = [el[val_idx] for el in trainValSet]\n",
    "        \n",
    "    with open(DATASET_FOLDER+modelName+\"-SPLIT-dataset.pickle\", 'wb') as handle:\n",
    "        pickle.dump((trainSet, valSet, testSet), handle, protocol=pickle.HIGHEST_PROTOCOL)\n",
    "\n"
   ]
  },
  {
   "cell_type": "code",
   "execution_count": 40,
   "metadata": {},
   "outputs": [],
   "source": [
    "with open(DATASET_FOLDER+\"keypoint_rcnn_X_101_32x8d_FPN_3x-SPLIT-dataset.pickle\",'rb') as file_in:\n",
    "    read_train_set, read_val_set, read_test_set = pickle.load(file_in)\n"
   ]
  },
  {
   "cell_type": "code",
   "execution_count": 41,
   "metadata": {},
   "outputs": [
    {
     "data": {
      "text/plain": [
       "7584"
      ]
     },
     "execution_count": 41,
     "metadata": {},
     "output_type": "execute_result"
    }
   ],
   "source": [
    "len(read_train_set[0])+len(read_val_set[0])+len(read_test_set[0])"
   ]
  },
  {
   "cell_type": "code",
   "execution_count": 42,
   "metadata": {},
   "outputs": [
    {
     "data": {
      "text/plain": [
       "(5460, 1365, 759)"
      ]
     },
     "execution_count": 42,
     "metadata": {},
     "output_type": "execute_result"
    }
   ],
   "source": [
    "len(read_train_set[0]), len(read_val_set[0]), len(read_test_set[0])"
   ]
  },
  {
   "cell_type": "code",
   "execution_count": 90,
   "metadata": {},
   "outputs": [
    {
     "data": {
      "image/png": "[encoded data removed]",
      "text/plain": [
       "<Figure size 1080x720 with 15 Axes>"
      ]
     },
     "metadata": {},
     "output_type": "display_data"
    }
   ],
   "source": [
    "import matplotlib.pyplot as plt\n",
    "\n",
    "xLabels = [\"labels\", \"setups\", \"cameras\", \"performers\", \"replications\"]\n",
    "yLabels = [\"trainig\", \"validation\", \"test\"]\n",
    "fig, axes = plt.subplots(nrows=3, ncols=5)\n",
    "fig.set_size_inches(15,10)\n",
    "for ids, dataSet in enumerate([read_train_set, read_val_set, read_test_set]):\n",
    "    axes[ids][0].set_ylabel(yLabels[ids],fontsize = 15)\n",
    "    for iid, data in enumerate(dataSet[1:]):\n",
    "        axes[ids][iid].set_xlabel(xLabels[iid],fontsize = 10)\n",
    "        axes[ids][iid].hist(data, bins = max(data))\n",
    "fig.tight_layout()\n",
    "plt.show()\n",
    "        "
   ]
  },
  {
   "cell_type": "markdown",
   "metadata": {},
   "source": [
    "# splitting dataset in same train-val-test for every model"
   ]
  },
  {
   "cell_type": "code",
   "execution_count": 44,
   "metadata": {},
   "outputs": [
    {
     "ename": "AttributeError",
     "evalue": "'numpy.ndarray' object has no attribute 'index'",
     "output_type": "error",
     "traceback": [
      "\u001b[0;31m---------------------------------------------------------------------------\u001b[0m",
      "\u001b[0;31mAttributeError\u001b[0m                            Traceback (most recent call last)",
      "\u001b[0;32m<ipython-input-44-6effcb07a53d>\u001b[0m in \u001b[0;36m<module>\u001b[0;34m()\u001b[0m\n\u001b[1;32m     25\u001b[0m \u001b[0;34m\u001b[0m\u001b[0m\n\u001b[1;32m     26\u001b[0m \u001b[0;31m# get the indexes of train-val-test elements\u001b[0m\u001b[0;34m\u001b[0m\u001b[0;34m\u001b[0m\u001b[0;34m\u001b[0m\u001b[0m\n\u001b[0;32m---> 27\u001b[0;31m \u001b[0mtrain_idx\u001b[0m \u001b[0;34m=\u001b[0m \u001b[0;34m[\u001b[0m\u001b[0mhashListGlobal\u001b[0m\u001b[0;34m.\u001b[0m\u001b[0mindex\u001b[0m\u001b[0;34m(\u001b[0m\u001b[0mel\u001b[0m\u001b[0;34m)\u001b[0m \u001b[0;32mfor\u001b[0m \u001b[0mel\u001b[0m \u001b[0;32min\u001b[0m \u001b[0mhashListTrain\u001b[0m\u001b[0;34m]\u001b[0m\u001b[0;34m\u001b[0m\u001b[0;34m\u001b[0m\u001b[0m\n\u001b[0m\u001b[1;32m     28\u001b[0m \u001b[0mval_idx\u001b[0m \u001b[0;34m=\u001b[0m \u001b[0;34m[\u001b[0m\u001b[0mhashListGlobal\u001b[0m\u001b[0;34m.\u001b[0m\u001b[0mindex\u001b[0m\u001b[0;34m(\u001b[0m\u001b[0mel\u001b[0m\u001b[0;34m)\u001b[0m \u001b[0;32mfor\u001b[0m \u001b[0mel\u001b[0m \u001b[0;32min\u001b[0m \u001b[0mhashListVal\u001b[0m\u001b[0;34m]\u001b[0m\u001b[0;34m\u001b[0m\u001b[0;34m\u001b[0m\u001b[0m\n\u001b[1;32m     29\u001b[0m \u001b[0mtest_idx\u001b[0m \u001b[0;34m=\u001b[0m \u001b[0;34m[\u001b[0m\u001b[0mhashListGlobal\u001b[0m\u001b[0;34m.\u001b[0m\u001b[0mindex\u001b[0m\u001b[0;34m(\u001b[0m\u001b[0mel\u001b[0m\u001b[0;34m)\u001b[0m \u001b[0;32mfor\u001b[0m \u001b[0mel\u001b[0m \u001b[0;32min\u001b[0m \u001b[0mhashListTest\u001b[0m\u001b[0;34m]\u001b[0m\u001b[0;34m\u001b[0m\u001b[0;34m\u001b[0m\u001b[0m\n",
      "\u001b[0;32m<ipython-input-44-6effcb07a53d>\u001b[0m in \u001b[0;36m<listcomp>\u001b[0;34m(.0)\u001b[0m\n\u001b[1;32m     25\u001b[0m \u001b[0;34m\u001b[0m\u001b[0m\n\u001b[1;32m     26\u001b[0m \u001b[0;31m# get the indexes of train-val-test elements\u001b[0m\u001b[0;34m\u001b[0m\u001b[0;34m\u001b[0m\u001b[0;34m\u001b[0m\u001b[0m\n\u001b[0;32m---> 27\u001b[0;31m \u001b[0mtrain_idx\u001b[0m \u001b[0;34m=\u001b[0m \u001b[0;34m[\u001b[0m\u001b[0mhashListGlobal\u001b[0m\u001b[0;34m.\u001b[0m\u001b[0mindex\u001b[0m\u001b[0;34m(\u001b[0m\u001b[0mel\u001b[0m\u001b[0;34m)\u001b[0m \u001b[0;32mfor\u001b[0m \u001b[0mel\u001b[0m \u001b[0;32min\u001b[0m \u001b[0mhashListTrain\u001b[0m\u001b[0;34m]\u001b[0m\u001b[0;34m\u001b[0m\u001b[0;34m\u001b[0m\u001b[0m\n\u001b[0m\u001b[1;32m     28\u001b[0m \u001b[0mval_idx\u001b[0m \u001b[0;34m=\u001b[0m \u001b[0;34m[\u001b[0m\u001b[0mhashListGlobal\u001b[0m\u001b[0;34m.\u001b[0m\u001b[0mindex\u001b[0m\u001b[0;34m(\u001b[0m\u001b[0mel\u001b[0m\u001b[0;34m)\u001b[0m \u001b[0;32mfor\u001b[0m \u001b[0mel\u001b[0m \u001b[0;32min\u001b[0m \u001b[0mhashListVal\u001b[0m\u001b[0;34m]\u001b[0m\u001b[0;34m\u001b[0m\u001b[0;34m\u001b[0m\u001b[0m\n\u001b[1;32m     29\u001b[0m \u001b[0mtest_idx\u001b[0m \u001b[0;34m=\u001b[0m \u001b[0;34m[\u001b[0m\u001b[0mhashListGlobal\u001b[0m\u001b[0;34m.\u001b[0m\u001b[0mindex\u001b[0m\u001b[0;34m(\u001b[0m\u001b[0mel\u001b[0m\u001b[0;34m)\u001b[0m \u001b[0;32mfor\u001b[0m \u001b[0mel\u001b[0m \u001b[0;32min\u001b[0m \u001b[0mhashListTest\u001b[0m\u001b[0;34m]\u001b[0m\u001b[0;34m\u001b[0m\u001b[0;34m\u001b[0m\u001b[0m\n",
      "\u001b[0;31mAttributeError\u001b[0m: 'numpy.ndarray' object has no attribute 'index'"
     ]
    }
   ],
   "source": [
    "from sklearn.model_selection import StratifiedShuffleSplit\n",
    "import pickle\n",
    "import numpy as np \n",
    "\n",
    "def getHashList(labels, setups, cameras, performers, replications):\n",
    "    hashList = np.zeros(len(labels))\n",
    "    for i in range(len(hashList)):\n",
    "        hashList[i] = hash(str(labels[i])+str(setups[i])+str(cameras[i])+str(performers[i])+str(replications[i]))\n",
    "    return hashList\n",
    "\n",
    "# LOADING \"keypoint_rcnn_X_101_32x8d_FPN_3x\" AS REFERENCE\n",
    "with open(DATASET_FOLDER+\"keypoint_rcnn_X_101_32x8d_FPN_3x-SPLIT-dataset.pickle\",\"rb\") as file_in:\n",
    "        trainSet_ref, valSet_ref, testSet_ref = pickle.load(file_in)\n",
    "\n",
    "hashListTrain = getHashList(*trainSet_ref[1:])\n",
    "hashListVal = getHashList(*valSet_ref[1:])\n",
    "hashListTest = getHashList(*testSet_ref[1:])\n",
    "\n",
    "# ADAPTING \"PoseNet-101\" following the reference\n",
    "with open(DATASET_FOLDER+\"PoseNet-101-dataset.pickle\",\"rb\") as file_in:\n",
    "    readFeatures, readLabels, readSetups, readCameras, readPerformers, readReplications = pickle.load(file_in)\n",
    "\n",
    "readOnes = [readFeatures, readLabels, readSetups, readCameras, readPerformers, readReplications]\n",
    "hashListGlobal = getHashList(*readOnes[1:])\n",
    "\n",
    "# get the indexes of train-val-test elements\n",
    "train_idx = [hashListGlobal.index(el) for el in hashListTrain]\n",
    "val_idx = [hashListGlobal.index(el) for el in hashListVal]\n",
    "test_idx = [hashListGlobal.index(el) for el in hashListTest]\n",
    "\n",
    "# creating the train-val-test set following the previously calculated indexes\n",
    "trainSet = [el[train_idx] for el in readOnes]\n",
    "valSet = [el[val_idx] for el in readOnes]\n",
    "testSet = [el[test_idx] for el in readOnes]\n",
    "\n",
    "\n",
    "with open(DATASET_FOLDER+\"PoseNet-101-SPLIT_AS_DETECTRON-dataset.pickle\", 'wb') as handle:\n",
    "    pickle.dump((trainSet, valSet, testSet), handle, protocol=pickle.HIGHEST_PROTOCOL)\n",
    "\n",
    "print(\"DONE!\")"
   ]
  },
  {
   "cell_type": "code",
   "execution_count": 43,
   "metadata": {},
   "outputs": [
    {
     "data": {
      "text/plain": [
       "'/data/students_home/amoscatelli/Desktop/actionAnalysis/datasets/PoseNet-101-SPLIT_AS_DETECTRON-dataset.pickle'"
      ]
     },
     "execution_count": 43,
     "metadata": {},
     "output_type": "execute_result"
    }
   ],
   "source": [
    "DATASET_FOLDER+\"PoseNet-101-SPLIT_AS_DETECTRON-dataset.pickle\""
   ]
  },
  {
   "cell_type": "code",
   "execution_count": null,
   "metadata": {},
   "outputs": [],
   "source": [
    "def getStringList(labels, setups, cameras, performers, replications):\n",
    "    strList = np.zeros(len(labels))\n",
    "    for i in range(len(strList)):\n",
    "        strList[i] = \"{} {} {} {} {}\".format(labels[i],setups[i],cameras[i],performers[i],replications[i])\n",
    "    return strList"
   ]
  },
  {
   "cell_type": "code",
   "execution_count": null,
   "metadata": {},
   "outputs": [],
   "source": [
    "3+2"
   ]
  },
  {
   "cell_type": "code",
   "execution_count": 30,
   "metadata": {},
   "outputs": [],
   "source": [
    "def getHashList(labels, setups, cameras, performers, replications):\n",
    "    hashList = np.zeros(len(labels))\n",
    "    for i in range(len(hashList)):\n",
    "        hashList[i] = hash(str(labels[i])+\" \"+\n",
    "                           str(setups[i])+\" \"+\n",
    "                           str(cameras[i])+\" \"+\n",
    "                           str(performers[i])+\" \"+\n",
    "                           str(replications[i]))\n",
    "    return hashList"
   ]
  },
  {
   "cell_type": "code",
   "execution_count": 36,
   "metadata": {},
   "outputs": [
    {
     "ename": "IndexError",
     "evalue": "tuple index out of range",
     "output_type": "error",
     "traceback": [
      "\u001b[0;31m---------------------------------------------------------------------------\u001b[0m",
      "\u001b[0;31mIndexError\u001b[0m                                Traceback (most recent call last)",
      "\u001b[0;32m<ipython-input-36-348eb082bece>\u001b[0m in \u001b[0;36m<module>\u001b[0;34m()\u001b[0m\n\u001b[1;32m      5\u001b[0m \u001b[0;31m#         trainSet_ref, valSet_ref, testSet_ref = pickle.load(file_in)\u001b[0m\u001b[0;34m\u001b[0m\u001b[0;34m\u001b[0m\u001b[0;34m\u001b[0m\u001b[0m\n\u001b[1;32m      6\u001b[0m \u001b[0;34m\u001b[0m\u001b[0m\n\u001b[0;32m----> 7\u001b[0;31m \u001b[0mres\u001b[0m \u001b[0;34m=\u001b[0m \u001b[0mgetStringList\u001b[0m\u001b[0;34m(\u001b[0m\u001b[0;34m*\u001b[0m\u001b[0mtrainSet_ref\u001b[0m\u001b[0;34m[\u001b[0m\u001b[0;36m1\u001b[0m\u001b[0;34m:\u001b[0m\u001b[0;34m]\u001b[0m\u001b[0;34m)\u001b[0m\u001b[0;34m\u001b[0m\u001b[0;34m\u001b[0m\u001b[0m\n\u001b[0m",
      "\u001b[0;32m<ipython-input-35-d95f6648b511>\u001b[0m in \u001b[0;36mgetStringList\u001b[0;34m(labels, setups, cameras, performers, replications)\u001b[0m\n\u001b[1;32m      2\u001b[0m     \u001b[0mstrList\u001b[0m \u001b[0;34m=\u001b[0m \u001b[0mnp\u001b[0m\u001b[0;34m.\u001b[0m\u001b[0mzeros\u001b[0m\u001b[0;34m(\u001b[0m\u001b[0mlen\u001b[0m\u001b[0;34m(\u001b[0m\u001b[0mlabels\u001b[0m\u001b[0;34m)\u001b[0m\u001b[0;34m)\u001b[0m\u001b[0;34m\u001b[0m\u001b[0;34m\u001b[0m\u001b[0m\n\u001b[1;32m      3\u001b[0m     \u001b[0;32mfor\u001b[0m \u001b[0mi\u001b[0m \u001b[0;32min\u001b[0m \u001b[0mrange\u001b[0m\u001b[0;34m(\u001b[0m\u001b[0mlen\u001b[0m\u001b[0;34m(\u001b[0m\u001b[0mstrList\u001b[0m\u001b[0;34m)\u001b[0m\u001b[0;34m)\u001b[0m\u001b[0;34m:\u001b[0m\u001b[0;34m\u001b[0m\u001b[0;34m\u001b[0m\u001b[0m\n\u001b[0;32m----> 4\u001b[0;31m         \u001b[0mstrList\u001b[0m\u001b[0;34m[\u001b[0m\u001b[0mi\u001b[0m\u001b[0;34m]\u001b[0m \u001b[0;34m=\u001b[0m \u001b[0;34m\"{} {} {} {} {}\"\u001b[0m\u001b[0;34m.\u001b[0m\u001b[0mformat\u001b[0m\u001b[0;34m(\u001b[0m\u001b[0mstr\u001b[0m\u001b[0;34m(\u001b[0m\u001b[0mlabels\u001b[0m\u001b[0;34m[\u001b[0m\u001b[0mi\u001b[0m\u001b[0;34m]\u001b[0m\u001b[0;34m)\u001b[0m\u001b[0;34m+\u001b[0m\u001b[0mstr\u001b[0m\u001b[0;34m(\u001b[0m\u001b[0msetups\u001b[0m\u001b[0;34m[\u001b[0m\u001b[0mi\u001b[0m\u001b[0;34m]\u001b[0m\u001b[0;34m)\u001b[0m\u001b[0;34m+\u001b[0m\u001b[0mstr\u001b[0m\u001b[0;34m(\u001b[0m\u001b[0mcameras\u001b[0m\u001b[0;34m[\u001b[0m\u001b[0mi\u001b[0m\u001b[0;34m]\u001b[0m\u001b[0;34m)\u001b[0m\u001b[0;34m+\u001b[0m\u001b[0mstr\u001b[0m\u001b[0;34m(\u001b[0m\u001b[0mperformers\u001b[0m\u001b[0;34m[\u001b[0m\u001b[0mi\u001b[0m\u001b[0;34m]\u001b[0m\u001b[0;34m)\u001b[0m\u001b[0;34m+\u001b[0m\u001b[0mstr\u001b[0m\u001b[0;34m(\u001b[0m\u001b[0mreplications\u001b[0m\u001b[0;34m[\u001b[0m\u001b[0mi\u001b[0m\u001b[0;34m]\u001b[0m\u001b[0;34m)\u001b[0m\u001b[0;34m)\u001b[0m\u001b[0;34m\u001b[0m\u001b[0;34m\u001b[0m\u001b[0m\n\u001b[0m\u001b[1;32m      5\u001b[0m     \u001b[0;32mreturn\u001b[0m \u001b[0mstrList\u001b[0m\u001b[0;34m\u001b[0m\u001b[0;34m\u001b[0m\u001b[0m\n",
      "\u001b[0;31mIndexError\u001b[0m: tuple index out of range"
     ]
    }
   ],
   "source": [
    "import pickle\n",
    "import numpy as np\n",
    "\n",
    "# with open(DATASET_FOLDER+\"keypoint_rcnn_X_101_32x8d_FPN_3x-SPLIT-dataset.pickle\",\"rb\") as file_in:\n",
    "#         trainSet_ref, valSet_ref, testSet_ref = pickle.load(file_in)\n",
    "\n",
    "res = getStringList(*trainSet_ref[1:])"
   ]
  },
  {
   "cell_type": "code",
   "execution_count": 13,
   "metadata": {},
   "outputs": [
    {
     "data": {
      "text/plain": [
       "(array([2]),)"
      ]
     },
     "execution_count": 13,
     "metadata": {},
     "output_type": "execute_result"
    }
   ],
   "source": [
    "np.where(res == res[2])\n",
    "# res[2],res[83]"
   ]
  },
  {
   "cell_type": "code",
   "execution_count": 23,
   "metadata": {},
   "outputs": [],
   "source": [
    "from collections import Counter\n",
    "counter = Counter(res)"
   ]
  },
  {
   "cell_type": "code",
   "execution_count": 29,
   "metadata": {},
   "outputs": [
    {
     "data": {
      "text/plain": [
       "<bound method Counter.most_common of Counter({233182.0: 2, 233181.0: 2, 231171.0: 2, 232181.0: 2, 231151.0: 2, 231181.0: 2, 232191.0: 2, 232172.0: 2, 753172.0: 1, 2371182.0: 1, 2382252.0: 1, 182311.0: 1, 3173262.0: 1, 113372.0: 1, 3132192.0: 1, 319382.0: 1, 151152.0: 1, 714181.0: 1, 783351.0: 1, 2363231.0: 1, 712282.0: 1, 7113382.0: 1, 4952172.0: 1, 2313272.0: 1, 236112.0: 1, 852171.0: 1, 2391162.0: 1, 952162.0: 1, 811372.0: 1, 31101172.0: 1, 7161252.0: 1, 23162391.0: 1, 49133281.0: 1, 1131282.0: 1, 11211.0: 1, 2112151.0: 1, 21351.0: 1, 9121172.0: 1, 2381192.0: 1, 3182311.0: 1, 781312.0: 1, 791191.0: 1, 14382.0: 1, 92182.0: 1, 49173172.0: 1, 7103132.0: 1, 3117381.0: 1, 992161.0: 1, 23173201.0: 1, 8103152.0: 1, 851212.0: 1, 1153162.0: 1, 93312.0: 1, 2141172.0: 1, 7151172.0: 1, 2171151.0: 1, 921131.0: 1, 3115282.0: 1, 2351212.0: 1, 49133251.0: 1, 952172.0: 1, 7153171.0: 1, 312371.0: 1, 23101171.0: 1, 72282.0: 1, 313312.0: 1, 71121.0: 1, 23132372.0: 1, 2363171.0: 1, 2123281.0: 1, 221112.0: 1, 31122192.0: 1, 214272.0: 1, 7151162.0: 1, 82171.0: 1, 813382.0: 1, 12372.0: 1, 271251.0: 1, 951102.0: 1, 1111382.0: 1, 77212.0: 1, 3182331.0: 1, 781301.0: 1, 2323112.0: 1, 773251.0: 1, 4912282.0: 1, 1103152.0: 1, 961152.0: 1, 2132281.0: 1, 2111252.0: 1, 931162.0: 1, 2314381.0: 1, 4981352.0: 1, 9131152.0: 1, 89182.0: 1, 9122372.0: 1, 1171162.0: 1, 1103182.0: 1, 2383362.0: 1, 882152.0: 1, 223112.0: 1, 8132191.0: 1, 2121192.0: 1, 2314372.0: 1, 4911311.0: 1, 49151172.0: 1, 3116381.0: 1, 7103182.0: 1, 28371.0: 1, 315141.0: 1, 8141391.0: 1, 8102161.0: 1, 491341.0: 1, 972151.0: 1, 3153211.0: 1, 8151252.0: 1, 8111151.0: 1, 2102171.0: 1, 9121371.0: 1, 49143151.0: 1, 9123192.0: 1, 317381.0: 1, 2316271.0: 1, 97172.0: 1, 91231.0: 1, 793152.0: 1, 17172.0: 1, 712382.0: 1, 110281.0: 1, 234181.0: 1, 76112.0: 1, 316282.0: 1, 234271.0: 1, 25142.0: 1, 2141251.0: 1, 763151.0: 1, 91331.0: 1, 781311.0: 1, 311312.0: 1, 812281.0: 1, 49132151.0: 1, 9113281.0: 1, 822101.0: 1, 2363152.0: 1, 917231.0: 1, 8143171.0: 1, 31162211.0: 1, 7163191.0: 1, 23101132.0: 1, 3183342.0: 1, 223121.0: 1, 4916271.0: 1, 3142201.0: 1, 17272.0: 1, 2311272.0: 1, 832151.0: 1, 763191.0: 1, 23112191.0: 1, 871281.0: 1, 76381.0: 1, 211321.0: 1, 2352151.0: 1, 981361.0: 1, 717371.0: 1, 31133271.0: 1, 7131272.0: 1, 49102152.0: 1, 832181.0: 1, 252172.0: 1, 953101.0: 1, 2383302.0: 1, 23102181.0: 1, 97272.0: 1, 3133151.0: 1, 913172.0: 1, 96282.0: 1, 9142371.0: 1, 217282.0: 1, 714281.0: 1, 2383292.0: 1, 9151371.0: 1, 98272.0: 1, 712371.0: 1, 23163392.0: 1, 31132161.0: 1, 722132.0: 1, 812382.0: 1, 2310372.0: 1, 210371.0: 1, 3121101.0: 1, 31131372.0: 1, 49111272.0: 1, 1121161.0: 1, 493312.0: 1, 251152.0: 1, 2142251.0: 1, 263171.0: 1, 1173202.0: 1, 4932181.0: 1, 8103252.0: 1, 8103182.0: 1, 75341.0: 1, 115372.0: 1, 182351.0: 1, 3116281.0: 1, 1133182.0: 1, 49142151.0: 1, 9141251.0: 1, 993161.0: 1, 1151371.0: 1, 151211.0: 1, 4973282.0: 1, 811111.0: 1, 111282.0: 1, 23162251.0: 1, 238182.0: 1, 182292.0: 1, 86382.0: 1, 23153191.0: 1, 817181.0: 1, 12282.0: 1, 49161252.0: 1, 972261.0: 1, 94381.0: 1, 782152.0: 1, 237181.0: 1, 7123171.0: 1, 2383341.0: 1, 23171161.0: 1, 31173162.0: 1, 311252.0: 1, 2371171.0: 1, 2371282.0: 1, 816282.0: 1, 49133182.0: 1, 312232.0: 1, 9102131.0: 1, 241201.0: 1, 3113371.0: 1, 7163252.0: 1, 112171.0: 1, 981352.0: 1, 1142372.0: 1, 915172.0: 1, 842201.0: 1, 9131251.0: 1, 1111171.0: 1, 161221.0: 1, 4922141.0: 1, 1122282.0: 1, 1122171.0: 1, 232282.0: 1, 2152192.0: 1, 4913271.0: 1, 931191.0: 1, 31102132.0: 1, 21152.0: 1, 99272.0: 1, 821132.0: 1, 23142191.0: 1, 2373251.0: 1, 49112282.0: 1, 711122.0: 1, 1122191.0: 1, 49113192.0: 1, 31133162.0: 1, 173262.0: 1, 751161.0: 1, 3117372.0: 1, 4972272.0: 1, 771271.0: 1, 49172171.0: 1, 1113251.0: 1, 910171.0: 1, 2371252.0: 1, 9132282.0: 1, 143202.0: 1, 8113171.0: 1, 233122.0: 1, 2121182.0: 1, 1123282.0: 1, 8113161.0: 1, 87212.0: 1, 2393252.0: 1, 3193152.0: 1, 7101252.0: 1, 722111.0: 1, 3111372.0: 1, 2373162.0: 1, 23113272.0: 1, 2143252.0: 1, 1111152.0: 1, 4914371.0: 1, 3181342.0: 1, 721121.0: 1, 2112171.0: 1, 21132.0: 1, 782352.0: 1, 7122182.0: 1, 2316172.0: 1, 2142192.0: 1, 7143271.0: 1, 23131161.0: 1, 2103191.0: 1, 772182.0: 1, 1111162.0: 1, 31153151.0: 1, 231142.0: 1, 283361.0: 1, 31103182.0: 1, 11271.0: 1, 2351102.0: 1, 3192192.0: 1, 161241.0: 1, 71381.0: 1, 49132271.0: 1, 49133371.0: 1, 2381292.0: 1, 16282.0: 1, 711282.0: 1, 233272.0: 1, 3133171.0: 1, 1123151.0: 1, 9111151.0: 1, 4911172.0: 1, 4973262.0: 1, 916272.0: 1, 953162.0: 1, 9113191.0: 1, 231321.0: 1, 23123182.0: 1, 3111312.0: 1, 4910171.0: 1, 2382342.0: 1, 7161211.0: 1, 2103251.0: 1, 893192.0: 1, 7103211.0: 1, 49121271.0: 1, 3182332.0: 1, 882192.0: 1, 282361.0: 1, 98282.0: 1, 23111191.0: 1, 717282.0: 1, 2151252.0: 1, 8121181.0: 1, 49123191.0: 1, 49142391.0: 1, 4911182.0: 1, 7161401.0: 1, 8163251.0: 1, 851132.0: 1, 2312271.0: 1, 491361.0: 1, 316112.0: 1, 49153371.0: 1, 8101181.0: 1, 87211.0: 1, 1153161.0: 1, 8142372.0: 1, 711311.0: 1, 492171.0: 1, 8133182.0: 1, 23321.0: 1, 751101.0: 1, 2143172.0: 1, 232281.0: 1, 7122152.0: 1, 3181351.0: 1, 915371.0: 1, 72292.0: 1, 9162391.0: 1, 7173161.0: 1, 84282.0: 1, 182251.0: 1, 318312.0: 1, 3152102.0: 1, 3193162.0: 1, 7142192.0: 1, 31161402.0: 1, 715182.0: 1, 3133181.0: 1, 1113181.0: 1, 1141152.0: 1, 732172.0: 1, 31171172.0: 1, 861171.0: 1, 2153152.0: 1, 971191.0: 1, 2113272.0: 1, 2113151.0: 1, 4923141.0: 1, 14331.0: 1, 893171.0: 1, 93212.0: 1, 4981321.0: 1, 78172.0: 1, 8162391.0: 1, 252212.0: 1, 49102181.0: 1, 2142191.0: 1, 7122151.0: 1, 231182.0: 1, 23173172.0: 1, 882191.0: 1, 77382.0: 1, 232291.0: 1, 71152.0: 1, 8151162.0: 1, 173192.0: 1, 271282.0: 1, 71281.0: 1, 173181.0: 1, 91142.0: 1, 2317131.0: 1, 314131.0: 1, 981342.0: 1, 93181.0: 1, 314181.0: 1, 23162212.0: 1, 23153252.0: 1, 8141371.0: 1, 16171.0: 1, 8122251.0: 1, 3172152.0: 1, 173252.0: 1, 87272.0: 1, 311332.0: 1, 211181.0: 1, 2351151.0: 1, 4971162.0: 1, 4911221.0: 1, 183361.0: 1, 28212.0: 1, 211211.0: 1, 31173201.0: 1, 96181.0: 1, 9132272.0: 1, 11141.0: 1, 2321142.0: 1, 9132281.0: 1, 263222.0: 1, 49103132.0: 1, 7113181.0: 1, 8132182.0: 1, 211382.0: 1, 2113281.0: 1, 31163252.0: 1, 314171.0: 1, 7112182.0: 1, 151181.0: 1, 2371161.0: 1, 283311.0: 1, 9123272.0: 1, 24282.0: 1, 24281.0: 1, 783192.0: 1, 7172161.0: 1, 23161211.0: 1, 3112281.0: 1, 282152.0: 1, 8172201.0: 1, 911372.0: 1, 92171.0: 1, 8122161.0: 1, 8133281.0: 1, 314172.0: 1, 2373161.0: 1, 715381.0: 1, 71321.0: 1, 717232.0: 1, 973191.0: 1, 4993172.0: 1, 311162.0: 1, 9141372.0: 1, 23161212.0: 1, 2363192.0: 1, 494232.0: 1, 2132191.0: 1, 252171.0: 1, 71312.0: 1, 223132.0: 1, 83281.0: 1, 8112152.0: 1, 31103171.0: 1, 251211.0: 1, 311112.0: 1, 2381251.0: 1, 23143152.0: 1, 491282.0: 1, 88182.0: 1, 2381301.0: 1, 762152.0: 1, 210271.0: 1, 49153191.0: 1, 723101.0: 1, 2310381.0: 1, 23121371.0: 1, 882291.0: 1, 872172.0: 1, 193191.0: 1, 82372.0: 1, 113282.0: 1, 852172.0: 1, 49122251.0: 1, 3123102.0: 1, 2317292.0: 1, 49103152.0: 1, 3191151.0: 1, 23172.0: 1, 751151.0: 1, 792161.0: 1, 2373191.0: 1, 8142272.0: 1, 915271.0: 1, 73381.0: 1, 7131152.0: 1, 49131151.0: 1, 49161211.0: 1, 91122.0: 1, 8171201.0: 1, 315342.0: 1, 311212.0: 1, 9111191.0: 1, 3183332.0: 1, 713172.0: 1, 4983342.0: 1, 29272.0: 1, 4917181.0: 1, 211381.0: 1, 2152252.0: 1, 8123172.0: 1, 49152251.0: 1, 31113192.0: 1, 8153191.0: 1, 79281.0: 1, 23122252.0: 1, 88111.0: 1, 4921141.0: 1, 72192.0: 1, 9112172.0: 1, 782341.0: 1, 272262.0: 1, 491231.0: 1, 2363172.0: 1, 261241.0: 1, 1163252.0: 1, 2322132.0: 1, 31113381.0: 1, 3113271.0: 1, 49122171.0: 1, 9123181.0: 1, 2316181.0: 1, 7172171.0: 1, 8153152.0: 1, 4963242.0: 1, 23113252.0: 1, 492191.0: 1, 494381.0: 1, 49123272.0: 1, 8161191.0: 1, 9151171.0: 1, 93282.0: 1, 2172162.0: 1, 9152152.0: 1, 8112181.0: 1, 23133181.0: 1, 1112272.0: 1, 4911122.0: 1, 493122.0: 1, 31101251.0: 1, 4972282.0: 1, 28211.0: 1, 73112.0: 1, 122111.0: 1, 972281.0: 1, 231222.0: 1, 31163212.0: 1, 4933161.0: 1, 22331.0: 1, 1121191.0: 1, 23143251.0: 1, 8162392.0: 1, 494382.0: 1, 232391.0: 1, 711371.0: 1, 9152151.0: 1, 491161.0: 1, 9121192.0: 1, 216371.0: 1, 2383312.0: 1, 4983291.0: 1, 716382.0: 1, 2141152.0: 1, 882252.0: 1, 912381.0: 1, 18212.0: 1, 237212.0: 1, 117381.0: 1, 238372.0: 1, 78272.0: 1, 2102181.0: 1, 4910182.0: 1, 23121272.0: 1, 81311.0: 1, 7141172.0: 1, 982292.0: 1, 8163391.0: 1, 4911382.0: 1, 991191.0: 1, 211372.0: 1, 31132251.0: 1, 782301.0: 1, 31111382.0: 1, 49102151.0: 1, 494371.0: 1, 17372.0: 1, 2331191.0: 1, 9103162.0: 1, 23112271.0: 1, 31122371.0: 1, 753131.0: 1, 911221.0: 1, 49122152.0: 1, 292251.0: 1, 2111382.0: 1, 96111.0: 1, 499272.0: 1, 27371.0: 1, 96381.0: 1, 49152372.0: 1, 915181.0: 1, 917331.0: 1, 117231.0: 1, 917371.0: 1, 31123191.0: 1, 222132.0: 1, 7161191.0: 1, 319182.0: 1, 962241.0: 1, 49132161.0: 1, 13221.0: 1, 23222.0: 1, 251131.0: 1, 2103152.0: 1, 9132372.0: 1, 31111171.0: 1, 721112.0: 1, 1132191.0: 1, 31141391.0: 1, 882251.0: 1, 311351.0: 1, 4962192.0: 1, 4932162.0: 1, 491222.0: 1, 49122272.0: 1, 192251.0: 1, 832161.0: 1, 962151.0: 1, 121111.0: 1, 2122251.0: 1, 793252.0: 1, 85341.0: 1, 833152.0: 1, 23123151.0: 1, 782192.0: 1, 2171162.0: 1, 3152132.0: 1, 892192.0: 1, 9131281.0: 1, 3151172.0: 1, 173172.0: 1, 8113191.0: 1, 231261.0: 1, 783342.0: 1, 31153161.0: 1, 8131372.0: 1, 2173171.0: 1, 9111181.0: 1, 311382.0: 1, 921101.0: 1, 4911312.0: 1, 3182302.0: 1, 3171251.0: 1, 3143201.0: 1, 27282.0: 1, 7162191.0: 1, 22392.0: 1, 1141271.0: 1, 223141.0: 1, 831181.0: 1, 31113181.0: 1, 762232.0: 1, 2113251.0: 1, 1122271.0: 1, 7121272.0: 1, 182352.0: 1, 23161252.0: 1, 18181.0: 1, 2393192.0: 1, 973182.0: 1, 313112.0: 1, 853152.0: 1, 882342.0: 1, 2141371.0: 1, 4991162.0: 1, 2317381.0: 1, 12181.0: 1, 793151.0: 1, 49132371.0: 1, 2122152.0: 1, 495241.0: 1, 9122161.0: 1, 122142.0: 1, 31133172.0: 1, 4963172.0: 1, 1102252.0: 1, 121142.0: 1, 113371.0: 1, 3121141.0: 1, 28282.0: 1, 9143371.0: 1, 216272.0: 1, 497172.0: 1, 8121271.0: 1, 491322.0: 1, 94332.0: 1, 212171.0: 1, 318311.0: 1, 71361.0: 1, 23133161.0: 1, 497312.0: 1, 23132252.0: 1, 183251.0: 1, 8171202.0: 1, 1121271.0: 1, 2383301.0: 1, 31111191.0: 1, 49131372.0: 1, 3151132.0: 1, 8151251.0: 1, 2381252.0: 1, 761171.0: 1, 91151.0: 1, 852152.0: 1, 78182.0: 1, 23123162.0: 1, 2132181.0: 1, 963231.0: 1, 810282.0: 1, 49142252.0: 1, 3183351.0: 1, 2142172.0: 1, 814182.0: 1, 2132282.0: 1, 31143251.0: 1, 982342.0: 1, 882331.0: 1, 951171.0: 1, 2371151.0: 1, 9133271.0: 1, 882361.0: 1, 49102192.0: 1, 2162191.0: 1, 3116171.0: 1, 271261.0: 1, 1121282.0: 1, 2373261.0: 1, 1112161.0: 1, 9113272.0: 1, 210372.0: 1, 23171202.0: 1, 8121372.0: 1, 11171.0: 1, 2315172.0: 1, 811321.0: 1, 181152.0: 1, 9103172.0: 1, 1132272.0: 1, 2361191.0: 1, 7132272.0: 1, 782291.0: 1, 23152152.0: 1, 873152.0: 1, 312391.0: 1, 9101192.0: 1, 8103212.0: 1, 173162.0: 1, 963241.0: 1, 917171.0: 1, 717192.0: 1, 7122191.0: 1, 917232.0: 1, 3132171.0: 1, 22372.0: 1, 31143371.0: 1, 7143392.0: 1, 173251.0: 1, 871282.0: 1, 171272.0: 1, 193161.0: 1, 4973161.0: 1, 1101162.0: 1, 49103182.0: 1, 231111.0: 1, 9162402.0: 1, 111371.0: 1, 11182.0: 1, 163191.0: 1, 492292.0: 1, 13121.0: 1, 810281.0: 1, 28312.0: 1, 162172.0: 1, 213271.0: 1, 110381.0: 1, 74231.0: 1, 7121152.0: 1, 710382.0: 1, 883302.0: 1, 3110382.0: 1, 731182.0: 1, 2131172.0: 1, 4981152.0: 1, 238381.0: 1, 27381.0: 1, 49171151.0: 1, 8152162.0: 1, 88212.0: 1, 12381.0: 1, 23101152.0: 1, 3132151.0: 1, 7111271.0: 1, 771151.0: 1, 1133272.0: 1, 49121252.0: 1, 4961221.0: 1, 1142152.0: 1, 31111192.0: 1, 7151371.0: 1, 496311.0: 1, 8173152.0: 1, 311262.0: 1, 3182252.0: 1, 3151162.0: 1, 13381.0: 1, 49143152.0: 1, 92392.0: 1, 962231.0: 1, 4922112.0: 1, 31142272.0: 1, 222101.0: 1, 2163251.0: 1, 31152152.0: 1, 3122142.0: 1, 3183292.0: 1, 23171172.0: 1, 7172172.0: 1, 313212.0: 1, 7142151.0: 1, 23161402.0: 1, 1143392.0: 1, 910281.0: 1, 23132171.0: 1, 7113251.0: 1, 731192.0: 1, 8133161.0: 1, 49121251.0: 1, 810172.0: 1, 9153372.0: 1, 151131.0: 1, 91251.0: 1, 23142192.0: 1, 4993252.0: 1, 833171.0: 1, 816171.0: 1, 2131282.0: 1, 173152.0: 1, 116272.0: 1, 7102211.0: 1, 7172152.0: 1, 4911181.0: 1, 1132252.0: 1, 23141371.0: 1, 113182.0: 1, 8151171.0: 1, 11322.0: 1, 121141.0: 1, 983321.0: 1, 314271.0: 1, 971251.0: 1, 31113281.0: 1, 8113382.0: 1, 791151.0: 1, 1141192.0: 1, 311131.0: 1, 496382.0: 1, 1141392.0: 1, 7112172.0: 1, 8111281.0: 1, 3112172.0: 1, 23123152.0: 1, 23151252.0: 1, 23132282.0: 1, 910372.0: 1, 812172.0: 1, 922102.0: 1, 2317182.0: 1, 4912372.0: 1, 251102.0: 1, 2332162.0: 1, 1103212.0: 1, 152162.0: 1, 8161212.0: 1, 49111192.0: 1, 717331.0: 1, 251151.0: 1, 961171.0: 1, 2311382.0: 1, 114182.0: 1, 7113381.0: 1, 49113191.0: 1, 217181.0: 1, 2382341.0: 1, 7121251.0: 1, 81351.0: 1, 72371.0: 1, 122101.0: 1, 951161.0: 1, 497381.0: 1, 231172.0: 1, 752102.0: 1, 982312.0: 1, 231131.0: 1, 111181.0: 1, 2332182.0: 1, 3110372.0: 1, 931181.0: 1, 9113192.0: 1, 872271.0: 1, 172152.0: 1, 271152.0: 1, 962191.0: 1, 4983321.0: 1, 293162.0: 1, 8161251.0: 1, 916382.0: 1, 2332181.0: 1, 77272.0: 1, 7113252.0: 1, 31123282.0: 1, 8141171.0: 1, 4982311.0: 1, 831172.0: 1, 161191.0: 1, 2123252.0: 1, 272152.0: 1, 4911212.0: 1, 3113171.0: 1, 712182.0: 1, 273172.0: 1, 282362.0: 1, 23131181.0: 1, 943201.0: 1, 31112282.0: 1, 7123272.0: 1, 862152.0: 1, 211371.0: 1, 71232.0: 1, 8123271.0: 1, 861152.0: 1, 317311.0: 1, 7121172.0: 1, 31171152.0: 1, 231352.0: 1, 714172.0: 1, 8112272.0: 1, 291192.0: 1, 151161.0: 1, 813182.0: 1, 23171151.0: 1, 23103251.0: 1, 881322.0: 1, 1131161.0: 1, 8163192.0: 1, 172151.0: 1, 239182.0: 1, 7112251.0: 1, 77172.0: 1, 161152.0: 1, 981192.0: 1, 153101.0: 1, 2122252.0: 1, 2143192.0: 1, 3152172.0: 1, 1112281.0: 1, 1111191.0: 1, 862161.0: 1, 93371.0: 1, 716282.0: 1, 231132.0: 1, 318282.0: 1, 232232.0: 1, 1112182.0: 1, 2153251.0: 1, 871162.0: 1, 8173202.0: 1, 3161191.0: 1, 123102.0: 1, 922122.0: 1, 4913372.0: 1, 4932171.0: 1, 31153192.0: 1, 2143392.0: 1, 231332.0: 1, 97111.0: 1, 217272.0: 1, 782332.0: 1, 2317382.0: 1, 49122182.0: 1, 9141272.0: 1, 4922131.0: 1, 1112251.0: 1, 23102172.0: 1, 7132371.0: 1, 2311312.0: 1, 4972171.0: 1, 2315371.0: 1, 9141252.0: 1, 97182.0: 1, 234282.0: 1, 3153152.0: 1, 871271.0: 1, 31141192.0: 1, 2383191.0: 1, 22292.0: 1, 111222.0: 1, 110282.0: 1, 193162.0: 1, 31121172.0: 1, 873261.0: 1, 9112272.0: 1, 932171.0: 1, 15241.0: 1, 971261.0: 1, 7162251.0: 1, 7101132.0: 1, 92391.0: 1, 31103191.0: 1, 3173172.0: 1, 133151.0: 1, 49163191.0: 1, 973281.0: 1, 4931162.0: 1, 31133281.0: 1, 861191.0: 1, 2101192.0: 1, 2393251.0: 1, 49173152.0: 1, 253182.0: 1, 23142151.0: 1, 21282.0: 1, 7131171.0: 1, 2362171.0: 1, 23153152.0: 1, 983291.0: 1, 9172171.0: 1, 8123161.0: 1, 23111172.0: 1, 922142.0: 1, 961162.0: 1, 782361.0: 1, 962192.0: 1, 4973181.0: 1, 72191.0: 1, 3183352.0: 1, 23152252.0: 1, 110372.0: 1, 49152191.0: 1, 1171171.0: 1, 933151.0: 1, 2112282.0: 1, 823121.0: 1, 31173202.0: 1, 816172.0: 1, 2371152.0: 1, 2143171.0: 1, 1122252.0: 1, 282352.0: 1, 233322.0: 1, 7123161.0: 1, 4923121.0: 1, 97282.0: 1, 31133252.0: 1, 1103192.0: 1, 81172.0: 1, 817331.0: 1, 1132281.0: 1, 951101.0: 1, 31122271.0: 1, 2313382.0: 1, 7142191.0: 1, 951172.0: 1, 993172.0: 1, 49123181.0: 1, 733172.0: 1, 2353212.0: 1, 123122.0: 1, 4973182.0: 1, 23111181.0: 1, 493211.0: 1, 211212.0: 1, 49151191.0: 1, 7172162.0: 1, 717191.0: 1, 2153371.0: 1, 23161401.0: 1, 49111381.0: 1, 931172.0: 1, 2323102.0: 1, 7121191.0: 1, 23122251.0: 1, 117281.0: 1, 19282.0: 1, 222112.0: 1, 72231.0: 1, 781192.0: 1, 49142152.0: 1, 7162401.0: 1, 49101182.0: 1, 215181.0: 1, 914381.0: 1, 26172.0: 1, 772162.0: 1, 49143171.0: 1, 981292.0: 1, 23141151.0: 1, 8132152.0: 1, 783311.0: 1, 883332.0: 1, 193251.0: 1, 2113152.0: 1, 231312.0: 1, 8161391.0: 1, 74382.0: 1, 9112191.0: 1, 783251.0: 1, 23132161.0: 1, 2152172.0: 1, 715382.0: 1, 3171151.0: 1, 81381.0: 1, 23131152.0: 1, 115172.0: 1, 117282.0: 1, 8133181.0: 1, 493172.0: 1, 23152192.0: 1, 31151251.0: 1, 23131271.0: 1, 21242.0: 1, 883341.0: 1, 852132.0: 1, 4952132.0: 1, 49132162.0: 1, 9132162.0: 1, 3161221.0: 1, 263162.0: 1, 2143152.0: 1, 7141152.0: 1, 7171162.0: 1, 271191.0: 1, 815282.0: 1, 993192.0: 1, 883192.0: 1, 163151.0: 1, 31102182.0: 1, 114172.0: 1, 4917191.0: 1, 2317232.0: 1, 49162191.0: 1, 883311.0: 1, 9142251.0: 1, 931182.0: 1, 121121.0: 1, 913272.0: 1, 23152151.0: 1, 2123271.0: 1, 29381.0: 1, 992152.0: 1, 21252.0: 1, 7173162.0: 1, 762242.0: 1, 1152162.0: 1, 8172151.0: 1, 7102182.0: 1, 8143192.0: 1, 311272.0: 1, 972192.0: 1, 8112171.0: 1, 8143391.0: 1, 2112152.0: 1, 23122172.0: 1, 4911322.0: 1, 2113181.0: 1, 4914282.0: 1, 115371.0: 1, 94181.0: 1, 23131252.0: 1, 23122182.0: 1, 4951132.0: 1, 2392151.0: 1, 2103182.0: 1, 31163251.0: 1, 761172.0: 1, 95242.0: 1, 891252.0: 1, 815382.0: 1, 2153162.0: 1, 982351.0: 1, 962152.0: 1, 31122171.0: 1, 23133281.0: 1, 211272.0: 1, 4982362.0: 1, 49141152.0: 1, 317272.0: 1, 162242.0: 1, 31143391.0: 1, 31103192.0: 1, 88382.0: 1, 231191.0: 1, 99181.0: 1, 3162221.0: 1, 21221.0: 1, 4921111.0: 1, 13321.0: 1, 49103251.0: 1, 49131172.0: 1, 236111.0: 1, 131181.0: 1, 271162.0: 1, 1123161.0: 1, 917192.0: 1, 261221.0: 1, 215272.0: 1, 23372.0: 1, 31131271.0: 1, 31132181.0: 1, 273162.0: 1, 1111172.0: 1, 31133181.0: 1, 31121152.0: 1, 1113151.0: 1, 23111271.0: 1, 212381.0: 1, 81271.0: 1, 4951152.0: 1, 2373152.0: 1, 733181.0: 1, 3110371.0: 1, 7162402.0: 1, 235342.0: 1, 4983251.0: 1, 4911222.0: 1, 497271.0: 1, 2331172.0: 1, 122121.0: 1, 111272.0: 1, 3181321.0: 1, 76181.0: 1, 112382.0: 1, 2371281.0: 1, 31163192.0: 1, 29171.0: 1, 311362.0: 1, 91272.0: 1, 88311.0: 1, 9142192.0: 1, 772271.0: 1, 261231.0: 1, 23173151.0: 1, 31113252.0: 1, 181302.0: 1, 233211.0: 1, 23172162.0: 1, 4982152.0: 1, 4991151.0: 1, 82172.0: 1, 49132251.0: 1, 85241.0: 1, 8163392.0: 1, 7133182.0: 1, 911272.0: 1, 49121371.0: 1, 953151.0: 1, 1102182.0: 1, 4911171.0: 1, 9123172.0: 1, 273261.0: 1, 711211.0: 1, 91352.0: 1, 2372261.0: 1, 714182.0: 1, 2121161.0: 1, 7111181.0: 1, 9173152.0: 1, 73171.0: 1, 23123252.0: 1, 311352.0: 1, 883151.0: 1, 82132.0: 1, 871172.0: 1, 74182.0: 1, 23162252.0: 1, 91241.0: 1, 982252.0: 1, 49111251.0: 1, 814372.0: 1, 716372.0: 1, 23103192.0: 1, 73111.0: 1, 963152.0: 1, 991162.0: 1, 49132282.0: 1, 31142151.0: 1, 31103252.0: 1, 492331.0: 1, 2381302.0: 1, 24172.0: 1, 2133272.0: 1, 88271.0: 1, 2102251.0: 1, 2131192.0: 1, 49133252.0: 1, 114271.0: 1, 8111172.0: 1, 31172162.0: 1, 491352.0: 1, 23143271.0: 1, 916181.0: 1, 498171.0: 1, 2161211.0: 1, 1122161.0: 1, 215381.0: 1, 723142.0: 1, 319281.0: 1, 31113251.0: 1, 962242.0: 1, 4961162.0: 1, 863221.0: 1, 183151.0: 1, 3172151.0: 1, 31153371.0: 1, 231341.0: 1, 163221.0: 1, 814181.0: 1, 791171.0: 1, 31172201.0: 1, 31123272.0: 1, 915381.0: 1, 2162392.0: 1, 272191.0: 1, 23163402.0: 1, 813171.0: 1, 18271.0: 1, 31112151.0: 1, 78211.0: 1, 213181.0: 1, 233222.0: 1, 272282.0: 1, 9152172.0: 1, 262192.0: 1, 237281.0: 1, 817272.0: 1, 871191.0: 1, 3110181.0: 1, 23133272.0: 1, 31133372.0: 1, 861151.0: 1, 49121172.0: 1, 981301.0: 1, 494332.0: 1, 9132182.0: 1, 914271.0: 1, 4991191.0: 1, 891161.0: 1, 1112171.0: 1, 31101211.0: 1, 7111281.0: 1, 1122172.0: 1, 117182.0: 1, 98111.0: 1, 318371.0: 1, 181322.0: 1, 212172.0: 1, 912182.0: 1, 751181.0: 1, 4961231.0: 1, 1141251.0: 1, 7101161.0: 1, 783312.0: 1, 7163192.0: 1, 1132161.0: 1, 234231.0: 1, 7152171.0: 1, 234381.0: 1, 192171.0: 1, 2133372.0: 1, 23133371.0: 1, 4916281.0: 1, 1122251.0: 1, 312231.0: 1, 23173161.0: 1, 1173151.0: 1, 3172171.0: 1, 8151152.0: 1, 812171.0: 1, 7141252.0: 1, 2331192.0: 1, 49101161.0: 1, 2121271.0: 1, 7143371.0: 1, 31141171.0: 1, 8103151.0: 1, 3162241.0: 1, 3121122.0: 1, 499182.0: 1, 8132271.0: 1, 2133281.0: 1, 2112382.0: 1, 9153171.0: 1, 983351.0: 1, 233371.0: 1, 498381.0: 1, 9153252.0: 1, 7122162.0: 1, 813282.0: 1, 252182.0: 1, 49102182.0: 1, 282341.0: 1, 9133191.0: 1, 8132251.0: 1, 8153252.0: 1, 111112.0: 1, 962171.0: 1, 314281.0: 1, 2352211.0: 1, 3115382.0: 1, 26272.0: 1, 8122191.0: 1, 713381.0: 1, 9143252.0: 1, 9162251.0: 1, 496272.0: 1, 11132.0: 1, 7132162.0: 1, 31151252.0: 1, 7173201.0: 1, 49111181.0: 1, 9132251.0: 1, 993251.0: 1, 49132191.0: 1, 723102.0: 1, 31161191.0: 1, 243202.0: 1, 232292.0: 1, 88371.0: 1, 261171.0: 1, 217172.0: 1, 2141171.0: 1, 283302.0: 1, 9161391.0: 1, 961231.0: 1, 19382.0: 1, 223102.0: 1, 2372271.0: 1, 73322.0: 1, 3182152.0: 1, 3131192.0: 1, 813281.0: 1, 143201.0: 1, 8131161.0: 1, 498382.0: 1, 4983151.0: 1, 723121.0: 1, 23102151.0: 1, 9102161.0: 1, 2313282.0: 1, 7121372.0: 1, 17111.0: 1, 7122371.0: 1, 263172.0: 1, 2103161.0: 1, 161171.0: 1, 22291.0: 1, 983192.0: 1, 852211.0: 1, 3193191.0: 1, 86212.0: 1, 2132192.0: 1, 498282.0: 1, 4971161.0: 1, 7153172.0: 1, 21322.0: 1, 81112.0: 1, 781191.0: 1, 9132171.0: 1, 911111.0: 1, 4932172.0: 1, 17312.0: 1, 491181.0: 1, 9131272.0: 1, 833162.0: 1, 2122181.0: 1, 81281.0: 1, 817282.0: 1, 3114381.0: 1, 4917372.0: 1, 816381.0: 1, 961232.0: 1, 217281.0: 1, 232152.0: 1, 4961172.0: 1, 7102152.0: 1, 312392.0: 1, 231342.0: 1, 111182.0: 1, 23121182.0: 1, 19172.0: 1, 2112272.0: 1, 9141191.0: 1, 973251.0: 1, 2351171.0: 1, 49172151.0: 1, 771162.0: 1, 216171.0: 1, 234331.0: 1, 1162401.0: 1, 4952161.0: 1, 9131191.0: 1, 3171152.0: 1, 9112162.0: 1, 23112152.0: 1, 23131281.0: 1, 2317132.0: 1, 191172.0: 1, 49162211.0: 1, 2310382.0: 1, 215282.0: 1, 8113272.0: 1, 782322.0: 1, 871192.0: 1, 1101151.0: 1, 817182.0: 1, 981321.0: 1, 234382.0: 1, 2102151.0: 1, 4973191.0: 1, 31172202.0: 1, 491342.0: 1, 31132192.0: 1, 2141272.0: 1, 311221.0: 1, 31153251.0: 1, 86112.0: 1, 923102.0: 1, 314182.0: 1, 49131152.0: 1, 1163192.0: 1, 1112151.0: 1, 732161.0: 1, 31152251.0: 1, 319271.0: 1, 717182.0: 1, 493321.0: 1, 983361.0: 1, 31142191.0: 1, 14282.0: 1, 1173152.0: 1, 87311.0: 1, 2121181.0: 1, 9133192.0: 1, 8143152.0: 1, 3171192.0: 1, 7111381.0: 1, 23141252.0: 1, 23103182.0: 1, 497372.0: 1, 3183291.0: 1, 762161.0: 1, 2382152.0: 1, 8112381.0: 1, 31173172.0: 1, 2132162.0: 1, 23113251.0: 1, 782302.0: 1, 23112172.0: 1, 8111182.0: 1, 881301.0: 1, 4991252.0: 1, 91172.0: 1, 181251.0: 1, 9112281.0: 1, 81342.0: 1, 49131371.0: 1, 2317332.0: 1, 82381.0: 1, 882292.0: 1, 31123252.0: 1, 2381352.0: 1, 91171.0: 1, 49102171.0: 1, 171251.0: 1, 9121152.0: 1, 1112192.0: 1, 8111382.0: 1, 7171151.0: 1, 9112252.0: 1, 31111251.0: 1, 1102151.0: 1, 1141171.0: 1, 496381.0: 1, 3163172.0: 1, 23122151.0: 1, 1142392.0: 1, 1102162.0: 1, 7102192.0: 1, 311282.0: 1, 2142372.0: 1, 972251.0: 1, 993152.0: 1, 31123151.0: 1, 810271.0: 1, 1141252.0: 1, 31113271.0: 1, 121131.0: 1, 816182.0: 1, 2351162.0: 1, 23142171.0: 1, 1142371.0: 1, 3153132.0: 1, 8112191.0: 1, 14172.0: 1, 961151.0: 1, 933192.0: 1, 891171.0: 1, 7123172.0: 1, 3110272.0: 1, 2111271.0: 1, 49131282.0: 1, 2383351.0: 1, 111372.0: 1, 49103192.0: 1, 4910282.0: 1, 973261.0: 1, 263232.0: 1, 192161.0: 1, 715282.0: 1, 3132182.0: 1, 113271.0: 1, 731191.0: 1, 3117131.0: 1, 2312282.0: 1, 7151152.0: 1, 7141171.0: 1, 821112.0: 1, 3112371.0: 1, 281302.0: 1, 28271.0: 1, 983352.0: 1, 4933192.0: 1, 494131.0: 1, 2123282.0: 1, 2312381.0: 1, 2103171.0: 1, 31121181.0: 1, 2361161.0: 1, 881292.0: 1, 23121281.0: 1, 49153162.0: 1, 7162211.0: 1, 3122131.0: 1, 1132151.0: 1, 3163222.0: 1, 17182.0: 1, 862232.0: 1, 232132.0: 1, 883352.0: 1, 23143192.0: 1, 71251.0: 1, 291162.0: 1, 4983322.0: 1, 3181361.0: 1, 8162191.0: 1, 4973192.0: 1, 853212.0: 1, 11372.0: 1, 915272.0: 1, 271262.0: 1, 16182.0: 1, 4911282.0: 1, 4983191.0: 1, 292152.0: 1, 2142371.0: 1, 496372.0: 1, 2111192.0: 1, 4963222.0: 1, 16181.0: 1, 23151192.0: 1, 863161.0: 1, 9111281.0: 1, 31162251.0: 1, 31151161.0: 1, 49102212.0: 1, 88372.0: 1, 853181.0: 1, 1113272.0: 1, 2312272.0: 1, 23103191.0: 1, 3171171.0: 1, 916282.0: 1, 9153152.0: 1, 11162.0: 1, 83312.0: 1, 252152.0: 1, 114382.0: 1, 4952162.0: 1, 8142371.0: 1, 23152171.0: 1, 239381.0: 1, 810372.0: 1, 8162211.0: 1, 2133252.0: 1, 27211.0: 1, 81352.0: 1, 22231.0: 1, 23171.0: 1, 3183191.0: 1, 2162212.0: 1, 49122281.0: 1, 2310182.0: 1, 49152172.0: 1, 2132152.0: 1, 833192.0: 1, 49113171.0: 1, 9112152.0: 1, 283291.0: 1, 49163192.0: 1, 810371.0: 1, 2133161.0: 1, 182321.0: 1, 233192.0: 1, 314282.0: 1, 910272.0: 1, 4983192.0: 1, 713171.0: 1, 973282.0: 1, 14272.0: 1, 71271.0: 1, 162241.0: 1, 4922142.0: 1, 883362.0: 1, 49102172.0: 1, 9132151.0: 1, 9133372.0: 1, 1153372.0: 1, 4922102.0: 1, 16371.0: 1, 714372.0: 1, 49162192.0: 1, 7113152.0: 1, 217381.0: 1, 814171.0: 1, 1102251.0: 1, 497311.0: 1, 132181.0: 1, 153132.0: 1, 1172151.0: 1, 212282.0: 1, 23103172.0: 1, 715181.0: 1, 9132152.0: 1, 316371.0: 1, 3192151.0: 1, 911112.0: 1, 115181.0: 1, 313372.0: 1, 2352101.0: 1, 7153192.0: 1, 3117292.0: 1, 8151371.0: 1, 217292.0: 1, 210282.0: 1, 2311282.0: 1, 319272.0: 1, 96172.0: 1, 1131271.0: 1, 722101.0: 1, 31153172.0: 1, 3131171.0: 1, 2133172.0: 1, 715371.0: 1, 4962191.0: 1, 932151.0: 1, 15142.0: 1, 49111282.0: 1, 7121171.0: 1, 31112161.0: 1, 71212.0: 1, 71362.0: 1, 172172.0: 1, 2133191.0: 1, 83211.0: 1, 843202.0: 1, 171162.0: 1, 8111381.0: 1, 3182351.0: 1, 31141251.0: 1, 8163191.0: 1, 972191.0: 1, 75241.0: 1, 2112161.0: 1, 251132.0: 1, 4973261.0: 1, 112372.0: 1, 23163212.0: 1, 2382192.0: 1, 733182.0: 1, 49143271.0: 1, 7162252.0: 1, 9113282.0: 1, 215182.0: 1, 25342.0: 1, 217291.0: 1, 318281.0: 1, 99372.0: 1, 7132282.0: 1, 1133252.0: 1, 2391251.0: 1, 17112.0: 1, 3181251.0: 1, 8143151.0: 1, 9122251.0: 1, 7133372.0: 1, 492291.0: 1, 31141272.0: 1, 73321.0: 1, 3171281.0: 1, 4911271.0: 1, 4952102.0: 1, 23123191.0: 1, 961242.0: 1, 49151251.0: 1, 181321.0: 1, 3182151.0: 1, 23113192.0: 1, 49133162.0: 1, 492371.0: 1, 23163391.0: 1, 910172.0: 1, 9142272.0: 1, 2312382.0: 1, 24371.0: 1, 2312182.0: 1, 23142272.0: 1, 4973272.0: 1, 872191.0: 1, 216181.0: 1, 273192.0: 1, 49152192.0: 1, 973252.0: 1, 27271.0: 1, 153212.0: 1, 182191.0: 1, 7131192.0: 1, 153161.0: 1, 3163221.0: 1, 23163252.0: 1, 7143192.0: 1, 9112161.0: 1, 31143252.0: 1, 983362.0: 1, 499381.0: 1, 72272.0: 1, 982321.0: 1, 716181.0: 1, 214281.0: 1, 933171.0: 1, 4982331.0: 1, 973161.0: 1, 8121282.0: 1, 49111171.0: 1, 3113382.0: 1, 111121.0: 1, 82181.0: 1, 312292.0: 1, 962162.0: 1, 1131192.0: 1, 81212.0: 1, 863241.0: 1, 2321122.0: 1, 238272.0: 1, 31121252.0: 1, 193252.0: 1, 121101.0: 1, 117271.0: 1, 7142152.0: 1, 4923122.0: 1, 49131281.0: 1, 81332.0: 1, 8171151.0: 1, 239281.0: 1, 9103192.0: 1, 281292.0: 1, 111172.0: 1, 91141.0: 1, 2122191.0: 1, 23101182.0: 1, 851211.0: 1, 8142252.0: 1, 883351.0: 1, 9162191.0: 1, 71261.0: 1, 3111181.0: 1, 1111381.0: 1, 123132.0: 1, 782321.0: 1, 2323131.0: 1, 252161.0: 1, 172281.0: 1, 23112281.0: 1, 11231.0: 1, 4931192.0: 1, 773162.0: 1, 21342.0: 1, 9162212.0: 1, 312382.0: 1, 1151171.0: 1, 81272.0: 1, 1152151.0: 1, 81231.0: 1, 494272.0: 1, 88312.0: 1, 7151252.0: 1, 4933151.0: 1, 1113282.0: 1, 2132272.0: 1, 236211.0: 1, 7171172.0: 1, 215281.0: 1, 9141371.0: 1, 8111252.0: 1, 4915271.0: 1, 221122.0: 1, 26181.0: 1, 1121152.0: 1, 23151191.0: 1, 811212.0: 1, 4972192.0: 1, 7112382.0: 1, 49141171.0: 1, 12231.0: 1, 2122172.0: 1, 3115371.0: 1, 210281.0: 1, 2123272.0: 1, 772171.0: 1, 732192.0: 1, 9101182.0: 1, 492231.0: 1, 82191.0: 1, 8171172.0: 1, 2113191.0: 1, 13122.0: 1, 3171282.0: 1, 91131.0: 1, 74131.0: 1, 1143172.0: 1, 236312.0: 1, 9163402.0: 1, 7101181.0: 1, 13171.0: 1, 2383291.0: 1, 791172.0: 1, 2122171.0: 1, 3131161.0: 1, 9152162.0: 1, 26211.0: 1, 972161.0: 1, 91262.0: 1, 91371.0: 1, 2122161.0: 1, 2311311.0: 1, 74371.0: 1, 31143172.0: 1, 222131.0: 1, 237371.0: 1, 491112.0: 1, 31111161.0: 1, 73372.0: 1, 851102.0: 1, 841201.0: 1, 13311.0: 1, 317281.0: 1, 2133181.0: 1, 24132.0: 1, 8142392.0: 1, 983151.0: 1, 217371.0: 1, 1102191.0: 1, 231112.0: 1, 281191.0: 1, 9152192.0: 1, 2151251.0: 1, 316172.0: 1, 913372.0: 1, 917281.0: 1, 23113282.0: 1, 3153151.0: 1, 49122191.0: 1, 772161.0: 1, 210181.0: 1, 762172.0: 1, 3115171.0: 1, 1132271.0: 1, 49171171.0: 1, 1133282.0: 1, 311322.0: 1, 23131272.0: 1, 9122171.0: 1, 19182.0: 1, 49131192.0: 1, 8151191.0: 1, 23172172.0: 1, 234272.0: 1, 2313171.0: 1, 915282.0: 1, 213381.0: 1, 91212.0: 1, 181361.0: 1, 49163212.0: 1, 31121272.0: 1, 8141192.0: 1, 271182.0: 1, 3181332.0: 1, 221101.0: 1, 753182.0: 1, 912181.0: 1, 3182191.0: 1, 217231.0: 1, 883292.0: 1, 4922121.0: 1, 233321.0: 1, 872252.0: 1, 76272.0: 1, 31103161.0: 1, 31123251.0: 1, 952131.0: 1, 123141.0: 1, 3132161.0: 1, 7102251.0: 1, 293252.0: 1, 917391.0: 1, 7161192.0: 1, 812272.0: 1, 282351.0: 1, 7141191.0: 1, 23141271.0: 1, 811121.0: 1, 215382.0: 1, 151182.0: 1, 71181.0: 1, 83222.0: 1, 2352132.0: 1, 893251.0: 1, 31123161.0: 1, 781292.0: 1, 1142271.0: 1, 9163251.0: 1, 7113191.0: 1, 317172.0: 1, 91111.0: 1, 2122282.0: 1, 8171152.0: 1, 2153191.0: 1, 316281.0: 1, 2311271.0: 1, 861161.0: 1, 2172161.0: 1, 2333152.0: 1, 3116271.0: 1, 93221.0: 1, 7152252.0: 1, 49122271.0: 1, 49112172.0: 1, 763162.0: 1, 23102171.0: 1, 113381.0: 1, 8101212.0: 1, 2322122.0: 1, 910182.0: 1, 2312172.0: 1, 49122371.0: 1, 2391252.0: 1, 3173192.0: 1, 492382.0: 1, 1163402.0: 1, 1143271.0: 1, 782312.0: 1, 491332.0: 1, 9143191.0: 1, 1103131.0: 1, 917291.0: 1, 7102132.0: 1, 3110172.0: 1, 237182.0: 1, 3191152.0: 1, 1133251.0: 1, 7103191.0: 1, 8133172.0: 1, 7142272.0: 1, 2101171.0: 1, 9141152.0: 1, 8101211.0: 1, 7162391.0: 1, 11262.0: 1, 173261.0: 1, 773271.0: 1, 873192.0: 1, 8122282.0: 1, 7132192.0: 1, 153182.0: 1, 973271.0: 1, 4962172.0: 1, 23102251.0: 1, 8101171.0: 1, 7152191.0: 1, 11122.0: 1, 2341202.0: 1, 7101171.0: 1, 1163251.0: 1, 892191.0: 1, 9121182.0: 1, 8133371.0: 1, 853101.0: 1, 96312.0: 1, 4952212.0: 1, 4921101.0: 1, 235241.0: 1, 78381.0: 1, 721131.0: 1, 73172.0: 1, 163242.0: 1, 1103132.0: 1, 9113181.0: 1, 93372.0: 1, 2362231.0: 1, 881352.0: 1, 273171.0: 1, 272182.0: 1, 21222.0: 1, 112271.0: 1, 993171.0: 1, 4913381.0: 1, 31132151.0: 1, 9123191.0: 1, 314231.0: 1, 3161232.0: 1, 2381152.0: 1, 921142.0: 1, 9113152.0: 1, 23123271.0: 1, 1112282.0: 1, 49101172.0: 1, 8153172.0: 1, 717172.0: 1, 811312.0: 1, 9121151.0: 1, 494271.0: 1, 31121372.0: 1, 2131252.0: 1, 4931191.0: 1, 3123101.0: 1, 1112152.0: 1, 2381341.0: 1, 49141172.0: 1, 211121.0: 1, 4981342.0: 1, 183351.0: 1, 1113252.0: 1, 4915182.0: 1, 21142.0: 1, 92172.0: 1, 3153171.0: 1, 31123171.0: 1, 313271.0: 1, 2372191.0: 1, 3114172.0: 1, 3111172.0: 1, 2381291.0: 1, 731151.0: 1, 4971272.0: 1, 4951171.0: 1, 319181.0: 1, 881311.0: 1, 13181.0: 1, 24332.0: 1, 3112272.0: 1, 499181.0: 1, 23162402.0: 1, 763222.0: 1, 2383251.0: 1, 815272.0: 1, 82292.0: 1, 21172.0: 1, 710272.0: 1, 16382.0: 1, 23111162.0: 1, 2141271.0: 1, 7142371.0: 1, 8142171.0: 1, 951212.0: 1, 82392.0: 1, 8123251.0: 1, 861222.0: 1, 78282.0: 1, 2321132.0: 1, 3152152.0: 1, 993191.0: 1, 8141152.0: 1, 8112382.0: 1, 813372.0: 1, 7112161.0: 1, 71131.0: 1, 31162191.0: 1, 4917391.0: 1, 4913281.0: 1, 711272.0: 1, 810272.0: 1, 116282.0: 1, 31102152.0: 1, 31121171.0: 1, 810381.0: 1, 871262.0: 1, 8113162.0: 1, 3153162.0: 1, 21382.0: 1, 133181.0: 1, 251182.0: 1, 317312.0: 1, 172182.0: 1, 23161251.0: 1, 2143271.0: 1, 311281.0: 1, 26372.0: 1, 31103152.0: 1, 9101181.0: 1, 752212.0: 1, 11161.0: 1, 319371.0: 1, 972152.0: 1, 7172201.0: 1, 1101182.0: 1, 493382.0: 1, 311321.0: 1, 7123162.0: 1, 811311.0: 1, 811211.0: 1, 153171.0: 1, 13282.0: 1, 710282.0: 1, 31111271.0: 1, 914172.0: 1, 492372.0: 1, 2122182.0: 1, 23152161.0: 1, 1171152.0: 1, 8121192.0: 1, 153102.0: 1, 7103171.0: 1, 71372.0: 1, 2101182.0: 1, 222122.0: 1, 7132182.0: 1, 831191.0: 1, 23142251.0: 1, 3183321.0: 1, 3173152.0: 1, 171151.0: 1, 911321.0: 1, 236371.0: 1, 21151.0: 1, 9113271.0: 1, 3152182.0: 1, 9111252.0: 1, 2361151.0: 1, 3171272.0: 1, 7152172.0: 1, 183302.0: 1, 3142202.0: 1, 3122121.0: 1, 7122272.0: 1, 723131.0: 1, 253171.0: 1, 293191.0: 1, 3114372.0: 1, 4971281.0: 1, 881361.0: 1, 23141172.0: 1, 2333192.0: 1, 8153161.0: 1, 14231.0: 1, 2343202.0: 1, 236382.0: 1, 7113171.0: 1, 235142.0: 1, 11252.0: 1, 15342.0: 1, 312131.0: 1, 871182.0: 1, 113382.0: 1, 92292.0: 1, 23113182.0: 1, 3162192.0: 1, 4914381.0: 1, 2113172.0: 1, 2362221.0: 1, 93222.0: 1, 3111371.0: 1, 31162212.0: 1, 771281.0: 1, 1113161.0: 1, 495242.0: 1, 76212.0: 1, 252131.0: 1, 872181.0: 1, 49113152.0: 1, 3116372.0: 1, 2151172.0: 1, 9172202.0: 1, 2151161.0: 1, 1103162.0: 1, 1112172.0: 1, 3152211.0: 1, 4983302.0: 1, 133192.0: 1, 8153162.0: 1, 1172172.0: 1, 23131182.0: 1, 251101.0: 1, 31131371.0: 1, 23122171.0: 1, 77311.0: 1, 2151371.0: 1, 1171201.0: 1, 2151152.0: 1, 31161392.0: 1, 7111252.0: 1, 173282.0: 1, 711381.0: 1, 713272.0: 1, 31122372.0: 1, 86272.0: 1, 283151.0: 1, 210171.0: 1, 9122272.0: 1, 14131.0: 1, 4972182.0: 1, 31173171.0: 1, 911212.0: 1, 183292.0: 1, 31161251.0: 1, 771172.0: 1, 3117271.0: 1, 752181.0: 1, 1163191.0: 1, 3133192.0: 1, 22332.0: 1, 8161401.0: 1, 882362.0: 1, 92372.0: 1, 721142.0: 1, 923122.0: 1, 272281.0: 1, 851162.0: 1, 915382.0: 1, 811222.0: 1, 21361.0: 1, 9161191.0: 1, 7151372.0: 1, 1162191.0: 1, 2101212.0: 1, 883252.0: 1, 232271.0: 1, 7163211.0: 1, 4971252.0: 1, 3161241.0: 1, 731171.0: 1, 4982302.0: 1, 491211.0: 1, 97311.0: 1, 910382.0: 1, 7101212.0: 1, 2315171.0: 1, 11151.0: 1, 96372.0: 1, 14181.0: 1, 4961161.0: 1, 115272.0: 1, 79171.0: 1, 71222.0: 1, 283292.0: 1, 4993161.0: 1, 1142251.0: 1, 72281.0: 1, 312191.0: 1, 192151.0: 1, 121132.0: 1, 231271.0: 1, 4993251.0: 1, 7102181.0: 1, 316212.0: 1, 7131281.0: 1, 21131.0: 1, 49121162.0: 1, 811112.0: 1, 238172.0: 1, 982302.0: 1, 751212.0: 1, 2391151.0: 1, 8121281.0: 1, 9112382.0: 1, 31163402.0: 1, 2103252.0: 1, 2113192.0: 1, 3181252.0: 1, 31102161.0: 1, 86281.0: 1, 1102172.0: 1, 2373182.0: 1, 23101251.0: 1, 7121151.0: 1, 3132152.0: 1, 3151212.0: 1, 916271.0: 1, 31121271.0: 1, 214182.0: 1, 236381.0: 1, 910381.0: 1, 7112252.0: 1, 2331181.0: 1, 7112281.0: 1, 8123191.0: 1, 861231.0: 1, 31111172.0: 1, 313322.0: 1, 23113152.0: 1, 2161251.0: 1, 31122182.0: 1, 817371.0: 1, 911311.0: 1, 811181.0: 1, 23121172.0: 1, 2332161.0: 1, 11311.0: 1, 4916372.0: 1, 16372.0: 1, 2342201.0: 1, 3111122.0: 1, 2153252.0: 1, 712181.0: 1, 852102.0: 1, 3115181.0: 1, 253181.0: 1, 2101152.0: 1, 23113381.0: 1, 2322101.0: 1, 9132252.0: 1, 97371.0: 1, 76372.0: 1, 76271.0: 1, 31113151.0: 1, 133162.0: 1, 23111251.0: 1, 84131.0: 1, 31131162.0: 1, 3193172.0: 1, 816271.0: 1, 914372.0: 1, 2372152.0: 1, 9143192.0: 1, 49171201.0: 1, 3171162.0: 1, 311182.0: 1, 91152.0: 1, 171172.0: 1, 814281.0: 1, 9111382.0: 1, 31151151.0: 1, 281362.0: 1, 9151251.0: 1, 2372162.0: 1, 3112171.0: 1, 4991161.0: 1, 182302.0: 1, 293172.0: 1, 316211.0: 1, 861162.0: 1, 1132162.0: 1, 237272.0: 1, 2113381.0: 1, 11222.0: 1, 24182.0: 1, 271181.0: 1, 49123282.0: 1, 7163401.0: 1, 4993152.0: 1, 3123112.0: 1, 983191.0: 1, 83321.0: 1, 8131251.0: 1, 491381.0: 1, 31141151.0: 1, 2163401.0: 1, 3152101.0: 1, 92232.0: 1, 8133152.0: 1, 491141.0: 1, 713372.0: 1, 3122122.0: 1, 21372.0: 1, 23113151.0: 1, 3162151.0: 1, 23122191.0: 1, 4983332.0: 1, 9101162.0: 1, 491212.0: 1, 817132.0: 1, 1152252.0: 1, 7111151.0: 1, 782351.0: 1, 74282.0: 1, 751102.0: 1, 4962221.0: 1, 8163211.0: 1, 122131.0: 1, 281252.0: 1, 3123111.0: 1, 963192.0: 1, 235341.0: 1, 86372.0: 1, 3171271.0: 1, 31111151.0: 1, 4982342.0: 1, 77112.0: 1, 3111211.0: 1, 492172.0: 1, 991172.0: 1, 23163192.0: 1, 312181.0: 1, 49133282.0: 1, 781322.0: 1, 214271.0: 1, 3151182.0: 1, 93281.0: 1, 31133272.0: 1, 1121252.0: 1, 4917172.0: 1, 3172272.0: 1, 23141251.0: 1, 49123152.0: 1, 117172.0: 1, 252211.0: 1, 8122172.0: 1, 2361231.0: 1, 7132161.0: 1, 1153151.0: 1, 3172252.0: 1, 8133272.0: 1, 891151.0: 1, 981151.0: 1, 23133171.0: 1, 133152.0: 1, 238111.0: 1, 872251.0: 1, 25242.0: 1, 817281.0: 1, 9122192.0: 1, 238281.0: 1, 9101251.0: 1, 2315182.0: 1, 3152162.0: 1, 2313371.0: 1, 49121282.0: 1, 23171171.0: 1, 251162.0: 1, 4981252.0: 1, 8122272.0: 1, 4961192.0: 1, 4915171.0: 1, 9171201.0: 1, 973181.0: 1, 1131182.0: 1, 8121162.0: 1, 9161402.0: 1, 842202.0: 1, 49152152.0: 1, 2361172.0: 1, 733191.0: 1, 8143392.0: 1, 23123371.0: 1, 981152.0: 1, 2123151.0: 1, 2161192.0: 1, 2315381.0: 1, 4912281.0: 1, 8173162.0: 1, 11351.0: 1, 31141372.0: 1, 731181.0: 1, 1161401.0: 1, 2122271.0: 1, 31153372.0: 1, 31121281.0: 1, 491281.0: 1, 8162401.0: 1, 1131371.0: 1, 283362.0: 1, 4916382.0: 1, 239271.0: 1, 3162242.0: 1, 2112251.0: 1, 2111152.0: 1, 2373282.0: 1, 23102182.0: 1, 94271.0: 1, 781341.0: 1, 23151371.0: 1, 236372.0: 1, 2111191.0: 1, 31132282.0: 1, 862162.0: 1, 86271.0: 1, 1132182.0: 1, 21161.0: 1, 3117382.0: 1, 23172152.0: 1, 782251.0: 1, 962232.0: 1, 9132161.0: 1, 71272.0: 1, 953172.0: 1, 9123271.0: 1, 873161.0: 1, 2172151.0: 1, 3112271.0: 1, 992172.0: 1, 23102212.0: 1, 49152151.0: 1, 9152252.0: 1, 1152251.0: 1, 31113182.0: 1, 8111251.0: 1, 210172.0: 1, 23132272.0: 1, 2131272.0: 1, 4913282.0: 1, 73371.0: 1, 732151.0: 1, 2333151.0: 1, 49151252.0: 1, 862151.0: 1, 121102.0: 1, 23131171.0: 1, 23131372.0: 1, 291152.0: 1, 3123121.0: 1, 292191.0: 1, 313281.0: 1, 7121282.0: 1, 2383252.0: 1, 27212.0: 1, 92181.0: 1, 71242.0: 1, 714381.0: 1, 3172261.0: 1, 4933182.0: 1, 23153171.0: 1, 3181191.0: 1, 2383321.0: 1, 9163191.0: 1, 49111191.0: 1, 94182.0: 1, 237382.0: 1, 23153162.0: 1, 2313181.0: 1, 23151172.0: 1, 2392192.0: 1, 23141392.0: 1, 117392.0: 1, 951131.0: 1, 9103252.0: 1, 3182322.0: 1, 88281.0: 1, 4963152.0: 1, 261232.0: 1, 181362.0: 1, 31112162.0: 1, 173182.0: 1, 2102161.0: 1, 3162161.0: 1, 9133371.0: 1, 23102252.0: 1, 316181.0: 1, 31111272.0: 1, 831152.0: 1, 29282.0: 1, 49143391.0: 1, 2132172.0: 1, 75141.0: 1, 1152192.0: 1, 493311.0: 1, 942202.0: 1, 9121162.0: 1, 98382.0: 1, 81341.0: 1, 1101211.0: 1, 2353162.0: 1, 9143272.0: 1, 3112181.0: 1, 31112191.0: 1, 9103212.0: 1, 2321101.0: 1, 3191191.0: 1, 2333172.0: 1, 2382312.0: 1, 494282.0: 1, 281361.0: 1, 498212.0: 1, 283321.0: 1, 1143251.0: 1, 883251.0: 1, 31102162.0: 1, 3131152.0: 1, 9123182.0: 1, 23132162.0: 1, 992191.0: 1, 73122.0: 1, 952182.0: 1, 9142171.0: 1, 871252.0: 1, 314232.0: 1, 236171.0: 1, 7112271.0: 1, 311381.0: 1, 714272.0: 1, 261161.0: 1, 86182.0: 1, 7122282.0: 1, 983292.0: 1, 9163192.0: 1, 49151152.0: 1, 49112272.0: 1, 238271.0: 1, 3163242.0: 1, 31101161.0: 1, 23151161.0: 1, 982352.0: 1, 23122162.0: 1, 4981192.0: 1, 49171152.0: 1, 77381.0: 1, 852151.0: 1, 911122.0: 1, 31123192.0: 1, 2381351.0: 1, 4912171.0: 1, 8111181.0: 1, 76211.0: 1, 3182321.0: 1, 49101252.0: 1, 23122271.0: 1, 311251.0: 1, 76172.0: 1, 1132372.0: 1, 1102211.0: 1, 162171.0: 1, 123121.0: 1, 314332.0: 1, 236311.0: 1, 18171.0: 1, 771191.0: 1, 23123372.0: 1, 3111282.0: 1, 314132.0: 1, 23142372.0: 1, 892151.0: 1, 22281.0: 1, 815381.0: 1, 771261.0: 1, 217382.0: 1, 8101151.0: 1, 91381.0: 1, 283341.0: 1, 2371181.0: 1, 31152172.0: 1, 491182.0: 1, 49133172.0: 1, 315341.0: 1, 2163252.0: 1, 236172.0: 1, 23122192.0: 1, 2103151.0: 1, 24271.0: 1, 272172.0: 1, 2143191.0: 1, 171281.0: 1, 893252.0: 1, 181311.0: 1, 8101161.0: 1, 152101.0: 1, 3163231.0: 1, 791192.0: 1, 173272.0: 1, 941201.0: 1, 2141192.0: 1, 231232.0: 1, 3182312.0: 1, 814272.0: 1, 13112.0: 1, 963191.0: 1, 2333191.0: 1, 23163401.0: 1, 81251.0: 1, 293161.0: 1, 233171.0: 1, 9123252.0: 1, 7111182.0: 1, 116171.0: 1, 972271.0: 1, 72172.0: 1, 73281.0: 1, 3163191.0: 1, 23101151.0: 1, 9143372.0: 1, 49101151.0: 1, 2382311.0: 1, 231361.0: 1, 49153151.0: 1, 31151372.0: 1, 72392.0: 1, 311172.0: 1, 233172.0: 1, 992151.0: 1, 7161251.0: 1, 88112.0: 1, 11232.0: 1, 4911111.0: 1, 12371.0: 1, 493182.0: 1, 982322.0: 1, 92192.0: 1, 23121151.0: 1, 861192.0: 1, 8131172.0: 1, 9143171.0: 1, 22382.0: 1, 151151.0: 1, 993252.0: 1, 814282.0: 1, 8112162.0: 1, 23102211.0: 1, 95142.0: 1, 81181.0: 1, 8123282.0: 1, 992192.0: 1, 31171161.0: 1, 23163191.0: 1, 89371.0: 1, 49123371.0: 1, 214171.0: 1, 7143372.0: 1, 498281.0: 1, 8122271.0: 1, 9131252.0: 1, 49122252.0: 1, 183312.0: 1, 9103132.0: 1, 761231.0: 1, 31151191.0: 1, 318172.0: 1, 8152372.0: 1, 83181.0: 1, 4981191.0: 1, 217171.0: 1, 49141252.0: 1, 771272.0: 1, 4941202.0: 1, 717381.0: 1, 79282.0: 1, 192162.0: 1, 22282.0: 1, 732181.0: 1, 2372192.0: 1, 9162192.0: 1, 317271.0: 1, 1172202.0: 1, 3112282.0: 1, 82282.0: 1, 981331.0: 1, 23153192.0: 1, 23153161.0: 1, 817332.0: 1, 881312.0: 1, 49133272.0: 1, 282332.0: 1, 3143202.0: 1, 2383332.0: 1, 2173202.0: 1, 3181331.0: 1, 9172172.0: 1, 717231.0: 1, 2383342.0: 1, 2102152.0: 1, 7111282.0: 1, 163241.0: 1, 273252.0: 1, 116371.0: 1, 753151.0: 1, 4942201.0: 1, 7111161.0: 1, 9143152.0: 1, 491171.0: 1, 2152371.0: 1, 234332.0: 1, 2361221.0: 1, 3117232.0: 1, 494181.0: 1, 71352.0: 1, 22191.0: 1, 239372.0: 1, 2163392.0: 1, 1141371.0: 1, 81141.0: 1, 49122372.0: 1, 2392152.0: 1, 883342.0: 1, 271271.0: 1, 961191.0: 1, 291251.0: 1, 217271.0: 1, 8173171.0: 1, 316311.0: 1, 715172.0: 1, 23143371.0: 1, 23132251.0: 1, 79182.0: 1, 16312.0: 1, 7161392.0: 1, 952211.0: 1, 9102192.0: 1, 2133152.0: 1, 183331.0: 1, 772152.0: 1, 27111.0: 1, 491382.0: 1, 4915372.0: 1, 941202.0: 1, 23101181.0: 1, 261152.0: 1, 782252.0: 1, 2392251.0: 1, 31101132.0: 1, 3171161.0: 1, 493281.0: 1, 31142172.0: 1, 711271.0: 1, 23131371.0: 1, 953152.0: 1, 7132372.0: 1, 14371.0: 1, 114372.0: 1, 2112172.0: 1, 9153192.0: 1, 494281.0: 1, 9151191.0: 1, 872151.0: 1, 23132192.0: 1, 8153372.0: 1, 8143252.0: 1, 111381.0: 1, 163161.0: 1, 2131371.0: 1, 31131272.0: 1, 491121.0: 1, 8162251.0: 1, 23101161.0: 1, 2153171.0: 1, 76171.0: 1, 96311.0: 1, 1151251.0: 1, 1123371.0: 1, 981332.0: 1, 9163212.0: 1, 2323121.0: 1, 49113151.0: 1, 72331.0: 1, 2372172.0: 1, 861172.0: 1, 77271.0: 1, 743202.0: 1, 793171.0: 1, 9161212.0: 1, 152181.0: 1, 192172.0: 1, 236271.0: 1, 9103191.0: 1, 23132181.0: 1, 4982361.0: 1, 497382.0: 1, 2332152.0: 1, 96371.0: 1, 282331.0: 1, 23163211.0: 1, 49132192.0: 1, 2371192.0: 1, 211222.0: 1, 7171161.0: 1, 262172.0: 1, 7103162.0: 1, 817392.0: 1, 7103131.0: 1, 115381.0: 1, 7111172.0: 1, 2311371.0: 1, 84371.0: 1, 49161212.0: 1, 882301.0: 1, 7132252.0: 1, 4933181.0: 1, 2352152.0: 1, 49103161.0: 1, 181151.0: 1, 23111382.0: 1, 131192.0: 1, 9151151.0: 1, 49153372.0: 1, 7101131.0: 1, 31112271.0: 1, 292171.0: 1, 2133192.0: 1, 3114281.0: 1, 862222.0: 1, 2121151.0: 1, 491271.0: 1, 23322.0: 1, 23122181.0: 1, 22171.0: 1, 9111152.0: 1, 49122192.0: 1, 49152171.0: 1, 753181.0: 1, 231362.0: 1, 781361.0: 1, 253161.0: 1, 817291.0: 1, 2313381.0: 1, 96171.0: 1, 1151152.0: 1, 13372.0: 1, 7153372.0: 1, 2171172.0: 1, 7173171.0: 1, 116181.0: 1, 7121252.0: 1, 952171.0: 1, 97181.0: 1, 251172.0: 1, 7121281.0: 1, 8172162.0: 1, 2172172.0: 1, 11131.0: 1, 3171261.0: 1, 28171.0: 1, 314272.0: 1, 132191.0: 1, 3133161.0: 1, 9132191.0: 1, 922111.0: 1, 112371.0: 1, 2311181.0: 1, 753211.0: 1, 2102182.0: 1, 49163251.0: 1, 851101.0: 1, 11321.0: 1, 893161.0: 1, 261192.0: 1, 292252.0: 1, 823101.0: 1, 862192.0: 1, 7101152.0: 1, 2112281.0: 1, 3121142.0: 1, 49172201.0: 1, 8121152.0: 1, 2152372.0: 1, 2314371.0: 1, 116281.0: 1, 772252.0: 1, 2353132.0: 1, 49151371.0: 1, 262191.0: 1, 1153191.0: 1, 8132282.0: 1, 2313182.0: 1, 21341.0: 1, 87382.0: 1, 72132.0: 1, 1151172.0: 1, 49103162.0: 1, 8172161.0: 1, 9132181.0: 1, 8103172.0: 1, 26371.0: 1, 8101251.0: 1, 31111182.0: 1, 31121371.0: 1, 2172202.0: 1, 3181311.0: 1, 7173202.0: 1, 71161.0: 1, 2363241.0: 1, 2132371.0: 1, 2141252.0: 1, 213171.0: 1, 714282.0: 1, 2103162.0: 1, 49123251.0: 1, 23121282.0: 1, 4914382.0: 1, 9113381.0: 1, 9101161.0: 1, 4972251.0: 1, 121122.0: 1, 132162.0: 1, 238171.0: 1, 9122152.0: 1, 49102211.0: 1, 8131171.0: 1, 3151151.0: 1, 1171161.0: 1, 971182.0: 1, 8142391.0: 1, 123112.0: 1, 4932192.0: 1, 7142271.0: 1, 49151192.0: 1, 232331.0: 1, 1113172.0: 1, 3192172.0: 1, 495342.0: 1, 831161.0: 1, 2161401.0: 1, 4917192.0: 1, 773152.0: 1, 31131282.0: 1, 961241.0: 1, 1133161.0: 1, 7123152.0: 1, 781342.0: 1, 3161172.0: 1, 1121181.0: 1, 2331161.0: 1, 23122372.0: 1, 273282.0: 1, 231192.0: 1, 762231.0: 1, 252181.0: 1, 911171.0: 1, 3112381.0: 1, 263152.0: 1, 4953132.0: 1, 7112282.0: 1, 49162391.0: 1, 8102212.0: 1, 221131.0: 1, 31102172.0: 1, 971162.0: 1, 23113271.0: 1, 9123162.0: 1, 2317231.0: 1, 31112381.0: 1, 2111182.0: 1, 2381311.0: 1, 863152.0: 1, 77371.0: 1, 49151161.0: 1, 4910371.0: 1, 31132372.0: 1, 9153251.0: 1, 231251.0: 1, 8171162.0: 1, 172272.0: 1, 711321.0: 1, 293192.0: 1, 272252.0: 1, 49112161.0: 1, 2316382.0: 1, 1142171.0: 1, 2373181.0: 1, 2314171.0: 1, 23103151.0: 1, 2393191.0: 1, 8142191.0: 1, 7101191.0: 1, 811382.0: 1, 86211.0: 1, 3161231.0: 1, 23131251.0: 1, 9121252.0: 1, 94382.0: 1, 7151251.0: 1, 3121121.0: 1, 49141251.0: 1, 7101211.0: 1, 1123272.0: 1, 73212.0: 1, 49152371.0: 1, 263231.0: 1, 3173281.0: 1, 492271.0: 1, 963232.0: 1, 4981361.0: 1, 87111.0: 1, 4933172.0: 1, 863232.0: 1, 2141392.0: 1, 11212.0: 1, 31102251.0: 1, 8102172.0: 1, 811221.0: 1, 23162192.0: 1, 722102.0: 1, 252151.0: 1, 1111281.0: 1, 4917282.0: 1, 815372.0: 1, 717292.0: 1, 211322.0: 1, 31131192.0: 1, 7143252.0: 1, 8151192.0: 1, 752172.0: 1, 4981151.0: 1, 23102192.0: 1, 853132.0: 1, 3181192.0: 1, 313111.0: 1, 8112182.0: 1, 74232.0: 1, 1163211.0: 1, 23382.0: 1, 83111.0: 1, 4916371.0: 1, 217132.0: 1, 4933162.0: 1, 171191.0: 1, 781321.0: 1, 7142172.0: 1, 49123151.0: 1, 4911211.0: 1, 733171.0: 1, 7103251.0: 1, 83182.0: 1, 8113381.0: 1, 921102.0: 1, 491252.0: 1, 717132.0: 1, 283322.0: 1, 81121.0: 1, 24331.0: 1, 2373281.0: 1, 319172.0: 1, 182301.0: 1, 822142.0: 1, 815181.0: 1, 263191.0: 1, 49112271.0: 1, 762191.0: 1, 2331162.0: 1, 3110281.0: 1, 97212.0: 1, 7153152.0: 1, 8122252.0: 1, 1133151.0: 1, 917372.0: 1, 49102252.0: 1, 24381.0: 1, 816371.0: 1, 17281.0: 1, 12332.0: 1, 3181152.0: 1, 23112192.0: 1, 317181.0: 1, 914171.0: 1, 872192.0: 1, 3172281.0: 1, 3114271.0: 1, 79272.0: 1, 3111112.0: 1, 494132.0: 1, 292192.0: 1, 910371.0: 1, 282151.0: 1, 153162.0: 1, 271272.0: 1, 3115381.0: 1, 1113281.0: 1, 715272.0: 1, 232381.0: 1, 3114171.0: 1, 23181.0: 1, 2372151.0: 1, 191192.0: 1, 262241.0: 1, 31122181.0: 1, 4951102.0: 1, 3151171.0: 1, 153152.0: 1, 182332.0: 1, 4962242.0: 1, 23113161.0: 1, 815171.0: 1, 162221.0: 1, 7133152.0: 1, 72171.0: 1, 7151161.0: 1, 853182.0: 1, 922132.0: 1, 117192.0: 1, 9163252.0: 1, 816382.0: 1, 11272.0: 1, 98171.0: 1, 110271.0: 1, 4963231.0: 1, 272161.0: 1, 23112282.0: 1, 921112.0: 1, 49113251.0: 1, 18311.0: 1, 497371.0: 1, 27182.0: 1, 313311.0: 1, 3183322.0: 1, 25241.0: 1, 3171172.0: 1, 923132.0: 1, 316312.0: 1, 23111192.0: 1, 49121182.0: 1, 49123271.0: 1, 498372.0: 1, 79181.0: 1, 88282.0: 1, 171152.0: 1, 7111192.0: 1, 9151172.0: 1, 8132181.0: 1, 71111.0: 1, 49132171.0: 1, 982152.0: 1, 31132252.0: 1, 811371.0: 1, 23161391.0: 1, 117292.0: 1, 811182.0: 1, 31111281.0: 1, 3111111.0: 1, 3191172.0: 1, 3114181.0: 1, 496212.0: 1, 181352.0: 1, 814382.0: 1, 1131281.0: 1, 9173171.0: 1, 981291.0: 1, 18182.0: 1, 9133162.0: 1, 963151.0: 1, 78382.0: 1, 863231.0: 1, 2312372.0: 1, 23172171.0: 1, 7123181.0: 1, 3191252.0: 1, 28182.0: 1, 4961191.0: 1, 281291.0: 1, 2143391.0: 1, 772151.0: 1, 491371.0: 1, 252102.0: 1, 498172.0: 1, 751162.0: 1, 1113192.0: 1, 7131372.0: 1, 9132192.0: 1, 721101.0: 1, 21181.0: 1, 993162.0: 1, 2351132.0: 1, 133182.0: 1, 31152171.0: 1, 7123271.0: 1, 499282.0: 1, 213372.0: 1, 3132181.0: 1, 3192162.0: 1, 49123372.0: 1, 871161.0: 1, 71171.0: 1, 792151.0: 1, 311331.0: 1, 49151372.0: 1, 1153251.0: 1, 952151.0: 1, 2362232.0: 1, 9122271.0: 1, 49123161.0: 1, 852131.0: 1, 952101.0: 1, 112381.0: 1, 9133272.0: 1, 23141192.0: 1, 75342.0: 1, 2311321.0: 1, 2351182.0: 1, 23143252.0: 1, 2311281.0: 1, 9102162.0: 1, 27312.0: 1, 1123152.0: 1, 810182.0: 1, 973262.0: 1, 3114272.0: 1, 223101.0: 1, 882351.0: 1, 216281.0: 1, 8132161.0: 1, 9121171.0: 1, 7103172.0: 1, 2361171.0: 1, 8122372.0: 1, 8113271.0: 1, 313221.0: 1, 752151.0: 1, 8141251.0: 1, 111311.0: 1, 15341.0: 1, 8113282.0: 1, 3172181.0: 1, 243201.0: 1, 7133151.0: 1, 49163402.0: 1, 8153171.0: 1, 49132272.0: 1, 2142252.0: 1, 873151.0: 1, 253211.0: 1, 73271.0: 1, 731152.0: 1, 217331.0: 1, 2362192.0: 1, 2372282.0: 1, 1131172.0: 1, 13281.0: 1, 7102131.0: 1, 31161192.0: 1, 2316182.0: 1, 8163252.0: 1, 23113191.0: 1, 8112151.0: 1, 153172.0: 1, 253101.0: 1, 317371.0: 1, 162191.0: 1, 8152192.0: 1, 8101182.0: 1, 1152172.0: 1, 232332.0: 1, 7123151.0: 1, 31131152.0: 1, 791161.0: 1, 9171161.0: 1, 1122162.0: 1, 4916381.0: 1, 1111282.0: 1, 4910271.0: 1, 31133151.0: 1, 31172152.0: 1, 3181352.0: 1, 917381.0: 1, 110171.0: 1, 8171161.0: 1, 21362.0: 1, 9122371.0: 1, 291151.0: 1, 499371.0: 1, 7103161.0: 1, 2133151.0: 1, 2151171.0: 1, 131152.0: 1, 498371.0: 1, 873272.0: 1, 3172182.0: 1, 23123282.0: 1, 95141.0: 1, 111171.0: 1, 2322131.0: 1, 318372.0: 1, 915182.0: 1, 716271.0: 1, 2332172.0: 1, 132192.0: 1, 8122171.0: 1, 7132151.0: 1, 49113161.0: 1, 131162.0: 1, 81262.0: 1, 781332.0: 1, 771262.0: 1, 83311.0: 1, 93382.0: 1, 76111.0: 1, 121112.0: 1, 8111282.0: 1, 9172162.0: 1, 491242.0: 1, 3111321.0: 1, 9111162.0: 1, 31162392.0: 1, 91311.0: 1, 31123182.0: 1, 1161391.0: 1, 793191.0: 1, 2372272.0: 1, 49142172.0: 1, 49132372.0: 1, 162232.0: 1, 122141.0: 1, 161151.0: 1, 2311222.0: 1, 4913382.0: 1, 7132181.0: 1, 931152.0: 1, 8123371.0: 1, 491312.0: 1, 913381.0: 1, 18111.0: 1, 31143191.0: 1, 49141272.0: 1, 983341.0: 1, 4973251.0: 1, 717382.0: 1, 2323132.0: 1, 291161.0: 1, 81321.0: 1, 832152.0: 1, 78271.0: 1, 2122371.0: 1, 1153171.0: 1, 892152.0: 1, 9153161.0: 1, 214282.0: 1, 961192.0: 1, 4961222.0: 1, 31123152.0: 1, 9103251.0: 1, 49141192.0: 1, 883291.0: 1, 49122161.0: 1, 7111162.0: 1, 89171.0: 1, 163192.0: 1, 9123151.0: 1, 4981331.0: 1, 3117182.0: 1, 142201.0: 1, 8102152.0: 1, 237171.0: 1, 9102152.0: 1, 4917271.0: 1, 3173151.0: 1, 983252.0: 1, 1111182.0: 1, 932192.0: 1, 2131251.0: 1, 281322.0: 1, 214381.0: 1, 815271.0: 1, 7111382.0: 1, 116381.0: 1, 23143372.0: 1, 31131251.0: 1, 952212.0: 1, 3183301.0: 1, 216271.0: 1, 111212.0: 1, 9113182.0: 1, 498181.0: 1, 76281.0: 1, 217192.0: 1, 31153191.0: 1, 231212.0: 1, 3111182.0: 1, 833182.0: 1, 4952131.0: 1, 311372.0: 1, 3152181.0: 1, 893151.0: 1, 24232.0: 1, 1162212.0: 1, 49142392.0: 1, 2392162.0: 1, 312381.0: 1, 853211.0: 1, 31172171.0: 1, 9132172.0: 1, 923131.0: 1, 215171.0: 1, 153131.0: 1, 2142272.0: 1, 4923132.0: 1, 9113172.0: 1, 31142392.0: 1, 83322.0: 1, 9111282.0: 1, 22172.0: 1, 71371.0: 1, 7101251.0: 1, 2391192.0: 1, 763241.0: 1, 99271.0: 1, 9133172.0: 1, 23173162.0: 1, 3114371.0: 1, 1151191.0: 1, 9102182.0: 1, 3115272.0: 1, 733162.0: 1, 2353152.0: 1, 31112171.0: 1, 8121251.0: 1, 31151172.0: 1, 31112382.0: 1, 12272.0: 1, 761151.0: 1, 114181.0: 1, 2321112.0: 1, 49132281.0: 1, 1121371.0: 1, 313182.0: 1, 238282.0: 1, 491172.0: 1, 23211.0: 1, 2131181.0: 1, 237172.0: 1, 2321131.0: 1, 2161391.0: 1, 23103132.0: 1, 21332.0: 1, 491142.0: 1, 2152151.0: 1, 82382.0: 1, 943202.0: 1, 2103132.0: 1, 983301.0: 1, 817382.0: 1, 49142192.0: 1, 49101181.0: 1, 933181.0: 1, 8141191.0: 1, 7142372.0: 1, 89381.0: 1, 9141172.0: 1, 237211.0: 1, 763172.0: 1, 9151162.0: 1, 253131.0: 1, 89172.0: 1, 171161.0: 1, 8101191.0: 1, 7142392.0: 1, 4953131.0: 1, 31111381.0: 1, 2333182.0: 1, 2352161.0: 1, 31163392.0: 1, 49141271.0: 1, 3114282.0: 1, 21321.0: 1, 23112272.0: 1, 236182.0: 1, 49153152.0: 1, 49143372.0: 1, 7103252.0: 1, 133191.0: 1, 971272.0: 1, 752182.0: 1, 262152.0: 1, 810181.0: 1, 9113162.0: 1, 2131152.0: 1, 7152372.0: 1, 881341.0: 1, 1123182.0: 1, 2173201.0: 1, 8113182.0: 1, 81372.0: 1, 131151.0: 1, 49121171.0: 1, 273181.0: 1, 86172.0: 1, 87381.0: 1, 78112.0: 1, 238211.0: 1, 8111271.0: 1, 3121111.0: 1, 1103171.0: 1, 49153172.0: 1, 7133251.0: 1, 23131282.0: 1, 873271.0: 1, 773172.0: 1, 1143192.0: 1, 98372.0: 1, 771192.0: 1, 4992161.0: 1, 1123252.0: 1, 981302.0: 1, 971161.0: 1, 183311.0: 1, 318112.0: 1, 881152.0: 1, 853162.0: 1, 2121372.0: 1, 21141.0: 1, 49172202.0: 1, 317111.0: 1, 110272.0: 1, 23182.0: 1, 31113282.0: 1, 49172172.0: 1, 12271.0: 1, 8173201.0: 1, 233271.0: 1, 83212.0: 1, 752132.0: 1, 3183311.0: 1, 49132152.0: 1, 1123181.0: 1, 181342.0: 1, 23271.0: 1, 4953171.0: 1, 4951101.0: 1, 8121272.0: 1, 87112.0: 1, 891251.0: 1, 31141392.0: 1, 49151171.0: 1, 31102181.0: 1, 239371.0: 1, 4912381.0: 1, 23152172.0: 1, 2323142.0: 1, 49121161.0: 1, 9111161.0: 1, 71342.0: 1, 3117172.0: 1, 182342.0: 1, 171261.0: 1, 495141.0: 1, 29382.0: 1, 49103211.0: 1, 3172191.0: 1, 8103192.0: 1, 9152191.0: 1, 151102.0: 1, 933161.0: 1, 2131161.0: 1, 311152.0: 1, 238382.0: 1, 732182.0: 1, 31122281.0: 1, 263221.0: 1, 17271.0: 1, 172252.0: 1, 2382351.0: 1, 497182.0: 1, 99171.0: 1, 231242.0: 1, 2321102.0: 1, 4983341.0: 1, 2163211.0: 1, 2333181.0: 1, 2383192.0: 1, 7102252.0: 1, 163152.0: 1, 4911112.0: 1, 18371.0: 1, 31142372.0: 1, 1113382.0: 1, 8131371.0: 1, 3161192.0: 1, 7171152.0: 1, 232382.0: 1, 171282.0: 1, 3193252.0: 1, 2322102.0: 1, 11172.0: 1, 1123372.0: 1, 74332.0: 1, 9173151.0: 1, 3111221.0: 1, 49161251.0: 1, 2132251.0: 1, 4916282.0: 1, 9142372.0: 1, 7141391.0: 1, 4923142.0: 1, 491321.0: 1, 23142392.0: 1, 28381.0: 1, 4992151.0: 1, 9131192.0: 1, 8141151.0: 1, 711181.0: 1, 232162.0: 1, 9112271.0: 1, 91112.0: 1, 1103251.0: 1, 23112381.0: 1, 723132.0: 1, 19271.0: 1, 1103252.0: 1, 23101191.0: 1, 2317371.0: 1, 293251.0: 1, 981312.0: 1, 23101211.0: 1, 11281.0: 1, 3110182.0: 1, 91322.0: 1, 932191.0: 1, 2162401.0: 1, 817191.0: 1, 2132271.0: 1, 881192.0: 1, 792172.0: 1, 4963162.0: 1, 7173152.0: 1, 84281.0: 1, 893191.0: 1, 9123372.0: 1, 272171.0: 1, 49111161.0: 1, 23131192.0: 1, 115282.0: 1, 1122272.0: 1, 49171202.0: 1, 3111171.0: 1, 4914372.0: 1, 312171.0: 1, 7122192.0: 1, 4981311.0: 1, 9133281.0: 1, 49141372.0: 1, 4951182.0: 1, 117171.0: 1, 191152.0: 1, 3117272.0: 1, 31112172.0: 1, 983251.0: 1, 823111.0: 1, 1142191.0: 1, 271172.0: 1, 9142391.0: 1, 49122162.0: 1, 912282.0: 1, 81182.0: 1, 31112281.0: 1, 281152.0: 1, 23212.0: 1, 7113161.0: 1, 3182341.0: 1, 2391152.0: 1, 14372.0: 1, 2112181.0: 1, 7141271.0: 1, 8102181.0: 1, 2362242.0: 1, 932182.0: 1, 191151.0: 1, 7111251.0: 1, 911222.0: 1, 1122152.0: 1, 49172162.0: 1, 2317271.0: 1, 91221.0: 1, 94231.0: 1, 23123161.0: 1, 91351.0: 1, 23143392.0: 1, 2322121.0: 1, 496312.0: 1, 31152372.0: 1, 262232.0: 1, 9153191.0: 1, 4952171.0: 1, 972181.0: 1, 2311381.0: 1, 271171.0: 1, 23133162.0: 1, 2392191.0: 1, 493221.0: 1, 1121372.0: 1, 1121192.0: 1, 7123371.0: 1, 318181.0: 1, 8112252.0: 1, 9103182.0: 1, 251161.0: 1, 7162392.0: 1, 272251.0: 1, 26281.0: 1, 91312.0: 1, 2311182.0: 1, 11362.0: 1, 49161191.0: 1, 9163392.0: 1, 9143151.0: 1, 8112271.0: 1, 21371.0: 1, 49121372.0: 1, 49132182.0: 1, 7122161.0: 1, 11142.0: 1, 1133171.0: 1, 4921121.0: 1, 911182.0: 1, 23122281.0: 1, 8102191.0: 1, 823131.0: 1, 3172172.0: 1, 87182.0: 1, 19371.0: 1, 3173171.0: 1, 91161.0: 1, 291171.0: 1, 8132151.0: 1, 82371.0: 1, 4923131.0: 1, 783301.0: 1, 2111181.0: 1, 152171.0: 1, 9173202.0: 1, 312331.0: 1, 781152.0: 1, 96182.0: 1, 496171.0: 1, 49153192.0: 1, 991251.0: 1, 2123181.0: 1, 2312281.0: 1, 89382.0: 1, 4913371.0: 1, 911312.0: 1, 7111272.0: 1, 715271.0: 1, 917282.0: 1, 792252.0: 1, 4983361.0: 1, 49113381.0: 1, 231231.0: 1, 7113281.0: 1, 217131.0: 1, 2132182.0: 1, 816181.0: 1, 783331.0: 1, 23102131.0: 1, 7121181.0: 1, 3171262.0: 1, 31121162.0: 1, 214172.0: 1, 49103172.0: 1, 8143172.0: 1, 23142252.0: 1, 237312.0: 1, 312272.0: 1, 814271.0: 1, 497112.0: 1, 4917392.0: 1, 316382.0: 1, 23121161.0: 1, 7153251.0: 1, 291191.0: 1, 711372.0: 1, 771152.0: 1, 953161.0: 1, 3151102.0: 1, 318211.0: 1, 234171.0: 1, 772172.0: 1, 917132.0: 1, 111312.0: 1, 49162402.0: 1, 2314281.0: 1, 817171.0: 1, 8152371.0: 1, 8162252.0: 1, 272162.0: 1, 251171.0: 1, 273272.0: 1, 311241.0: 1, 213172.0: 1, 23112181.0: 1, 4993191.0: 1, 4931181.0: 1, 496182.0: 1, 112282.0: 1, 31143372.0: 1, 822131.0: 1, 23111171.0: 1, 31141152.0: 1, 2111172.0: 1, 7151151.0: 1, 9122252.0: 1, 31103151.0: 1, 212182.0: 1, 4962162.0: 1, 8123281.0: 1, 913182.0: 1, 281251.0: 1, 317112.0: 1, 3191251.0: 1, 16211.0: 1, 4981362.0: 1, 2314182.0: 1, 2172201.0: 1, 23152251.0: 1, 92271.0: 1, 831151.0: 1, 217392.0: 1, 31171151.0: 1, 2123182.0: 1, 4982322.0: 1, 7132152.0: 1, 4931151.0: 1, 853172.0: 1, 18281.0: 1, 1152161.0: 1, 493282.0: 1, 2162211.0: 1, 9101252.0: 1, 31143152.0: 1, 152131.0: 1, 491162.0: 1, 31101131.0: 1, 21121.0: 1, 851172.0: 1, 3163162.0: 1, 23133252.0: 1, 8113152.0: 1, 72381.0: 1, 1121182.0: 1, 1113191.0: 1, 8101252.0: 1, 2152152.0: 1, 2323111.0: 1, 7172202.0: 1, 4972161.0: 1, 7133281.0: 1, 31171162.0: 1, 4992172.0: 1, 2381362.0: 1, 2122372.0: 1, 4923102.0: 1, 4973271.0: 1, 7121192.0: 1, 78171.0: 1, 31132191.0: 1, 21122.0: 1, 2371162.0: 1, 4914272.0: 1, 49161391.0: 1, 1113381.0: 1, 2351101.0: 1, 173191.0: 1, 233151.0: 1, 8142151.0: 1, 883312.0: 1, 23132191.0: 1, 4982251.0: 1, 4915381.0: 1, 71311.0: 1, 23111272.0: 1, 31101181.0: 1, 791152.0: 1, 3193251.0: 1, 173271.0: 1, 952102.0: 1, 23151171.0: 1, 99182.0: 1, 7152162.0: 1, 49153251.0: 1, 911381.0: 1, 182291.0: 1, 31101252.0: 1, 7163251.0: 1, 816272.0: 1, 3181362.0: 1, 12172.0: 1, 231281.0: 1, 7122281.0: 1, 89271.0: 1, 1171151.0: 1, 94132.0: 1, 114171.0: 1, 813371.0: 1, 22232.0: 1, 89282.0: 1, 881252.0: 1, 76312.0: 1, 7161391.0: 1, 2173172.0: 1, 852182.0: 1, 3181291.0: 1, 23123251.0: 1, 863172.0: 1, 922101.0: 1, 891191.0: 1, 2362161.0: 1, 9123282.0: 1, 93122.0: 1, 713282.0: 1, 111122.0: 1, 2372181.0: 1, 893162.0: 1, 253212.0: 1, 22132.0: 1, 96272.0: 1, 497181.0: 1, 23142152.0: 1, 3171191.0: 1, 973152.0: 1, 8133191.0: 1, 116271.0: 1, 283251.0: 1, 23103161.0: 1, 497171.0: 1, 31111252.0: 1, 9141151.0: 1, 84231.0: 1, 312192.0: 1, 98281.0: 1, 49133191.0: 1, 4943201.0: 1, 24131.0: 1, 4992162.0: 1, 816281.0: 1, 2172152.0: 1, 223142.0: 1, 3113372.0: 1, 86181.0: 1, 162222.0: 1, 3171182.0: 1, 23133152.0: 1, 4952181.0: 1, 761241.0: 1, 1101152.0: 1, 9103151.0: 1, 761221.0: 1, 8173161.0: 1, 983311.0: 1, 49141391.0: 1, 8123162.0: 1, 11112.0: 1, 112281.0: 1, 9163211.0: 1, 49142171.0: 1, 94281.0: 1, 181341.0: 1, 4963241.0: 1, 1123191.0: 1, 49122282.0: 1, 772181.0: 1, 161192.0: 1, 2102212.0: 1, 117332.0: 1, 8102132.0: 1, 752211.0: 1, 49102251.0: 1, 3111382.0: 1, 817131.0: 1, 4913172.0: 1, 493212.0: 1, 319282.0: 1, 498311.0: 1, 233212.0: 1, 4981292.0: 1, 172162.0: 1, 761232.0: 1, 7133371.0: 1, 181351.0: 1, 23121171.0: 1, 3121112.0: 1, 3121132.0: 1, 491372.0: 1, 4917292.0: 1, 8132171.0: 1, 182361.0: 1, 861232.0: 1, 7101182.0: 1, 871151.0: 1, 717391.0: 1, 23171152.0: 1, 4933171.0: 1, 723122.0: 1, 7123281.0: 1, 2313271.0: 1, 772261.0: 1, 31113382.0: 1, 3111381.0: 1, 711312.0: 1, 311342.0: 1, 7133272.0: 1, 193152.0: 1, 12391.0: 1, 23103211.0: 1, 293171.0: 1, 762192.0: 1, 71241.0: 1, 4982312.0: 1, 9173162.0: 1, 13271.0: 1, 2323141.0: 1, 2383311.0: 1, 21162.0: 1, 72332.0: 1, 491122.0: 1, 8102251.0: 1, 49163401.0: 1, 49131162.0: 1, 717271.0: 1, 763152.0: 1, 3123141.0: 1, 31142271.0: 1, 73181.0: 1, 9153371.0: 1, 8101162.0: 1, 8132281.0: 1, 733151.0: 1, 23133151.0: 1, 723111.0: 1, 27272.0: 1, 8101192.0: 1, 793161.0: 1, 4912272.0: 1, 1172152.0: 1, 73382.0: 1, 7143152.0: 1, 4971192.0: 1, 233282.0: 1, 492391.0: 1, 99381.0: 1, 282192.0: 1, 7143191.0: 1, 773181.0: 1, 1102181.0: 1, 791252.0: 1, 4951211.0: 1, 282291.0: 1, 83122.0: 1, 9121191.0: 1, 851161.0: 1, 3181151.0: 1, 2316171.0: 1, 963161.0: 1, 31141371.0: 1, 49152252.0: 1, 49101191.0: 1, 1123251.0: 1, 9121181.0: 1, 8152161.0: 1, 8111161.0: 1, 817391.0: 1, 861221.0: 1, 7131182.0: 1, 216182.0: 1, 772281.0: 1, 972162.0: 1, 3183251.0: 1, 7131371.0: 1, 13182.0: 1, 23113172.0: 1, 4922111.0: 1, 49163252.0: 1, 74272.0: 1, 23123171.0: 1, 23151372.0: 1, 493272.0: 1, 873252.0: 1, 3113281.0: 1, 8171171.0: 1, 951181.0: 1, 1131372.0: 1, 893152.0: 1, 4914271.0: 1, 7113151.0: 1, 291252.0: 1, 823142.0: 1, 742201.0: 1, 49113272.0: 1, 2113182.0: 1, 2361232.0: 1, 23111152.0: 1, 497281.0: 1, 3153101.0: 1, 851151.0: 1, 7132191.0: 1, 262242.0: 1, 3162162.0: 1, 26111.0: 1, 7153151.0: 1, 881332.0: 1, 9173161.0: 1, 31142371.0: 1, 97281.0: 1, 2363151.0: 1, 49161402.0: 1, 741202.0: 1, 93311.0: 1, 7103212.0: 1, 213282.0: 1, 3163232.0: 1, 217372.0: 1, 2141151.0: 1, 73221.0: 1, 122132.0: 1, 21262.0: 1, 4931152.0: 1, 132171.0: 1, 4917331.0: 1, 23172161.0: 1, 2317282.0: 1, 983342.0: 1, 9141271.0: 1, 9131372.0: 1, 21331.0: 1, 71141.0: 1, 1151161.0: 1, 891162.0: 1, 1131181.0: 1, 762241.0: 1, 31133161.0: 1, 131191.0: 1, 821122.0: 1, 712281.0: 1, 28311.0: 1, 162151.0: 1, 237381.0: 1, 281151.0: 1, 493271.0: 1, 743201.0: 1, 2341201.0: 1, 723141.0: 1, 7163391.0: 1, 272151.0: 1, 911211.0: 1, 861241.0: 1, 84182.0: 1, 8113252.0: 1, 9121281.0: 1, 233221.0: 1, 192192.0: 1, 8131272.0: 1, 4992152.0: 1, 1111251.0: 1, 3152171.0: 1, 833172.0: 1, 153151.0: 1, 3111272.0: 1, 8103211.0: 1, 4942202.0: 1, 982301.0: 1, 7122252.0: 1, 2143371.0: 1, 81131.0: 1, 31103172.0: 1, 151171.0: 1, 492272.0: 1, 23173152.0: 1, 2133182.0: 1, 31112182.0: 1, 78312.0: 1, 81132.0: 1, 31173161.0: 1, 9113251.0: 1, 971181.0: 1, 231272.0: 1, 13382.0: 1, 2142391.0: 1, 773281.0: 1, 722142.0: 1, 49131191.0: 1, 3117332.0: 1, 3141202.0: 1, 83371.0: 1, 49133372.0: 1, 49142371.0: 1, 1171202.0: 1, 3171181.0: 1, 31161252.0: 1, 2373171.0: 1, 2103131.0: 1, 76382.0: 1, 8161392.0: 1, 79381.0: 1, 2101132.0: 1, 992171.0: 1, 4992252.0: 1, 491131.0: 1, 114272.0: 1, 71211.0: 1, 4963161.0: 1, 22181.0: 1, 49131182.0: 1, 152211.0: 1, 72271.0: 1, 9163391.0: 1, 717171.0: 1, 3115372.0: 1, 232372.0: 1, 921121.0: 1, 239382.0: 1, 11342.0: 1, 49101212.0: 1, 783291.0: 1, 242202.0: 1, 76282.0: 1, 761222.0: 1, 18372.0: 1, 4912271.0: 1, 273151.0: 1, 3114382.0: 1, 31142251.0: 1, 31131161.0: 1, 23121271.0: 1, 12132.0: 1, 772191.0: 1, 711222.0: 1, 216372.0: 1, 214181.0: 1, 981191.0: 1, 753132.0: 1, 911172.0: 1, 3111322.0: 1, 11331.0: 1, 31142391.0: 1, 863151.0: 1, 8113192.0: 1, 14271.0: 1, 982341.0: 1, 25141.0: 1, 3122101.0: 1, 236212.0: 1, 4992192.0: 1, 83121.0: 1, 76182.0: 1, 9133181.0: 1, 9142151.0: 1, 311121.0: 1, 8111272.0: 1, 4972151.0: 1, 2331151.0: 1, 151162.0: 1, 4961152.0: 1, 21112.0: 1, 492381.0: 1, 4915382.0: 1, 117391.0: 1, 81331.0: 1, 3182361.0: 1, 2121252.0: 1, 8163402.0: 1, 716172.0: 1, 31111152.0: 1, 910271.0: 1, 7131282.0: 1, 87171.0: 1, 4971182.0: 1, 2314271.0: 1, 2315272.0: 1, 823132.0: 1, 117291.0: 1, 8121151.0: 1, 9111172.0: 1, 282191.0: 1, 311371.0: 1, 4910382.0: 1, 4982332.0: 1, 499171.0: 1, 282322.0: 1, 4992171.0: 1, 31131171.0: 1, 114371.0: 1, 9152171.0: 1, 9133251.0: 1, 816372.0: 1, 75142.0: 1, 832192.0: 1, 49101132.0: 1, 98371.0: 1, 281192.0: 1, 181252.0: 1, 117191.0: 1, 9101131.0: 1, 773282.0: 1, 4971282.0: 1, 771282.0: 1, 211271.0: 1, 3183362.0: 1, 9112151.0: 1, 882322.0: 1, 9152161.0: 1, 1121162.0: 1, 26271.0: 1, 3163192.0: 1, 282302.0: 1, 1142151.0: 1, 963171.0: 1, 2371262.0: 1, 271281.0: 1, 2382251.0: 1, 31173151.0: 1, 782331.0: 1, 982361.0: 1, 73211.0: 1, 7171171.0: 1, 1123172.0: 1, 3122102.0: 1, 162231.0: 1, 2102172.0: 1, 951132.0: 1, 8151172.0: 1, 142202.0: 1, 2363222.0: 1, 7173151.0: 1, 3117281.0: 1, 161162.0: 1, 7173172.0: 1, 814371.0: 1, 82291.0: 1, 317211.0: 1, 991192.0: 1, 49142372.0: 1, 7132172.0: 1, 3117331.0: 1, 4951181.0: 1, 49102191.0: 1, 4951151.0: 1, 223131.0: 1, 23173171.0: 1, 29281.0: 1, 23381.0: 1, 73182.0: 1, 1163392.0: 1, 21271.0: 1, 4982351.0: 1, 217232.0: 1, 751182.0: 1, 23103181.0: 1, 4963232.0: 1, 8151151.0: 1, 23111151.0: 1, 2314382.0: 1, 2310172.0: 1, 8141172.0: 1, 3162222.0: 1, 713271.0: 1, 2381191.0: 1, 9131171.0: 1, 131171.0: 1, 872152.0: 1, 972272.0: 1, 84132.0: 1, 3161161.0: 1, 2371251.0: 1, 872182.0: 1, 91271.0: 1, 17211.0: 1, 242201.0: 1, 3111271.0: 1, 4912172.0: 1, 4993151.0: 1, 49153161.0: 1, 4962151.0: 1, 9141391.0: 1, 917382.0: 1, 49103212.0: 1, 1101191.0: 1, 21232.0: 1, 8113251.0: 1, 31102131.0: 1, 221132.0: 1, 2121152.0: 1, 49112252.0: 1, 98311.0: 1, 49141371.0: 1, 4912382.0: 1, 971151.0: 1, 81161.0: 1, 3161162.0: 1, 239282.0: 1, 2317372.0: 1, 983152.0: 1, 3113381.0: 1, 9143271.0: 1, 78181.0: 1, 710371.0: 1, 319171.0: 1, 49133192.0: 1, 23282.0: 1, 2362241.0: 1, 2121282.0: 1, 821111.0: 1, 8122371.0: 1, 1143171.0: 1, 81162.0: 1, 49103151.0: 1, 914182.0: 1, 282301.0: 1, 792191.0: 1, 183322.0: 1, 716182.0: 1, 317382.0: 1, 2103192.0: 1, 273182.0: 1, 7163402.0: 1, 962172.0: 1, 783191.0: 1, 771251.0: 1, 272271.0: 1, 2383361.0: 1, 293152.0: 1, 1111151.0: 1, 87181.0: 1, 171252.0: 1, 1113271.0: 1, 7151191.0: 1, 73121.0: 1, 761161.0: 1, 81152.0: 1, 2152191.0: 1, 8113151.0: 1, 812372.0: 1, 1101212.0: 1, 117181.0: 1, 4991192.0: 1, 77171.0: 1, 8131152.0: 1, 911181.0: 1, 13222.0: 1, 231381.0: 1, 7133161.0: 1, 13312.0: 1, 2373272.0: 1, 8123192.0: 1, 31113171.0: 1, 2373192.0: 1, 772262.0: 1, 8122192.0: 1, 2311212.0: 1, 8103171.0: 1, 31122252.0: 1, 763231.0: 1, 1132172.0: 1, 2311121.0: 1, 11312.0: 1, 31151152.0: 1, 2171161.0: 1, 912382.0: 1, 114282.0: 1, 71221.0: 1, 4982301.0: 1, 717131.0: 1, 7143172.0: 1, 1102152.0: 1, 12291.0: 1, 193151.0: 1, 83171.0: 1, 831162.0: 1, 4932161.0: 1, 916281.0: 1, 933172.0: 1, 221102.0: 1, 112181.0: 1, 49103191.0: 1, 2362162.0: 1, 911121.0: 1, 23173202.0: 1, 2162192.0: 1, 921111.0: 1, 212382.0: 1, 2381331.0: 1, 273281.0: 1, 810382.0: 1, 2161252.0: 1, 97271.0: 1, 773261.0: 1, 9151252.0: 1, 3110171.0: 1, 872161.0: 1, 2383322.0: 1, 491111.0: 1, 491351.0: 1, 111281.0: 1, 717272.0: 1, 873172.0: 1, 183341.0: 1, 7113172.0: 1, 952152.0: 1, 19181.0: 1, 132161.0: 1, 31162401.0: 1, 8152251.0: 1, 1102212.0: 1, 234232.0: 1, 31133171.0: 1, 2382321.0: 1, 31131172.0: 1, 49172161.0: 1, 4952182.0: 1, 11181.0: 1, 77182.0: 1, 917181.0: 1, 99371.0: 1, 971152.0: 1, 2353102.0: 1, 2113382.0: 1, 161231.0: 1, 23121.0: 1, 2317191.0: 1, 49123182.0: 1, 83282.0: 1, 8112161.0: 1, 917292.0: 1, 13212.0: 1, 262162.0: 1, 9142392.0: 1, 232392.0: 1, 9131162.0: 1, 9101211.0: 1, 4952101.0: 1, 2141372.0: 1, 141201.0: 1, 232171.0: 1, 4962232.0: 1, 872282.0: 1, 3173251.0: 1, 273191.0: 1, 3173261.0: 1, 992252.0: 1, 498211.0: 1, 9113171.0: 1, 23133271.0: 1, 113171.0: 1, 7172151.0: 1, 1163391.0: 1, 312372.0: 1, 183192.0: 1, 8132372.0: 1, 881302.0: 1, 832171.0: 1, 91261.0: 1, 882311.0: 1, 31141172.0: 1, 182151.0: 1, 9112282.0: 1, 9112182.0: 1, 9102151.0: 1, 2101131.0: 1, 79372.0: 1, 2131271.0: 1, 882151.0: 1, 23103131.0: 1, 2322142.0: 1, 4972271.0: 1, 2131151.0: 1, 98381.0: 1, 23102152.0: 1, 971281.0: 1, 2351172.0: 1, 2317171.0: 1, 91162.0: 1, 781252.0: 1, 2382291.0: 1, 8121171.0: 1, 49143192.0: 1, 27181.0: 1, 183362.0: 1, 91182.0: 1, 82192.0: 1, 2372281.0: 1, 49123171.0: 1, 815182.0: 1, 821102.0: 1, 82131.0: 1, 491261.0: 1, 822141.0: 1, 3115172.0: 1, 49132181.0: 1, 214382.0: 1, 822102.0: 1, 873182.0: 1, 771181.0: 1, 281332.0: 1, 31123181.0: 1, 23112251.0: 1, 4911272.0: 1, 2392252.0: 1, 4951212.0: 1, 93171.0: 1, 237372.0: 1, 2112192.0: 1, 3123131.0: 1, 710182.0: 1, 8152172.0: 1, 31142171.0: 1, 8131252.0: 1, 3161151.0: 1, 714271.0: 1, 1132152.0: 1, 3162171.0: 1, 22192.0: 1, 8111162.0: 1, 862242.0: 1, 2381312.0: 1, 2373151.0: 1, 21311.0: 1, 181301.0: 1, 1123281.0: 1, 87282.0: 1, 9111251.0: 1, 8102192.0: 1, 952161.0: 1, 881151.0: 1, 7121162.0: 1, 2312171.0: 1, 31111282.0: 1, 3182362.0: 1, 212181.0: 1, 162192.0: 1, 2133162.0: 1, 283352.0: 1, 717291.0: 1, 2331171.0: 1, 712381.0: 1, 8103162.0: 1, 82281.0: 1, 1163401.0: 1, 891172.0: 1, 113272.0: 1, 3122132.0: 1, 492392.0: 1, 1171172.0: 1, 8133151.0: 1, 81261.0: 1, 4973162.0: 1, 9103181.0: 1, 151101.0: 1, 87271.0: 1, 213382.0: 1, 93121.0: 1, 3183331.0: 1, 1121151.0: 1, 3161152.0: 1, 4915272.0: 1, 823102.0: 1, 49152162.0: 1, 183332.0: 1, 9132371.0: 1, 4961232.0: 1, 9143172.0: 1, 193171.0: 1, 292172.0: 1, 283301.0: 1, 7163212.0: 1, 49111382.0: 1, 2373262.0: 1, 4910272.0: 1, 8133282.0: 1, 971262.0: 1, 492282.0: 1, 23101212.0: 1, 2112191.0: 1, 2371191.0: 1, 4912371.0: 1, 2352212.0: 1, 717392.0: 1, 2102131.0: 1, 7143391.0: 1, 8131281.0: 1, 23152371.0: 1, 152151.0: 1, 4952151.0: 1, 2143372.0: 1, 31103131.0: 1, 2121162.0: 1, 1123192.0: 1, 871171.0: 1, 1172171.0: 1, 2393172.0: 1, 1113162.0: 1, 7123252.0: 1, 95342.0: 1, 892172.0: 1, 4982151.0: 1, 4931161.0: 1, 96271.0: 1, 9111192.0: 1, 253172.0: 1, 2362191.0: 1, 131182.0: 1, 3117291.0: 1, 872171.0: 1, 1173201.0: 1, 313211.0: 1, 761192.0: 1, 13272.0: 1, 1102161.0: 1, 49153171.0: 1, 8142192.0: 1, 49112162.0: 1, 9131161.0: 1, 23101131.0: 1, 3192191.0: 1, 1132371.0: 1, 1161402.0: 1, 1133371.0: 1, 7122251.0: 1, 253152.0: 1, 2311171.0: 1, 151212.0: 1, 2111161.0: 1, 114281.0: 1, 92132.0: 1, 7122171.0: 1, 4962222.0: 1, 49111182.0: 1, 4971152.0: 1, 183252.0: 1, 84172.0: 1, 115281.0: 1, 4917281.0: 1, 3111281.0: 1, 251212.0: 1, 93271.0: 1, 314371.0: 1, 99282.0: 1, 3112182.0: 1, 91181.0: 1, 31102192.0: 1, 14281.0: 1, 17212.0: 1, 712172.0: 1, 9171171.0: 1, 715372.0: 1, 92332.0: 1, 8152191.0: 1, 913171.0: 1, 281331.0: 1, 963242.0: 1, 49161392.0: 1, 2322141.0: 1, 31123372.0: 1, 2163212.0: 1, 49121191.0: 1, 81312.0: 1, 8131271.0: 1, 961161.0: 1, 9101171.0: 1, 4911372.0: 1, 1133181.0: 1, 9172151.0: 1, 732162.0: 1, 4953102.0: 1, 7113182.0: 1, 873251.0: 1, 313172.0: 1, 318271.0: 1, 753152.0: 1, 1111271.0: 1, 711112.0: 1, 981362.0: 1, 9122151.0: 1, 7133172.0: 1, 4983312.0: 1, 972252.0: 1, 92281.0: 1, 882341.0: 1, 7123182.0: 1, 49131181.0: 1, 4915172.0: 1, 7123282.0: 1, 8142172.0: 1, 26212.0: 1, 915281.0: 1, 9111381.0: 1, 31161391.0: 1, 9162211.0: 1, 282312.0: 1, 49131251.0: 1, 9122182.0: 1, 21272.0: 1, 872262.0: 1, 2392161.0: 1, 19272.0: 1, 711382.0: 1, 2351211.0: 1, 23143191.0: 1, 231161.0: 1, 9172161.0: 1, 953102.0: 1, 2102192.0: 1, 23132182.0: 1, 3181302.0: 1, 2351131.0: 1, 23132172.0: 1, 311361.0: 1, 23113382.0: 1, 4933191.0: 1, 93112.0: 1, 498111.0: 1, 942201.0: 1, 2121171.0: 1, 97112.0: 1, 28181.0: 1, 231162.0: 1, 917191.0: 1, 792192.0: 1, 232161.0: 1, 8102151.0: 1, 496371.0: 1, 2332171.0: 1, 8173172.0: 1, 23123172.0: 1, 4914171.0: 1, 498312.0: 1, 1142272.0: 1, 31121151.0: 1, 2153372.0: 1, 3181312.0: 1, 113281.0: 1, 272272.0: 1, 917272.0: 1, 3116371.0: 1, 862221.0: 1, 873281.0: 1, 7123251.0: 1, 2316372.0: 1, 88211.0: 1, 7131191.0: 1, 973151.0: 1, 3113272.0: 1, 8123181.0: 1, 9112251.0: 1, 981251.0: 1, 1112381.0: 1, 4941201.0: 1, 8133192.0: 1, 971271.0: 1, 93322.0: 1, 31173152.0: 1, 23112252.0: 1, 782342.0: 1, 881342.0: 1, 317212.0: 1, 82272.0: 1, 181291.0: 1, 18272.0: 1, 710372.0: 1, 231282.0: 1, 8143271.0: 1, 1121272.0: 1, 16311.0: 1, 7141371.0: 1, 4973281.0: 1, 152132.0: 1, 9142172.0: 1, 3131181.0: 1, 49171172.0: 1, 23162392.0: 1, 2101191.0: 1, 3117191.0: 1, 910282.0: 1, 317282.0: 1, 983302.0: 1, 173161.0: 1, 3132191.0: 1, 3152131.0: 1, 12131.0: 1, 31143392.0: 1, 23102161.0: 1, 4914182.0: 1, 19171.0: 1, 973272.0: 1, 232272.0: 1, 99281.0: 1, 49133161.0: 1, 497272.0: 1, 31101152.0: 1, 8131162.0: 1, 318111.0: 1, 4981312.0: 1, 49123162.0: 1, 8161252.0: 1, 13172.0: 1, 222121.0: 1, 7101172.0: 1, 313321.0: 1, 3123122.0: 1, 811322.0: 1, 85242.0: 1, 71252.0: 1, 4972181.0: 1, 31102171.0: 1, 3173252.0: 1, 7131172.0: 1, 71182.0: 1, 83382.0: 1, 1162192.0: 1, 77111.0: 1, 2315382.0: 1, 923142.0: 1, 972262.0: 1, 9171202.0: 1, 233281.0: 1, 49121152.0: 1, 171262.0: 1, 315142.0: 1, 4922122.0: 1, 2121172.0: 1, 82391.0: 1, 4953181.0: 1, 2123171.0: 1, 91222.0: 1, 4914181.0: 1, 31133251.0: 1, 23123272.0: 1, 1101252.0: 1, 8132272.0: 1, 2361222.0: 1, 4992251.0: 1, 2352131.0: 1, 1111252.0: 1, 4972261.0: 1, 234372.0: 1, 914281.0: 1, 9122281.0: 1, 2381342.0: 1, 31122172.0: 1, 911382.0: 1, 1161192.0: 1, 71112.0: 1, 23143171.0: 1, 3162232.0: 1, 49163391.0: 1, 3116282.0: 1, 273271.0: 1, 2382301.0: 1, 49103131.0: 1, 871152.0: 1, 2373252.0: 1, 3192252.0: 1, 88172.0: 1, 2103211.0: 1, 91211.0: 1, 2332192.0: 1, 23151152.0: 1, 782362.0: 1, 4993171.0: 1, 211172.0: 1, 3111212.0: 1, 2162402.0: 1, 7122372.0: 1, 23101172.0: 1, 231211.0: 1, 1133271.0: 1, 15141.0: 1, 762171.0: 1, 492182.0: 1, 316182.0: 1, 3182352.0: 1, 2132372.0: 1, 9133252.0: 1, 2372171.0: 1, 1152191.0: 1, 117132.0: 1, 491132.0: 1, 497111.0: 1, 31153171.0: 1, 49113162.0: 1, 132172.0: 1, 822122.0: 1, 4952152.0: 1, 843201.0: 1, 16381.0: 1, 9171172.0: 1, 491272.0: 1, 112172.0: 1, 914181.0: 1, 7102171.0: 1, 3163161.0: 1, 49173151.0: 1, 31113162.0: 1, 8142251.0: 1, 283312.0: 1, 231121.0: 1, 910181.0: 1, 312172.0: 1, 84232.0: 1, 313171.0: 1, 49113182.0: 1, 213281.0: 1, 23143172.0: 1, 3193171.0: 1, 1122181.0: 1, 793192.0: 1, 84272.0: 1, 252132.0: 1, 1101181.0: 1, 7112181.0: 1, 1153172.0: 1, 49161401.0: 1, 712271.0: 1, 181312.0: 1, 916171.0: 1, 49142271.0: 1, 71332.0: 1, 1141191.0: 1, 152102.0: 1, 111382.0: 1, 217182.0: 1, 4961241.0: 1, 217391.0: 1, 9113382.0: 1, 3172282.0: 1, 2317272.0: 1, 7113162.0: 1, 31123162.0: 1, 221142.0: 1, 4910181.0: 1, 9101132.0: 1, 4916181.0: 1, 84271.0: 1, 1151162.0: 1, 3153161.0: 1, 2163191.0: 1, 2131281.0: 1, 9162401.0: 1, 862241.0: 1, 23112.0: 1, 1121281.0: 1, 2161392.0: 1, 710181.0: 1, 7121161.0: 1, 23153251.0: 1, 211182.0: 1, 772272.0: 1, 9161392.0: 1, 261172.0: 1, 133161.0: 1, 238212.0: 1, 3163152.0: 1, 252162.0: 1, 81242.0: 1, 2315372.0: 1, 713181.0: 1, 3133172.0: 1, 181292.0: 1, 14171.0: 1, 7133192.0: 1, 182362.0: 1, 2143251.0: 1, 231152.0: 1, 752101.0: 1, 282321.0: 1, 133172.0: 1, 7143151.0: 1, 92331.0: 1, 31103211.0: 1, 81211.0: 1, 316171.0: 1, 7103192.0: 1, 23141171.0: 1, 23123281.0: 1, 49173161.0: 1, 23111.0: 1, 87371.0: 1, 9123251.0: 1, 31133152.0: 1, 492132.0: 1, 9102172.0: 1, 493121.0: 1, 3173181.0: 1, 2382352.0: 1, 8113181.0: 1, 93321.0: 1, 4971181.0: 1, 971192.0: 1, 31121282.0: 1, 912272.0: 1, 181192.0: 1, 83271.0: 1, 3131182.0: 1, 23171201.0: 1, 317171.0: 1, 3114182.0: 1, 22381.0: 1, 753101.0: 1, 116382.0: 1, 4932151.0: 1, 23121162.0: 1, 722112.0: 1, 2133271.0: 1, 23113181.0: 1, 14332.0: 1, 2162252.0: 1, 3173282.0: 1, 96112.0: 1, 7142171.0: 1, 23111282.0: 1, 96382.0: 1, 232192.0: 1, 852161.0: 1, 817231.0: 1, 23151251.0: 1, 851171.0: 1, 210182.0: 1, 1101192.0: 1, 1113152.0: 1, 7162192.0: 1, 4981322.0: 1, 31152252.0: 1, 99382.0: 1, 863171.0: 1, 231221.0: 1, 2314181.0: 1, 8102252.0: 1, 812182.0: 1, 212272.0: 1, 4913181.0: 1, 9121372.0: 1, 49172152.0: 1, 1141272.0: 1, 771252.0: 1, 88272.0: 1, 3173161.0: 1, 96212.0: 1, 783361.0: 1, 312291.0: 1, 117371.0: 1, 4982341.0: 1, 49121151.0: 1, 23151151.0: 1, 9133152.0: 1, 311261.0: 1, 152212.0: 1, 49141191.0: 1, 753162.0: 1, 231351.0: 1, 2132171.0: 1, 21211.0: 1, 49162212.0: 1, 23132281.0: 1, 821142.0: 1, 732191.0: 1, 961172.0: 1, 9123281.0: 1, 23272.0: 1, 317182.0: 1, 72382.0: 1, 9162392.0: 1, 315242.0: 1, 3163171.0: 1, 2333171.0: 1, 833191.0: 1, 292162.0: 1, 716281.0: 1, 7152251.0: 1, 9173201.0: 1, 49113281.0: 1, 83112.0: 1, 492192.0: 1, 318182.0: 1, 112272.0: 1, 7142251.0: 1, 23172151.0: 1, 2391191.0: 1, 162152.0: 1, 31132271.0: 1, 892251.0: 1, 11381.0: 1, 49171162.0: 1, 281341.0: 1, 163171.0: 1, 172282.0: 1, 9142191.0: 1, 23133192.0: 1, 4951131.0: 1, 9111271.0: 1, 21352.0: 1, 72391.0: 1, 4971251.0: 1, 311222.0: 1, 23121252.0: 1, 3117392.0: 1, 122122.0: 1, 181191.0: 1, 4953182.0: 1, 318381.0: 1, 497282.0: 1, 496271.0: 1, 2133371.0: 1, 1132282.0: 1, 72182.0: 1, 222111.0: 1, 19281.0: 1, 213371.0: 1, 16112.0: 1, 49132252.0: 1, 3122112.0: 1, 84332.0: 1, 88381.0: 1, 1103172.0: 1, 11251.0: 1, 4914172.0: 1})>"
      ]
     },
     "execution_count": 29,
     "metadata": {},
     "output_type": "execute_result"
    }
   ],
   "source": [
    "counter.most_common"
   ]
  },
  {
   "cell_type": "code",
   "execution_count": 22,
   "metadata": {},
   "outputs": [
    {
     "data": {
      "text/plain": [
       "(5460, 5452)"
      ]
     },
     "execution_count": 22,
     "metadata": {},
     "output_type": "execute_result"
    }
   ],
   "source": [
    "len(res),len(set(res))"
   ]
  },
  {
   "cell_type": "code",
   "execution_count": 54,
   "metadata": {},
   "outputs": [
    {
     "data": {
      "text/plain": [
       "(5460, 103)"
      ]
     },
     "execution_count": 54,
     "metadata": {},
     "output_type": "execute_result"
    }
   ],
   "source": [
    "len(hashListTrain),len(set(hashListTrain))\n"
   ]
  },
  {
   "cell_type": "code",
   "execution_count": 42,
   "metadata": {},
   "outputs": [
    {
     "data": {
      "text/plain": [
       "[2, 1]"
      ]
     },
     "execution_count": 42,
     "metadata": {},
     "output_type": "execute_result"
    }
   ],
   "source": [
    "idx_res = [hashListGlobal.index(el) for el in [54,43]]\n",
    "idx_res"
   ]
  },
  {
   "cell_type": "code",
   "execution_count": 23,
   "metadata": {},
   "outputs": [],
   "source": [
    "\n",
    "features, labels, setups, cameras, performers, replications = trainSet_ref\n",
    "hashList_ref = np.zeros(len(readFeatures))\n",
    "for i in range(len(hashList_ref)):\n",
    "#     print(i)\n",
    "    hashList_ref[i] = hash(str(labels[i]+setups[i]+cameras[i]+performers[i]+replications[i]))\n",
    "    "
   ]
  },
  {
   "cell_type": "code",
   "execution_count": 24,
   "metadata": {},
   "outputs": [
    {
     "data": {
      "text/plain": [
       "array([ 7.71357729e+18,  6.65721335e+18, -3.07019131e+18, ...,\n",
       "        9.24382016e+17, -5.65285433e+18, -3.82722002e+18])"
      ]
     },
     "execution_count": 24,
     "metadata": {},
     "output_type": "execute_result"
    }
   ],
   "source": [
    "hashList_ref"
   ]
  },
  {
   "cell_type": "code",
   "execution_count": null,
   "metadata": {},
   "outputs": [],
   "source": [
    "with open(DATASET_FOLDER+\"keypoint_rcnn_X_101_32x8d_FPN_3x-SPLIT-dataset.pickle\",\"rb\") as file_in:\n",
    "        trainSet_ref, valSet_ref, testSet_ref = pickle.load(file_in)"
   ]
  }
 ],
 "metadata": {
  "kernelspec": {
   "display_name": "Python 3",
   "language": "python",
   "name": "python3"
  },
  "language_info": {
   "codemirror_mode": {
    "name": "ipython",
    "version": 3
   },
   "file_extension": ".py",
   "mimetype": "text/x-python",
   "name": "python",
   "nbconvert_exporter": "python",
   "pygments_lexer": "ipython3",
   "version": "3.6.9"
  }
 },
 "nbformat": 4,
 "nbformat_minor": 2
}
