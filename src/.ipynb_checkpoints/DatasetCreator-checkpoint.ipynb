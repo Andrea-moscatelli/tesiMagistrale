{
 "cells": [
  {
   "cell_type": "code",
   "execution_count": 12,
   "metadata": {},
   "outputs": [],
   "source": [
    "INPUT_FOLDER = \"/data/students_home/amoscatelli/Desktop/actionAnalysis/inputData/\"\n",
    "DATASET_FOLDER = \"/data/students_home/amoscatelli/Desktop/actionAnalysis/datasets/\"\n",
    "video_dataset_folder = \"/data/datasets/NTURGBD\"\n",
    "# ACTION_LABEL_SET = [\"A001\",\"A002\",\"A007\",\"A008\",\"A009\",\"A031\",\"A049\",\"A023\"]\n",
    "ACTION_LABEL_SET = [\"A006\",\"A024\",\"A026\",\"A027\",\"A035\"]\n",
    "# video_name_format = \"S{:3d}C{:3d}P{:3d}R{:3d}A{:3d}_rgb.avi\" #Setup-Camera-Performer-Replication-Action"
   ]
  },
  {
   "cell_type": "code",
   "execution_count": 13,
   "metadata": {},
   "outputs": [
    {
     "name": "stdout",
     "output_type": "stream",
     "text": [
      "['nturgbd_rgb_s003', 'nturgbd_rgb_s008', 'nturgbd_rgb_s009', 'nturgbd_rgb_s005', 'nturgbd_rgb_s013', 'nturgbd_rgb_s001', 'nturgbd_rgb_s007', 'nturgbd_rgb_s015', 'nturgbd_rgb_s002', 'nturgbd_rgb_s004', 'nturgbd_rgb_s006', 'nturgbd_rgb_s010', 'nturgbd_rgb_s016', 'nturgbd_rgb_s017', 'nturgbd_rgb_s012', 'nturgbd_rgb_s011', 'nturgbd_rgb_s014']\n",
      "4740\n"
     ]
    }
   ],
   "source": [
    "SEED = 1234\n",
    "import os\n",
    "import random\n",
    "from os import listdir, scandir\n",
    "from os.path import isfile, isdir, join, exists\n",
    "\n",
    "\n",
    "setupFolders = [f for f in listdir(video_dataset_folder) if isdir(join(video_dataset_folder, f)) and f[:13]==\"nturgbd_rgb_s\"]\n",
    "print(setupFolders)\n",
    "fileNames = []\n",
    "fileEntries = []\n",
    "for folder in setupFolders:\n",
    "    setupEntryFiles = [f for f in scandir(join(video_dataset_folder,folder,\"nturgb+d_rgb/\")) \n",
    "                       if isfile(join(video_dataset_folder,folder,\"nturgb+d_rgb/\",f)) \n",
    "                       and any(label in f.name for label in ACTION_LABEL_SET)]\n",
    "    fileEntries += setupEntryFiles\n",
    "    \n",
    "#     fileNames.append([f for f in listdir(join(dataset_folder,folder,\"nturgb+d_rgb/\")) \n",
    "#                        if isfile(join(dataset_folder,folder,\"nturgb+d_rgb/\",f)) \n",
    "#                        and any(label in f for label in ACTION_LABEL_SET)])\n",
    "                       \n",
    "    fileNames.append([f.name for f in setupEntryFiles])\n",
    "        \n",
    "fileNames = sum(fileNames, []) #making it in 1-row\n",
    "print(len(fileNames)) \n",
    "random.seed(SEED)\n",
    "random.shuffle(fileNames)"
   ]
  },
  {
   "cell_type": "markdown",
   "metadata": {},
   "source": [
    "## Check that each file has been competely parsed"
   ]
  },
  {
   "cell_type": "code",
   "execution_count": 22,
   "metadata": {},
   "outputs": [
    {
     "name": "stdout",
     "output_type": "stream",
     "text": [
      "Analyzing 4740 videos\n",
      "\n",
      "video done: 4740.0/4740\n",
      "Incorrect folders: 0\n"
     ]
    }
   ],
   "source": [
    "import os\n",
    "from os import listdir, scandir\n",
    "from os.path import isfile, isdir, join #, exists\n",
    "\n",
    "foldersPerVideo = [\n",
    "    \"Detectron2-keypoint_rcnn_X_101_32x8d_FPN_3x\",\n",
    "    \"PoseNet-101\"\n",
    "#     \"DensePoseKeyPointsMask_ResNet50_FPN_s1x-e2e\"\n",
    "]\n",
    "folder_names = [f[:-4] for f in fileNames]\n",
    "analysedVideoFolders = [f.path for f in scandir(INPUT_FOLDER) if isdir(join(INPUT_FOLDER, f)) and f.name in folder_names]\n",
    "\n",
    "# analysedVideoFolders.sort(key=lambda x: os.path.getmtime(x)) #sort following the last modification time (useful for later as well)\n",
    "\n",
    "print(\"Analyzing {} videos\".format(len(analysedVideoFolders)))\n",
    "missingVideoCounter = 0\n",
    "for video_folder_name in analysedVideoFolders:\n",
    "    ### check if every video has been analysed with every model ####\n",
    "    modelFolderPaths = [f.path for f in scandir(video_folder_name) if isdir(f)]\n",
    "    modelFolders = [f.split(\"/\")[-1] for f in modelFolderPaths]\n",
    "    if set(modelFolders) != set(foldersPerVideo):\n",
    "        print(\"\\t\",video_folder_name, \"doesn't contain\", list(set(foldersPerVideo) - set(modelFolders)))\n",
    "        missingVideoCounter += 1\n",
    "    \n",
    "    ### check if every model has been completed ####\n",
    "    filesPerFolder = list(zip(map(lambda folder: len(listdir(folder)) ,modelFolderPaths),modelFolderPaths)) # take the number of files of each model folder\n",
    "    maxNumberOfFiles = max(filesPerFolder)[0]\n",
    "    for numberOfFiles,folderPath in filesPerFolder:\n",
    "        if numberOfFiles == 0 or numberOfFiles != maxNumberOfFiles:\n",
    "            print(\"\\tincompleted folder {}\".format(folderPath))\n",
    "            missingVideoCounter += 1\n",
    "\n",
    "print(\"\\nvideo done: {}/{}\\nIncorrect folders: {}\".format(len(analysedVideoFolders)-missingVideoCounter/2,len(fileNames),missingVideoCounter))"
   ]
  },
  {
   "cell_type": "code",
   "execution_count": 17,
   "metadata": {},
   "outputs": [
    {
     "name": "stdout",
     "output_type": "stream",
     "text": [
      "frame0000.pickle  frame0013.pickle  frame0026.pickle  frame0039.pickle\r\n",
      "frame0001.pickle  frame0014.pickle  frame0027.pickle  frame0040.pickle\r\n",
      "frame0002.pickle  frame0015.pickle  frame0028.pickle  frame0041.pickle\r\n",
      "frame0003.pickle  frame0016.pickle  frame0029.pickle  frame0042.pickle\r\n",
      "frame0004.pickle  frame0017.pickle  frame0030.pickle  frame0043.pickle\r\n",
      "frame0005.pickle  frame0018.pickle  frame0031.pickle  frame0044.pickle\r\n",
      "frame0006.pickle  frame0019.pickle  frame0032.pickle  frame0045.pickle\r\n",
      "frame0007.pickle  frame0020.pickle  frame0033.pickle  frame0046.pickle\r\n",
      "frame0008.pickle  frame0021.pickle  frame0034.pickle  frame0047.pickle\r\n",
      "frame0009.pickle  frame0022.pickle  frame0035.pickle  frame0048.pickle\r\n",
      "frame0010.pickle  frame0023.pickle  frame0036.pickle  frame0049.pickle\r\n",
      "frame0011.pickle  frame0024.pickle  frame0037.pickle  frame0050.pickle\r\n",
      "frame0012.pickle  frame0025.pickle  frame0038.pickle\r\n"
     ]
    }
   ],
   "source": [
    "!ls /data/students_home/amoscatelli/Desktop/actionAnalysis/inputData/S009C002P019R002A027_rgb/Detectron2-keypoint_rcnn_X_101_32x8d_FPN_3x/"
   ]
  },
  {
   "cell_type": "code",
   "execution_count": 18,
   "metadata": {},
   "outputs": [],
   "source": [
    "modelFolderPaths = [\"/data/students_home/amoscatelli/Desktop/actionAnalysis/inputData/S009C002P019R002A027_rgb/Detectron2-keypoint_rcnn_X_101_32x8d_FPN_3x/\",\n",
    "                    \"/data/students_home/amoscatelli/Desktop/actionAnalysis/inputData/S009C002P019R002A027_rgb/PoseNet-101/\"\n",
    "                   ]\n",
    "filesPerFolder = list(zip(map(lambda folder: len(listdir(folder)) ,modelFolderPaths),modelFolderPaths)) # take the number of files of each model folder\n",
    "maxNumberOfFiles = max(filesPerFolder)[0]\n",
    "#     for numberOfFiles,folderPath in filesPerFolder:"
   ]
  },
  {
   "cell_type": "code",
   "execution_count": 21,
   "metadata": {},
   "outputs": [
    {
     "data": {
      "text/plain": [
       "([(51,\n",
       "   '/data/students_home/amoscatelli/Desktop/actionAnalysis/inputData/S009C002P019R002A027_rgb/Detectron2-keypoint_rcnn_X_101_32x8d_FPN_3x/'),\n",
       "  (51,\n",
       "   '/data/students_home/amoscatelli/Desktop/actionAnalysis/inputData/S009C002P019R002A027_rgb/PoseNet-101/')],\n",
       " 51)"
      ]
     },
     "execution_count": 21,
     "metadata": {},
     "output_type": "execute_result"
    }
   ],
   "source": [
    "filesPerFolder,maxNumberOfFiles"
   ]
  },
  {
   "cell_type": "markdown",
   "metadata": {},
   "source": [
    "# Creation of Dataset"
   ]
  },
  {
   "cell_type": "code",
   "execution_count": 3,
   "metadata": {},
   "outputs": [],
   "source": [
    "import pickle\n",
    "import numpy as np\n",
    "import parse\n",
    "\n",
    "# A1. drink water.\n",
    "# A2. eat meal/snack.\n",
    "# A7. throw.\n",
    "# A8. sitting down.\n",
    "# A9. standing up (from sitting position).\n",
    "# A23. hand waving.\n",
    "# A31. pointing to something with finger.\n",
    "# A38. salute.\n",
    "# A49. use a fan (with hand or paper)/feeling warm.\n",
    "\n",
    "video_folder_format = \"S{:3d}C{:3d}P{:3d}R{:3d}A{:3d}_rgb\"\n",
    "ACTION_LABEL_SET = [1,2,7,8,9,31,49,23]\n",
    "# [\"A001\",\"A002\",\"A007\",\"A008\",\"A009\",\"A031\",\"A049\",\"A023\"]\n"
   ]
  },
  {
   "cell_type": "markdown",
   "metadata": {},
   "source": [
    "## PoseNet dataset"
   ]
  },
  {
   "cell_type": "markdown",
   "metadata": {},
   "source": [
    "Posenet predicts: <br>\n",
    "1 - nose <br>\n",
    "2 - leftEye <br>\n",
    "3 - rightEye <br>\n",
    "4 - leftEar <br>\n",
    "5 - rightEar <br>\n",
    "6 - leftShoulder <br>\n",
    "7 - rightShoulder <br>\n",
    "8 - leftElbow <br>\n",
    "9 - rightElbow <br>\n",
    "10 - leftWrist <br>\n",
    "11 - rightWrist <br>\n",
    "12 - leftHip <br>\n",
    "13 - rightHip <br>\n",
    "14 - leftKnee <br>\n",
    "15 - rightKnee <br>\n",
    "16 - leftAnkle <br>\n",
    "17 - rightAnkle"
   ]
  },
  {
   "cell_type": "code",
   "execution_count": 8,
   "metadata": {
    "scrolled": true
   },
   "outputs": [
    {
     "name": "stdout",
     "output_type": "stream",
     "text": [
      "0/8532\n",
      "100/8532\n",
      "200/8532\n",
      "300/8532\n",
      "400/8532\n",
      "500/8532\n",
      "600/8532\n",
      "700/8532\n",
      "800/8532\n",
      "900/8532\n",
      "1000/8532\n",
      "1100/8532\n",
      "1200/8532\n",
      "1300/8532\n",
      "1400/8532\n",
      "1500/8532\n",
      "1600/8532\n",
      "1700/8532\n",
      "1800/8532\n",
      "1900/8532\n",
      "2000/8532\n",
      "2100/8532\n",
      "2200/8532\n",
      "2300/8532\n",
      "2400/8532\n",
      "2500/8532\n",
      "2600/8532\n",
      "2700/8532\n",
      "2800/8532\n",
      "2900/8532\n",
      "3000/8532\n",
      "3100/8532\n",
      "3200/8532\n",
      "3300/8532\n",
      "3400/8532\n",
      "3500/8532\n",
      "3600/8532\n",
      "3700/8532\n",
      "3800/8532\n",
      "3900/8532\n",
      "4000/8532\n",
      "4100/8532\n",
      "4200/8532\n",
      "4300/8532\n",
      "4400/8532\n",
      "4500/8532\n",
      "4600/8532\n",
      "4700/8532\n",
      "4800/8532\n",
      "4900/8532\n",
      "5000/8532\n",
      "5100/8532\n",
      "5200/8532\n",
      "5300/8532\n",
      "5400/8532\n",
      "5500/8532\n",
      "5600/8532\n",
      "5700/8532\n",
      "5800/8532\n",
      "5900/8532\n",
      "6000/8532\n",
      "6100/8532\n",
      "6200/8532\n",
      "6300/8532\n",
      "6400/8532\n",
      "6500/8532\n",
      "6600/8532\n",
      "6700/8532\n",
      "6800/8532\n",
      "6900/8532\n",
      "7000/8532\n",
      "7100/8532\n",
      "7200/8532\n",
      "7300/8532\n",
      "7400/8532\n",
      "7500/8532\n",
      "7600/8532\n",
      "7700/8532\n",
      "7800/8532\n",
      "7900/8532\n",
      "8000/8532\n",
      "8100/8532\n",
      "8200/8532\n",
      "8300/8532\n",
      "8400/8532\n",
      "8500/8532\n",
      "Done!\n"
     ]
    }
   ],
   "source": [
    "poseNetModelName = \"PoseNet-101\"\n",
    "densePoseDatasetName = DATASET_FOLDER+poseNetModelName+\"-dataset.pickle\"\n",
    "videoFeaturesList = []\n",
    "videoLabelsList = []\n",
    "videoSetupList = []\n",
    "videoCameraList = []\n",
    "videoPerformerList = []\n",
    "videoReplicationList = []\n",
    "\n",
    "for i,avf in enumerate(analysedVideoFolders):\n",
    "    if i% 100 == 0:\n",
    "        print(\"{}/{}\".format(i, len(analysedVideoFolders)))\n",
    "    \n",
    "    # retrieve the target label from folder name\n",
    "    setup, camera, performer, replication, target = parse.parse(video_folder_format,avf.split(\"/\")[-1])\n",
    "    \n",
    "    if target not in ACTION_LABEL_SET:\n",
    "        continue\n",
    "    \n",
    "    poseNet_folder = avf + \"/\"+ poseNetModelName\n",
    "    pose_scores_video = []\n",
    "#     keypoint_scores_video = [] # ignoring for now\n",
    "    keypoint_coords_video = []\n",
    "    framesInFolder = [f for f in listdir(poseNet_folder)]\n",
    "    framesInFolder.sort() # must be sorted to have the frame in the correct order   \n",
    "    for frame_file in framesInFolder:\n",
    "        with open(poseNet_folder+\"/\"+frame_file,'rb') as file_in:\n",
    "            pose_scores, keypoint_scores, keypoint_coords = pickle.load(file_in)\n",
    "        pose_scores_video.append(pose_scores)\n",
    "#         keypoint_scores_video.append(keypoint_scores) # for now ignoring the keypoints Scores\n",
    "        keypoint_coords_video.append(keypoint_coords)\n",
    "    \n",
    "    # find the pose that along the whole video is the \"surest\"\n",
    "    bestPoseIndex = np.argmax(np.mean(pose_scores_video, axis=0)) \n",
    "    \n",
    "    # retrieving the keypoint coordinates for the best pose\n",
    "    bestPoseKeypointCoords = [k[bestPoseIndex] for k in keypoint_coords_video] \n",
    "    \n",
    "    \n",
    "    videoFeaturesList.append(bestPoseKeypointCoords)\n",
    "    videoLabelsList.append(target)\n",
    "    videoSetupList.append(setup)\n",
    "    videoCameraList.append(camera)\n",
    "    videoPerformerList.append(performer)\n",
    "    videoReplicationList.append(replication)\n",
    "\n",
    "    \n",
    "# saving dataset WITHOUT PADDING\n",
    "videoFeatures = np.asarray(videoFeaturesList)\n",
    "videoLabels = np.asarray(videoLabelsList)\n",
    "videoSetups = np.asarray(videoSetupList)\n",
    "videoCameras= np.asarray(videoCameraList)\n",
    "videoPerformers = np.asarray(videoPerformerList)\n",
    "videoReplications = np.asarray(videoReplicationList)\n",
    "\n",
    "with open(densePoseDatasetName, 'wb') as handle:\n",
    "    pickle.dump((videoFeatures, \n",
    "                 videoLabels,\n",
    "                 videoSetups,\n",
    "                 videoCameras,\n",
    "                 videoPerformers,\n",
    "                 videoReplications), handle, protocol=pickle.HIGHEST_PROTOCOL)\n",
    "          \n",
    "print(\"Done!\")"
   ]
  },
  {
   "cell_type": "code",
   "execution_count": 9,
   "metadata": {},
   "outputs": [],
   "source": [
    "poseNetModelName = \"PoseNet-101\"\n",
    "densePoseDatasetName = DATASET_FOLDER+poseNetModelName+\"-dataset.pickle\"\n",
    "with open(densePoseDatasetName,'rb') as file_in:\n",
    "    readFeatures, readLabels, readSetups, readCameras, readPerformers, readReplications = pickle.load(file_in)"
   ]
  },
  {
   "cell_type": "code",
   "execution_count": 10,
   "metadata": {},
   "outputs": [
    {
     "data": {
      "text/plain": [
       "7584"
      ]
     },
     "execution_count": 10,
     "metadata": {},
     "output_type": "execute_result"
    }
   ],
   "source": [
    "len(readLabels) "
   ]
  },
  {
   "cell_type": "markdown",
   "metadata": {},
   "source": [
    "## Detectron2 dataset"
   ]
  },
  {
   "cell_type": "markdown",
   "metadata": {},
   "source": [
    "Detectron2 predicts: <br>\n",
    "1 - nose <br>\n",
    "2 - left_eye <br>\n",
    "3 - right_eye <br>\n",
    "4 - left_ear <br>\n",
    "5 - right_ear <br>\n",
    "6 - left_shoulder <br>\n",
    "7 - right_shoulder <br>\n",
    "8 - left_elbow <br>\n",
    "9 - right_elbow <br>\n",
    "10 - left_wrist <br>\n",
    "11 - right_wrist <br>\n",
    "12 - left_hip <br>\n",
    "13 - right_hip <br>\n",
    "14 - left_knee <br>\n",
    "15 - right_knee <br>\n",
    "16 - left_ankle <br>\n",
    "17 - right_ankle"
   ]
  },
  {
   "cell_type": "code",
   "execution_count": 11,
   "metadata": {},
   "outputs": [],
   "source": [
    "import os\n",
    "os.environ[\"CUDA_DEVICE_ORDER\"]=\"PCI_BUS_ID\"\n",
    "os.environ[\"CUDA_VISIBLE_DEVICES\"] = \"2\""
   ]
  },
  {
   "cell_type": "code",
   "execution_count": 12,
   "metadata": {},
   "outputs": [
    {
     "name": "stdout",
     "output_type": "stream",
     "text": [
      "1.3.1\n"
     ]
    }
   ],
   "source": [
    "import cv2\n",
    "import parse\n",
    "import pickle\n",
    "import torch, torchvision\n",
    "print(torch.__version__)\n",
    "# You may need to restart your runtime prior to this, to let your installation take effect\n",
    "# Some basic setup\n",
    "# Setup detectron2 logger\n",
    "import detectron2\n",
    "from detectron2.utils.logger import setup_logger\n",
    "setup_logger()\n",
    "\n",
    "# import some common libraries\n",
    "import numpy as np\n",
    "#from google.colab.patches import cv2_imshow\n",
    "\n",
    "# import some common detectron2 utilities\n",
    "from detectron2.engine import DefaultPredictor\n",
    "from detectron2.config import get_cfg\n",
    "from detectron2.utils.visualizer import Visualizer\n",
    "from detectron2.data import MetadataCatalog"
   ]
  },
  {
   "cell_type": "code",
   "execution_count": 13,
   "metadata": {
    "scrolled": true
   },
   "outputs": [
    {
     "name": "stdout",
     "output_type": "stream",
     "text": [
      "0/8532\n",
      "100/8532\n",
      "200/8532\n",
      "300/8532\n",
      "400/8532\n",
      "500/8532\n",
      "600/8532\n",
      "700/8532\n",
      "800/8532\n",
      "900/8532\n",
      "1000/8532\n",
      "1100/8532\n",
      "1200/8532\n",
      "1300/8532\n",
      "1400/8532\n",
      "1500/8532\n",
      "1600/8532\n",
      "1700/8532\n",
      "1800/8532\n",
      "1900/8532\n",
      "2000/8532\n",
      "2100/8532\n",
      "2200/8532\n",
      "2300/8532\n",
      "2400/8532\n",
      "2500/8532\n",
      "2600/8532\n",
      "2700/8532\n",
      "2800/8532\n",
      "2900/8532\n",
      "3000/8532\n",
      "3100/8532\n",
      "3200/8532\n",
      "3300/8532\n",
      "3400/8532\n",
      "3500/8532\n",
      "3600/8532\n",
      "3700/8532\n",
      "3800/8532\n",
      "3900/8532\n",
      "4000/8532\n",
      "4100/8532\n",
      "4200/8532\n",
      "4300/8532\n",
      "4400/8532\n",
      "4500/8532\n",
      "4600/8532\n",
      "4700/8532\n",
      "4800/8532\n",
      "4900/8532\n",
      "5000/8532\n",
      "5100/8532\n",
      "5200/8532\n",
      "5300/8532\n",
      "5400/8532\n",
      "5500/8532\n",
      "5600/8532\n",
      "5700/8532\n",
      "5800/8532\n",
      "5900/8532\n",
      "6000/8532\n",
      "6100/8532\n",
      "6200/8532\n",
      "6300/8532\n",
      "6400/8532\n",
      "6500/8532\n",
      "6600/8532\n",
      "6700/8532\n",
      "6800/8532\n",
      "6900/8532\n",
      "7000/8532\n",
      "7100/8532\n",
      "7200/8532\n",
      "7300/8532\n",
      "7400/8532\n",
      "7500/8532\n",
      "7600/8532\n",
      "7700/8532\n",
      "7800/8532\n",
      "7900/8532\n",
      "8000/8532\n",
      "8100/8532\n",
      "8200/8532\n",
      "8300/8532\n",
      "8400/8532\n",
      "8500/8532\n",
      "Done!\n"
     ]
    }
   ],
   "source": [
    "detectron2ModelName = \"keypoint_rcnn_X_101_32x8d_FPN_3x\"\n",
    "detectron2datasetName = DATASET_FOLDER+detectron2ModelName+\"-dataset.pickle\"\n",
    "videoFeaturesList = []\n",
    "videoLabelsList = []\n",
    "videoSetupList = []\n",
    "videoCameraList = []\n",
    "videoPerformerList = []\n",
    "videoReplicationList = []\n",
    "for i, avf in enumerate(analysedVideoFolders):\n",
    "    if i% 100 == 0:\n",
    "        print(\"{}/{}\".format(i, len(analysedVideoFolders)))\n",
    "        \n",
    "    # retrieve the target label from folder name\n",
    "    setup, camera, performer, replication, target = parse.parse(video_folder_format,avf.split(\"/\")[-1])\n",
    "    \n",
    "    if target not in ACTION_LABEL_SET:\n",
    "        continue\n",
    "        \n",
    "    detectron2_folder = avf + \"/Detectron2-\"+ detectron2ModelName\n",
    "    framesInFolder = [f for f in listdir(detectron2_folder)]\n",
    "    framesInFolder.sort() # must be sorted to have the frame in the correct order   \n",
    "    keypoints_video = []\n",
    "    for frame_file in framesInFolder:\n",
    "        with open(detectron2_folder+\"/\"+frame_file,'rb') as file_in:\n",
    "            outputsRead = pickle.load(file_in)\n",
    "#         if len(outputsRead['instances']) > 1:\n",
    "#             print(detectron2_folder+\"/\"+frame_file, \"has more than 1 pose\")\n",
    "\n",
    "        instancesFields = outputsRead['instances'].get_fields()\n",
    "\n",
    "        # get only the most sure pose (Detectron sorts them for us)\n",
    "        keypoints_frame = np.array(instancesFields['pred_keypoints'][0].cpu()) \n",
    "        keypoints_frame = [[k[0],k[1]] for k in keypoints_frame] #removing the third value (which I still didn't understand what it means)\n",
    "        keypoints_video.append(keypoints_frame)\n",
    "\n",
    "    videoFeaturesList.append(keypoints_video)\n",
    "    videoLabelsList.append(target)\n",
    "    videoSetupList.append(setup)\n",
    "    videoCameraList.append(camera)\n",
    "    videoPerformerList.append(performer)\n",
    "    videoReplicationList.append(replication)\n",
    "\n",
    "# saving dataset WITHOUT PADDING\n",
    "videoFeatures = np.asarray(videoFeaturesList)\n",
    "videoLabels = np.asarray(videoLabelsList)\n",
    "videoSetups = np.asarray(videoSetupList)\n",
    "videoCameras = np.asarray(videoCameraList)\n",
    "videoPerformers = np.asarray(videoPerformerList)\n",
    "videoReplications = np.asarray(videoReplicationList)\n",
    "\n",
    "with open(detectron2datasetName, 'wb') as handle:\n",
    "    pickle.dump((videoFeatures, \n",
    "                 videoLabels,\n",
    "                 videoSetups,\n",
    "                 videoCameras,\n",
    "                 videoPerformers,\n",
    "                 videoReplications), handle, protocol=pickle.HIGHEST_PROTOCOL)\n",
    "         \n",
    "print(\"Done!\")"
   ]
  },
  {
   "cell_type": "code",
   "execution_count": 82,
   "metadata": {},
   "outputs": [
    {
     "data": {
      "text/plain": [
       "(array([10]), array([3]), array([17]), array([1]))"
      ]
     },
     "execution_count": 82,
     "metadata": {},
     "output_type": "execute_result"
    }
   ],
   "source": [
    "# videoFeatures.shape\n",
    "# keypoints_frame_new = [[k[0],k[1]] for k in keypoints_frame]\n",
    "# keypoints_frame_new\n",
    "# keypoints_frame\n",
    "# videoSetups,videoCameras,videoPerformers,videoReplications"
   ]
  },
  {
   "cell_type": "code",
   "execution_count": 14,
   "metadata": {},
   "outputs": [
    {
     "data": {
      "text/plain": [
       "7584"
      ]
     },
     "execution_count": 14,
     "metadata": {},
     "output_type": "execute_result"
    }
   ],
   "source": [
    "detectron2ModelName = \"keypoint_rcnn_X_101_32x8d_FPN_3x\"\n",
    "detectron2datasetName = DATASET_FOLDER+detectron2ModelName+\"-dataset.pickle\"\n",
    "with open(detectron2datasetName,'rb') as file_in:\n",
    "    readFeaturesD2, readLabelsD2, readSetupsD2, readCamerasD2, readPerformersD2, readReplicationsD2 = pickle.load(file_in)\n",
    "len(readLabelsD2)"
   ]
  },
  {
   "cell_type": "markdown",
   "metadata": {},
   "source": [
    "# Dataset Senesi-like"
   ]
  },
  {
   "cell_type": "code",
   "execution_count": 1,
   "metadata": {},
   "outputs": [],
   "source": [
    "# INPUT_FOLDER = \"/data/students_home/amoscatelli/Desktop/actionAnalysis/inputData/\"\n",
    "DATASET_FOLDER = \"/data/students_home/amoscatelli/Desktop/actionAnalysis/datasets/\"\n",
    "# video_dataset_folder = \"/data/datasets/NTURGBD\"\n",
    "# ACTION_LABEL_SET = [\"A001\",\"A002\",\"A007\",\"A008\",\"A009\",\"A031\",\"A049\",\"A023\"] # mine\n",
    "# ACTION_LABEL_SET = [\"A006\",\"A024\",\"A026\",\"A027\",\"A035\"] # different from Senesi\n",
    "# ACTION_LABEL_SET = [\"A007\",\"A008\",\"A009\",\"A023\",\"A031\"] # common with Senesi\n",
    "# ACTION_LABEL_SET = [\"A006\",\"A007\",\"A008\",\"A009\",\"A023\",\"A024\",\"A026\",\"A027\",\"A031\",\"A035\"] # Senesi's\n",
    "# video_name_format = \"S{:3d}C{:3d}P{:3d}R{:3d}A{:3d}_rgb.avi\" #Setup-Camera-Performer-Replication-Action"
   ]
  },
  {
   "cell_type": "code",
   "execution_count": 2,
   "metadata": {},
   "outputs": [],
   "source": [
    "import parse\n",
    "from os.path import basename\n",
    "folder_name_format = \"S{:3d}C{:3d}P{:3d}R{:3d}A{:3d}_rgb\" #Setup-Camera-Performer-Replication-Action\n",
    "def getSetupFromFolderPath(folderPath):\n",
    "    setup, camera, performer, replication, label = parse.parse(folder_name_format,basename(folderPath))\n",
    "    return setup, camera, performer, replication, label"
   ]
  },
  {
   "cell_type": "code",
   "execution_count": 3,
   "metadata": {},
   "outputs": [],
   "source": [
    "from os import scandir, listdir\n",
    "def getPoseNetResult(labelsToAnalyse, inputFolder = \"/data/students_home/amoscatelli/Desktop/actionAnalysis/inputData/\"):\n",
    "    print(\"retrieving PoseNet points from input folders...\")\n",
    "    poseNetModelName = \"PoseNet-101\"\n",
    "    # poseNetDatasetName = DATASET_FOLDER+poseNetModelName+\"-dataset.pickle\"\n",
    "    videoFeaturesList = []\n",
    "    videoLabelsList = []\n",
    "    videoSetupList = []\n",
    "    videoCameraList = []\n",
    "    videoPerformerList = []\n",
    "    videoReplicationList = []\n",
    "    \n",
    "    videoFoldersToAnalyse = [f.path for f in scandir(inputFolder) if isdir(join(inputFolder, f)) and getSetupFromFolderPath(f)[4] in labelsToAnalyse]\n",
    "    \n",
    "    print(\"remove this line\")\n",
    "    videoFoldersToAnalyse = videoFoldersToAnalyse[:10]\n",
    "    \n",
    "    print(\"found {} folders for {}\".format(len(videoFoldersToAnalyse), poseNetModelName))\n",
    "\n",
    "    for i,avf in enumerate(videoFoldersToAnalyse):\n",
    "        if i% 100 == 0:\n",
    "            print(\"{}/{}\".format(i, len(videoFoldersToAnalyse)))\n",
    "\n",
    "        # retrieve the target label from folder name\n",
    "        setup, camera, performer, replication, target = getSetupFromFolderPath(avf)\n",
    "#           parse.parse(video_folder_format,avf.split(\"/\")[-1])\n",
    "\n",
    "        assert target in labelsToAnalyse \n",
    "#         if target not in ACTION_LABEL_SET:\n",
    "#             continue\n",
    "\n",
    "        poseNet_folder = avf + \"/\"+ poseNetModelName\n",
    "        pose_scores_video = []\n",
    "    #     keypoint_scores_video = [] # ignoring for now\n",
    "        keypoint_coords_video = []\n",
    "        framesInFolder = [f for f in listdir(poseNet_folder)]\n",
    "        framesInFolder.sort() # must be sorted to have the frame in the correct order   \n",
    "        for frame_file in framesInFolder:\n",
    "            with open(poseNet_folder+\"/\"+frame_file,'rb') as file_in:\n",
    "                pose_scores, keypoint_scores, keypoint_coords = pickle.load(file_in)\n",
    "            pose_scores_video.append(pose_scores)\n",
    "    #         keypoint_scores_video.append(keypoint_scores) # for now ignoring the keypoints Scores\n",
    "            keypoint_coords_video.append(keypoint_coords)\n",
    "\n",
    "        # find the pose that along the whole video is the \"surest\"\n",
    "        bestPoseIndex = np.argmax(np.mean(pose_scores_video, axis=0)) \n",
    "\n",
    "        # retrieving the keypoint coordinates for the best pose\n",
    "        bestPoseKeypointCoords = [k[bestPoseIndex] for k in keypoint_coords_video] \n",
    "\n",
    "\n",
    "        videoFeaturesList.append(bestPoseKeypointCoords)\n",
    "        videoLabelsList.append(target)\n",
    "        videoSetupList.append(setup)\n",
    "        videoCameraList.append(camera)\n",
    "        videoPerformerList.append(performer)\n",
    "        videoReplicationList.append(replication)\n",
    "\n",
    "\n",
    "    # converting to ndarray\n",
    "    videoFeatures = np.asarray(videoFeaturesList)\n",
    "    videoLabels = np.asarray(videoLabelsList)\n",
    "    videoSetups = np.asarray(videoSetupList)\n",
    "    videoCameras= np.asarray(videoCameraList)\n",
    "    videoPerformers = np.asarray(videoPerformerList)\n",
    "    videoReplications = np.asarray(videoReplicationList)\n",
    "          \n",
    "    #final assertion (just to be sure)\n",
    "    assert len(videoFoldersToAnalyse) == len(videoFeatures) == len(videoLabels) == len(videoSetups) == len(videoCameras) == len(videoPerformers) == len(videoReplications)\n",
    "\n",
    "    return videoFeatures,videoLabels,videoSetups,videoCameras,videoPerformers,videoReplications"
   ]
  },
  {
   "cell_type": "code",
   "execution_count": 59,
   "metadata": {},
   "outputs": [],
   "source": [
    "def getDetectronResult(labelsToAnalyse, inputFolder = \"/data/students_home/amoscatelli/Desktop/actionAnalysis/inputData/\"):\n",
    "    print(\"retrieving detectron points from input folders...\")\n",
    "    detectron2ModelName = \"keypoint_rcnn_X_101_32x8d_FPN_3x\"\n",
    "#     detectron2datasetName = DATASET_FOLDER+detectron2ModelName+\"-dataset.pickle\"\n",
    "    videoFeaturesList = []\n",
    "    videoLabelsList = []\n",
    "    videoSetupList = []\n",
    "    videoCameraList = []\n",
    "    videoPerformerList = []\n",
    "    videoReplicationList = []\n",
    "    \n",
    "    videoFoldersToAnalyse = [f.path for f in scandir(inputFolder) if isdir(join(inputFolder, f)) and getSetupFromFolderPath(f)[4] in labelsToAnalyse]\n",
    "    \n",
    "    print(\"remove this line\")\n",
    "    videoFoldersToAnalyse = videoFoldersToAnalyse[:10]\n",
    "    \n",
    "    print(\"found {} folders for {}\".format(len(videoFoldersToAnalyse), detectron2ModelName))\n",
    "    \n",
    "    for i, avf in enumerate(videoFoldersToAnalyse):\n",
    "        if i% 100 == 0:\n",
    "            print(\"{}/{}\".format(i, len(videoFoldersToAnalyse)))\n",
    "\n",
    "        # retrieve the target label from folder name\n",
    "        setup, camera, performer, replication, target = getSetupFromFolderPath(avf)\n",
    "        \n",
    "        assert target in labelsToAnalyse \n",
    "\n",
    "        detectron2_folder = avf + \"/Detectron2-\"+ detectron2ModelName\n",
    "        framesInFolder = [f for f in listdir(detectron2_folder)]\n",
    "        framesInFolder.sort() # must be sorted to have the frame in the correct order   \n",
    "        keypoints_video = []\n",
    "        for frame_file in framesInFolder:\n",
    "            with open(detectron2_folder+\"/\"+frame_file,'rb') as file_in:\n",
    "                outputsRead = pickle.load(file_in)\n",
    "    #         if len(outputsRead['instances']) > 1:\n",
    "    #             print(detectron2_folder+\"/\"+frame_file, \"has more than 1 pose\")\n",
    "\n",
    "            if len(outputsRead['instances']) == 0:\n",
    "                # in case of no pose is detected we fill the features with zeros\n",
    "                keypoints_frame = np.ndarray.tolist(np.zeros((17,2)))\n",
    "                print(\" for video {}-{} the frame {} is filled with zeros\".format(i,basename(avf),fIdx))\n",
    "            else:\n",
    "                instancesFields = outputsRead['instances'].get_fields()\n",
    "\n",
    "                # get only the most sure pose (Detectron sorts them for us)\n",
    "                keypoints_frame = np.array(instancesFields['pred_keypoints'][0].cpu()) \n",
    "                keypoints_frame = [[k[0],k[1]] for k in keypoints_frame] #removing the third value (which I still didn't understand what it means)\n",
    "\n",
    "            keypoints_video.append(keypoints_frame)\n",
    "\n",
    "        videoFeaturesList.append(keypoints_video)\n",
    "        videoLabelsList.append(target)\n",
    "        videoSetupList.append(setup)\n",
    "        videoCameraList.append(camera)\n",
    "        videoPerformerList.append(performer)\n",
    "        videoReplicationList.append(replication)\n",
    "        \n",
    "    # converting to ndarray\n",
    "    videoFeatures = np.asarray(videoFeaturesList)\n",
    "    videoLabels = np.asarray(videoLabelsList)\n",
    "    videoSetups = np.asarray(videoSetupList)\n",
    "    videoCameras= np.asarray(videoCameraList)\n",
    "    videoPerformers = np.asarray(videoPerformerList)\n",
    "    videoReplications = np.asarray(videoReplicationList)\n",
    "          \n",
    "    #final assertion (just to be sure)\n",
    "    assert len(videoFoldersToAnalyse) == len(videoFeatures) == len(videoLabels) == len(videoSetups) == len(videoCameras) == len(videoPerformers) == len(videoReplications)\n",
    "\n",
    "    return videoFeatures,videoLabels,videoSetups,videoCameras,videoPerformers,videoReplications"
   ]
  },
  {
   "cell_type": "code",
   "execution_count": 56,
   "metadata": {},
   "outputs": [
    {
     "name": "stdout",
     "output_type": "stream",
     "text": [
      "retrieving detectron points from input folders...\n",
      "remove this line\n",
      "found 10 folders for keypoint_rcnn_X_101_32x8d_FPN_3x\n",
      "0/10\n",
      " for video 8-S014C002P039R002A006_rgb the frame 43 is filled with zeros\n",
      " for video 8-S014C002P039R002A006_rgb the frame 44 is filled with zeros\n",
      " for video 8-S014C002P039R002A006_rgb the frame 45 is filled with zeros\n",
      " for video 8-S014C002P039R002A006_rgb the frame 46 is filled with zeros\n",
      " for video 8-S014C002P039R002A006_rgb the frame 47 is filled with zeros\n",
      " for video 8-S014C002P039R002A006_rgb the frame 48 is filled with zeros\n",
      " for video 8-S014C002P039R002A006_rgb the frame 49 is filled with zeros\n",
      " for video 8-S014C002P039R002A006_rgb the frame 50 is filled with zeros\n",
      " for video 8-S014C002P039R002A006_rgb the frame 51 is filled with zeros\n",
      " for video 8-S014C002P039R002A006_rgb the frame 53 is filled with zeros\n",
      " for video 8-S014C002P039R002A006_rgb the frame 73 is filled with zeros\n",
      " for video 8-S014C002P039R002A006_rgb the frame 75 is filled with zeros\n",
      " for video 8-S014C002P039R002A006_rgb the frame 76 is filled with zeros\n",
      " for video 8-S014C002P039R002A006_rgb the frame 77 is filled with zeros\n",
      " for video 8-S014C002P039R002A006_rgb the frame 78 is filled with zeros\n",
      " for video 8-S014C002P039R002A006_rgb the frame 79 is filled with zeros\n",
      " for video 8-S014C002P039R002A006_rgb the frame 80 is filled with zeros\n",
      " for video 8-S014C002P039R002A006_rgb the frame 81 is filled with zeros\n",
      " for video 8-S014C002P039R002A006_rgb the frame 82 is filled with zeros\n"
     ]
    }
   ],
   "source": [
    "# def getDetectronResult(labelsToAnalyse, inputFolder = \"/data/students_home/amoscatelli/Desktop/actionAnalysis/inputData/\"):\n",
    "labelsToAnalyse = [6]\n",
    "inputFolder = \"/data/students_home/amoscatelli/Desktop/actionAnalysis/inputData/\"\n",
    "print(\"retrieving detectron points from input folders...\")\n",
    "detectron2ModelName = \"keypoint_rcnn_X_101_32x8d_FPN_3x\"\n",
    "#     detectron2datasetName = DATASET_FOLDER+detectron2ModelName+\"-dataset.pickle\"\n",
    "videoFeaturesList = []\n",
    "videoLabelsList = []\n",
    "videoSetupList = []\n",
    "videoCameraList = []\n",
    "videoPerformerList = []\n",
    "videoReplicationList = []\n",
    "\n",
    "videoFoldersToAnalyse = [f.path for f in scandir(inputFolder) if isdir(join(inputFolder, f)) and getSetupFromFolderPath(f)[4] in labelsToAnalyse]\n",
    "\n",
    "print(\"remove this line\")\n",
    "videoFoldersToAnalyse = videoFoldersToAnalyse[:10]\n",
    "\n",
    "print(\"found {} folders for {}\".format(len(videoFoldersToAnalyse), detectron2ModelName))\n",
    "\n",
    "for i, avf in enumerate(videoFoldersToAnalyse):\n",
    "    if i% 100 == 0:\n",
    "        print(\"{}/{}\".format(i, len(videoFoldersToAnalyse)))\n",
    "\n",
    "    # retrieve the target label from folder name\n",
    "    setup, camera, performer, replication, target = getSetupFromFolderPath(avf)\n",
    "\n",
    "    assert target in labelsToAnalyse \n",
    "\n",
    "    detectron2_folder = avf + \"/Detectron2-\"+ detectron2ModelName\n",
    "    framesInFolder = [f for f in listdir(detectron2_folder)]\n",
    "    framesInFolder.sort() # must be sorted to have the frame in the correct order   \n",
    "    keypoints_video = []\n",
    "    for fIdx, frame_file in enumerate(framesInFolder):\n",
    "        with open(detectron2_folder+\"/\"+frame_file,'rb') as file_in:\n",
    "            outputsRead = pickle.load(file_in)\n",
    "#         if len(outputsRead['instances']) > 1:\n",
    "#             print(detectron2_folder+\"/\"+frame_file, \"has more than 1 pose\")\n",
    "        \n",
    "        if len(outputsRead['instances']) == 0:\n",
    "            # in case of no pose is detected we fill the features with zeros\n",
    "            keypoints_frame = np.ndarray.tolist(np.zeros((17,2)))\n",
    "            print(\" for video {}-{} the frame {} is filled with zeros\".format(i,basename(avf),fIdx))\n",
    "        else:\n",
    "            instancesFields = outputsRead['instances'].get_fields()\n",
    "\n",
    "            # get only the most sure pose (Detectron sorts them for us)\n",
    "            keypoints_frame = np.array(instancesFields['pred_keypoints'][0].cpu()) \n",
    "            keypoints_frame = [[k[0],k[1]] for k in keypoints_frame] #removing the third value (which I still didn't understand what it means)\n",
    "        \n",
    "        keypoints_video.append(keypoints_frame)\n",
    "\n",
    "    videoFeaturesList.append(keypoints_video)\n",
    "    videoLabelsList.append(target)\n",
    "    videoSetupList.append(setup)\n",
    "    videoCameraList.append(camera)\n",
    "    videoPerformerList.append(performer)\n",
    "    videoReplicationList.append(replication)\n",
    "\n",
    "# converting to ndarray\n",
    "videoFeatures = np.asarray(videoFeaturesList)\n",
    "videoLabels = np.asarray(videoLabelsList)\n",
    "videoSetups = np.asarray(videoSetupList)\n",
    "videoCameras= np.asarray(videoCameraList)\n",
    "videoPerformers = np.asarray(videoPerformerList)\n",
    "videoReplications = np.asarray(videoReplicationList)\n",
    "\n",
    "#final assertion (just to be sure)\n",
    "assert len(videoFoldersToAnalyse) == len(videoFeatures) == len(videoLabels) == len(videoSetups) == len(videoCameras) == len(videoPerformers) == len(videoReplications)\n",
    "\n",
    "# return videoFeatures,videoLabels,videoSetups,videoCameras,videoPerformers,videoReplications"
   ]
  },
  {
   "cell_type": "markdown",
   "metadata": {},
   "source": [
    "# Creating Senesi's dataset"
   ]
  },
  {
   "cell_type": "code",
   "execution_count": 60,
   "metadata": {},
   "outputs": [],
   "source": [
    "import os\n",
    "os.environ[\"CUDA_DEVICE_ORDER\"]=\"PCI_BUS_ID\"\n",
    "os.environ[\"CUDA_VISIBLE_DEVICES\"] = \"1\""
   ]
  },
  {
   "cell_type": "code",
   "execution_count": 61,
   "metadata": {},
   "outputs": [],
   "source": [
    "def getStringList(labels, setups, cameras, performers, replications):\n",
    "    strList = []\n",
    "    for i in range(len(labels)):\n",
    "        strList.append(\"{} {} {} {} {}\".format(labels[i],setups[i],cameras[i],performers[i],replications[i]))\n",
    "    return strList"
   ]
  },
  {
   "cell_type": "code",
   "execution_count": 62,
   "metadata": {},
   "outputs": [
    {
     "name": "stdout",
     "output_type": "stream",
     "text": [
      "### Model: keypoint_rcnn_X_101_32x8d_FPN_3x ###\n",
      "### Loading /data/students_home/amoscatelli/Desktop/actionAnalysis/datasets/keypoint_rcnn_X_101_32x8d_FPN_3x-dataset.pickle ###\n",
      "retrieving detectron points from input folders...\n",
      "remove this line\n",
      "found 10 folders for keypoint_rcnn_X_101_32x8d_FPN_3x\n",
      "0/10\n",
      " for video 8-S014C002P039R002A006_rgb the frame 76 is filled with zeros\n",
      " for video 8-S014C002P039R002A006_rgb the frame 76 is filled with zeros\n",
      " for video 8-S014C002P039R002A006_rgb the frame 76 is filled with zeros\n",
      " for video 8-S014C002P039R002A006_rgb the frame 76 is filled with zeros\n",
      " for video 8-S014C002P039R002A006_rgb the frame 76 is filled with zeros\n",
      " for video 8-S014C002P039R002A006_rgb the frame 76 is filled with zeros\n",
      " for video 8-S014C002P039R002A006_rgb the frame 76 is filled with zeros\n",
      " for video 8-S014C002P039R002A006_rgb the frame 76 is filled with zeros\n",
      " for video 8-S014C002P039R002A006_rgb the frame 76 is filled with zeros\n",
      " for video 8-S014C002P039R002A006_rgb the frame 76 is filled with zeros\n",
      " for video 8-S014C002P039R002A006_rgb the frame 76 is filled with zeros\n",
      " for video 8-S014C002P039R002A006_rgb the frame 76 is filled with zeros\n",
      " for video 8-S014C002P039R002A006_rgb the frame 76 is filled with zeros\n",
      " for video 8-S014C002P039R002A006_rgb the frame 76 is filled with zeros\n",
      " for video 8-S014C002P039R002A006_rgb the frame 76 is filled with zeros\n",
      " for video 8-S014C002P039R002A006_rgb the frame 76 is filled with zeros\n",
      " for video 8-S014C002P039R002A006_rgb the frame 76 is filled with zeros\n",
      " for video 8-S014C002P039R002A006_rgb the frame 76 is filled with zeros\n",
      " for video 8-S014C002P039R002A006_rgb the frame 76 is filled with zeros\n",
      "### creating train-val-test set for the first time ###\n",
      "Dumping the result in  /data/students_home/amoscatelli/Desktop/actionAnalysis/datasets/keypoint_rcnn_X_101_32x8d_FPN_3x-SPLIT-SENESI-dataset.pickle\n",
      "### Model: PoseNet-101 ###\n",
      "### Loading /data/students_home/amoscatelli/Desktop/actionAnalysis/datasets/PoseNet-101-dataset.pickle ###\n",
      "retrieving PoseNet points from input folders...\n",
      "remove this line\n",
      "found 10 folders for PoseNet-101\n",
      "0/10\n",
      "### creating train-val-test as the previous one ###\n",
      "get the indexes of train-val-test elements\n",
      "creating the train-val-test set following the previously calculated indexes\n",
      "Dumping the result in  /data/students_home/amoscatelli/Desktop/actionAnalysis/datasets/PoseNet-101-SPLIT-SENESI-dataset.pickle\n",
      "DONE!\n"
     ]
    }
   ],
   "source": [
    "import numpy as np\n",
    "import pickle\n",
    "from sklearn.model_selection import StratifiedShuffleSplit\n",
    "from os.path import isdir,join\n",
    "\n",
    "modelNames = [\"keypoint_rcnn_X_101_32x8d_FPN_3x\"\n",
    "              ,\"PoseNet-101\"\n",
    "             ]\n",
    "# labelInCommon = [7,8,9,23,31]\n",
    "labelInCommon = [7]\n",
    "# ACTION_LABEL_SET = [\"A006\",\"A024\",\"A026\",\"A027\",\"A035\"] # different from Senesi\n",
    "# labelToReadFromInput = [6,24,26,27,35]\n",
    "labelToReadFromInput = [6]\n",
    "TEST_SIZE = 0.1\n",
    "VAL_SIZE = 0.2\n",
    "sss = None\n",
    "for modelName in modelNames:\n",
    "    print(\"### Model:\",modelName,\"###\")\n",
    "    datasetName = DATASET_FOLDER+modelName+\"-dataset.pickle\"\n",
    "    print(\"### Loading\",datasetName,\"###\")\n",
    "    with open(datasetName,'rb') as file_in:\n",
    "        readFeatures, readLabels, readSetups, readCameras, readPerformers, readReplications = pickle.load(file_in)\n",
    "\n",
    "    indexToTake = np.concatenate(([np.where(readLabels == x)[0] for x in labelInCommon]))\n",
    "    \n",
    "    commonFeature = readFeatures[indexToTake]\n",
    "    commonLabels = readLabels[indexToTake]\n",
    "    commonSetup = readSetups[indexToTake]\n",
    "    commonCameras = readCameras[indexToTake]\n",
    "    commonPerformers = readPerformers[indexToTake]\n",
    "    commonReplications = readReplications[indexToTake]\n",
    "    \n",
    "#     assert 4740 == len(commonFeature) == len(commonLabels) == len(commonSetup) == len(commonCameras) == len(commonPerformers) == len(commonReplications)\n",
    "    assert 948 == len(commonFeature) == len(commonLabels) == len(commonSetup) == len(commonCameras) == len(commonPerformers) == len(commonReplications)\n",
    "    \n",
    "    if modelName == \"PoseNet-101\":\n",
    "        videoFeatures,videoLabels,videoSetups,videoCameras,videoPerformers,videoReplications = getPoseNetResult(labelToReadFromInput)\n",
    "    elif modelName == \"keypoint_rcnn_X_101_32x8d_FPN_3x\":\n",
    "            videoFeatures,videoLabels,videoSetups,videoCameras,videoPerformers,videoReplications = getDetectronResult(labelToReadFromInput)\n",
    "    else:\n",
    "        raise Exception(\"model name {} unknown\".format(modelName)) \n",
    "    \n",
    "    # MERGING COMMON ONES WITH READ ONES\n",
    "    features = np.concatenate((commonFeature, videoFeatures))\n",
    "    labels = np.concatenate((commonLabels, videoLabels))\n",
    "    setups = np.concatenate((commonSetup, videoSetups))\n",
    "    cameras = np.concatenate((commonCameras, videoCameras))\n",
    "    performers = np.concatenate((commonPerformers, videoPerformers))\n",
    "    replications = np.concatenate((commonReplications, videoReplications))\n",
    "    \n",
    "    globalSet = [features, labels, setups, cameras, performers, replications]\n",
    "    \n",
    "    # TRAIN-TEST splitting\n",
    "    ## first splitting -> it will become reference\n",
    "    if sss is None:\n",
    "        print(\"### creating train-val-test set for the first time ###\")\n",
    "        sss = StratifiedShuffleSplit(n_splits=1, test_size=TEST_SIZE)\n",
    "        for train_val_idx, test_idx in sss.split(features, labels):\n",
    "            trainValSet = [el[train_val_idx] for el in globalSet]\n",
    "            testSet = [el[test_idx] for el in globalSet]\n",
    "        # TRAIN-VAL splitting\n",
    "        sss = StratifiedShuffleSplit(n_splits=1, test_size=VAL_SIZE)\n",
    "        for train_idx, val_idx in sss.split(trainValSet[0], trainValSet[1]):\n",
    "            trainSet = [el[train_idx] for el in trainValSet]\n",
    "            valSet = [el[val_idx] for el in trainValSet]\n",
    "        \n",
    "        stringListTrain = getStringList(*trainSet[1:])\n",
    "        stringListVal = getStringList(*valSet[1:])\n",
    "        stringListTest = getStringList(*testSet[1:])\n",
    "        \n",
    "    else:\n",
    "        print(\"### creating train-val-test as the previous one ###\")        \n",
    "        stringListGlobal = getStringList(*globalSet[1:])\n",
    "\n",
    "        print(\"get the indexes of train-val-test elements\")\n",
    "        train_idx = [stringListGlobal.index(el) for el in stringListTrain]\n",
    "        val_idx = [stringListGlobal.index(el) for el in stringListVal]\n",
    "        test_idx = [stringListGlobal.index(el) for el in stringListTest]\n",
    "\n",
    "        print(\"creating the train-val-test set following the previously calculated indexes\")\n",
    "        trainSet = [el[train_idx] for el in globalSet]\n",
    "        valSet = [el[val_idx] for el in globalSet]\n",
    "        testSet = [el[test_idx] for el in globalSet]\n",
    "\n",
    "    \n",
    "    datasetResultName = DATASET_FOLDER+modelName+\"-SPLIT-SENESI-dataset.pickle\"\n",
    "    print(\"Dumping the result in \",datasetResultName)\n",
    "    with open(datasetResultName, 'wb') as handle:\n",
    "        pickle.dump((trainSet, valSet, testSet), handle, protocol=pickle.HIGHEST_PROTOCOL)        \n",
    "        \n",
    "print(\"DONE!\")"
   ]
  },
  {
   "cell_type": "markdown",
   "metadata": {},
   "source": [
    "## Check if the datasets are equal"
   ]
  },
  {
   "cell_type": "code",
   "execution_count": 63,
   "metadata": {},
   "outputs": [],
   "source": [
    "dataset_1 = DATASET_FOLDER+\"keypoint_rcnn_X_101_32x8d_FPN_3x-SPLIT-SENESI-dataset.pickle\"\n",
    "with open(dataset_1,\"rb\") as file_in:\n",
    "        trainSet_1, valSet_1, testSet_1 = pickle.load(file_in)\n",
    "\n",
    "dataset_2 = DATASET_FOLDER+\"PoseNet-101-SPLIT-SENESI-dataset.pickle\"\n",
    "with open(dataset_2,\"rb\") as file_in:\n",
    "        trainSet_2, valSet_2, testSet_2 = pickle.load(file_in)"
   ]
  },
  {
   "cell_type": "code",
   "execution_count": null,
   "metadata": {},
   "outputs": [],
   "source": [
    "for i in range(1:5):\n",
    "    assert all(trainSet_1[i] == trainSet_2[i])\n",
    "    assert all(valSet_1[i] == valSet_2[i])\n",
    "    assert all(testSet_1[i] == testSet_2[i])"
   ]
  },
  {
   "cell_type": "code",
   "execution_count": null,
   "metadata": {},
   "outputs": [],
   "source": [
    "3+2"
   ]
  },
  {
   "cell_type": "code",
   "execution_count": 26,
   "metadata": {},
   "outputs": [],
   "source": [
    "merging = np.concatenate((commonFeature,commonFeature))"
   ]
  },
  {
   "cell_type": "code",
   "execution_count": 35,
   "metadata": {},
   "outputs": [
    {
     "data": {
      "text/plain": [
       "(9480, 66, 66)"
      ]
     },
     "execution_count": 35,
     "metadata": {},
     "output_type": "execute_result"
    }
   ],
   "source": [
    "len(merging),len(merging[4742]),len(commonFeature[2])"
   ]
  },
  {
   "cell_type": "code",
   "execution_count": 18,
   "metadata": {},
   "outputs": [
    {
     "data": {
      "text/plain": [
       "4740"
      ]
     },
     "execution_count": 18,
     "metadata": {},
     "output_type": "execute_result"
    }
   ],
   "source": [
    "len(np.concatenate(([np.where(readLabels == x)[0] for x in labelInCommon])))"
   ]
  },
  {
   "cell_type": "code",
   "execution_count": 3,
   "metadata": {},
   "outputs": [
    {
     "data": {
      "text/plain": [
       "True"
      ]
     },
     "execution_count": 3,
     "metadata": {},
     "output_type": "execute_result"
    }
   ],
   "source": [
    "sss = None\n",
    "sss is None"
   ]
  },
  {
   "cell_type": "code",
   "execution_count": 43,
   "metadata": {},
   "outputs": [
    {
     "data": {
      "text/plain": [
       "(array([9, 9, 8]), array([ 2,  9,  9,  9,  8,  8, 49,  8,  8]))"
      ]
     },
     "execution_count": 43,
     "metadata": {},
     "output_type": "execute_result"
    }
   ],
   "source": [
    "type(readFeatures)\n",
    "readLabels[[1,3,5]], readLabels[:9]"
   ]
  },
  {
   "cell_type": "code",
   "execution_count": 52,
   "metadata": {},
   "outputs": [
    {
     "ename": "ValueError",
     "evalue": "operands could not be broadcast together with shapes (0,) (948,) ",
     "output_type": "error",
     "traceback": [
      "\u001b[0;31m---------------------------------------------------------------------------\u001b[0m",
      "\u001b[0;31mValueError\u001b[0m                                Traceback (most recent call last)",
      "\u001b[0;32m<ipython-input-52-a1439236ffd8>\u001b[0m in \u001b[0;36m<module>\u001b[0;34m()\u001b[0m\n\u001b[0;32m----> 1\u001b[0;31m \u001b[0mindexToTake\u001b[0m \u001b[0;34m=\u001b[0m \u001b[0msum\u001b[0m\u001b[0;34m(\u001b[0m\u001b[0;34m[\u001b[0m\u001b[0mnp\u001b[0m\u001b[0;34m.\u001b[0m\u001b[0mwhere\u001b[0m\u001b[0;34m(\u001b[0m\u001b[0mreadLabels\u001b[0m \u001b[0;34m==\u001b[0m \u001b[0mx\u001b[0m\u001b[0;34m)\u001b[0m\u001b[0;34m[\u001b[0m\u001b[0;36m0\u001b[0m\u001b[0;34m]\u001b[0m \u001b[0;32mfor\u001b[0m \u001b[0mx\u001b[0m \u001b[0;32min\u001b[0m \u001b[0mlabelInCommon\u001b[0m\u001b[0;34m]\u001b[0m\u001b[0;34m,\u001b[0m\u001b[0;34m[\u001b[0m\u001b[0;34m]\u001b[0m\u001b[0;34m)\u001b[0m\u001b[0;34m\u001b[0m\u001b[0;34m\u001b[0m\u001b[0m\n\u001b[0m\u001b[1;32m      2\u001b[0m \u001b[0mreadLabels\u001b[0m\u001b[0;34m[\u001b[0m\u001b[0mindexToTake\u001b[0m\u001b[0;34m]\u001b[0m\u001b[0;34m\u001b[0m\u001b[0;34m\u001b[0m\u001b[0m\n",
      "\u001b[0;31mValueError\u001b[0m: operands could not be broadcast together with shapes (0,) (948,) "
     ]
    }
   ],
   "source": [
    "indexToTake = np.concat([np.where(readLabels == x)[0] for x in labelInCommon],[])\n",
    "readLabels[indexToTake]"
   ]
  },
  {
   "cell_type": "code",
   "execution_count": 50,
   "metadata": {
    "collapsed": true
   },
   "outputs": [
    {
     "data": {
      "text/plain": [
       "array([ 6667,  6681,  6704,  6728,  6753,  6786,  6837,  6854,  6885,\n",
       "        6910,  6948,  6991,  7028,  7050,  7068,  7106,  7127,  7162,\n",
       "        7184,  7203,  7219,  7228,  7243,  7258,  7307,  7329,  7391,\n",
       "        7399,  7411,  7444,  7489,  7521,  7557,  7570,  7591,  7621,\n",
       "        7657,  7689,  7736,  7749,  7786,  7805,  7828,  7844,  7875,\n",
       "        7922,  7961,  7979,  8000,  8014,  8035,  8063,  8082,  8125,\n",
       "        8173,  8201,  8211,  8270,  8288,  8306,  8327,  8377,  8396,\n",
       "        8410,  8441,  8474,  8510,  8532,  8548,  8586,  8619,  8634,\n",
       "        8675,  8695,  8727,  8760,  8774,  8811,  8854,  8887,  8905,\n",
       "        8945,  8967,  9018,  9056,  9091,  9115,  9154,  9175,  9185,\n",
       "        9211,  9236,  9272,  9304,  9353,  9379,  9425,  9490,  9517,\n",
       "        9556,  9587,  9611,  9629,  9652,  9677,  9721,  9744,  9771,\n",
       "        9800,  9854,  9879,  9894,  9921,  9943,  9959,  9974,  9997,\n",
       "       10028, 10047, 10072, 10122, 10148, 10181, 10198, 10211, 10231,\n",
       "       10250, 10267, 10286, 10303, 10323, 10341, 10380, 10397, 10441,\n",
       "       10480, 10517, 10538, 10569, 10608, 10628, 10670, 10700, 10736,\n",
       "       10749, 10774, 10789, 10807, 10858, 10880, 10894, 10933, 10958,\n",
       "       10972, 11003, 11033, 11072, 11097, 11134, 11164, 11196, 11224,\n",
       "       11295, 11331, 11383, 11425, 11438, 11457, 11507, 11550, 11577,\n",
       "       11598, 11617, 11646, 11661, 11740, 11760, 11774, 11801, 11833,\n",
       "       11859, 11894, 11924, 11941, 11978, 12005, 12021, 12056, 12080,\n",
       "       12105, 12141, 12159, 12199, 12220, 12239, 12244, 12267, 12294,\n",
       "       12364, 12406, 12446, 12494, 12514, 12526, 12561, 12585, 12626,\n",
       "       12657, 12678, 12695, 12715, 12736, 12776, 12795, 12811, 12839,\n",
       "       12888, 12911, 12944, 12952, 12989, 13034, 13061, 13075, 13097,\n",
       "       13135, 13155, 13189, 13226, 13258, 13271, 13299, 13322, 13338,\n",
       "       13349, 13381, 13413, 13423, 13445, 13472, 13491, 13519, 13564,\n",
       "       13575, 13598, 13613, 13654, 13689, 13698, 13725, 13740, 13816,\n",
       "       13844, 13858, 13879, 13942, 13962, 13987, 14029, 14063, 14090,\n",
       "       14133, 14169, 14207, 14245, 14269, 14288, 14319, 14345, 14358,\n",
       "       14426, 14480, 14506, 14524, 14534, 14580, 14613, 14625, 14650,\n",
       "       14670, 14698, 14715, 14741, 14753, 14780, 14808, 14832, 14862,\n",
       "       14887, 14918, 14965, 14987, 15030, 15063, 15095, 15112, 15140,\n",
       "       15172, 15201, 15211, 15244, 15264, 15298, 15323, 15343, 15375,\n",
       "       15390, 15432, 15503, 15525, 15539, 15564, 15575, 15605, 15616,\n",
       "       15634, 15674, 15710, 15737, 15750, 15777, 15817, 15835, 15875,\n",
       "       15899, 15934, 15970, 15999, 16023, 16060, 16081, 16116, 16179,\n",
       "       16202, 16228, 16257, 16293, 16321, 16350, 16380, 16427, 16450,\n",
       "       16466, 16499, 16545, 16592, 16635, 16658, 16696, 16719, 16750,\n",
       "       16776, 16825, 16865, 16876, 16893, 16924, 16959, 16979, 17033,\n",
       "       17050, 17086, 17114, 17132, 17161, 17187, 17214, 17235, 17278,\n",
       "       17319, 17341, 17375, 17397, 17415, 17430, 17478, 17514, 17530,\n",
       "       17580, 17610, 17627, 17653, 17684, 17735, 17757, 17812, 17843,\n",
       "       17875, 17889, 17898, 17919, 17932, 17986, 18033, 18060, 18093,\n",
       "       18138, 18187, 18226, 18244, 18259, 18287, 18309, 18323, 18353,\n",
       "       18363, 18380, 18399, 18424, 18443, 18473, 18511, 18539, 18561,\n",
       "       18592, 18637, 18678, 18701, 18725, 18784, 18809, 18846, 18894,\n",
       "       18926, 18938, 18967, 18992, 19022, 19060, 19072, 19088, 19110,\n",
       "       19142, 19172, 19238, 19257, 19274, 19316, 19323, 19347, 19366,\n",
       "       19400, 19421, 19448, 19467, 19488, 19539, 19572, 19596, 19637,\n",
       "       19655, 19671, 19710, 19734, 19782, 19793, 19831, 19850, 19883,\n",
       "       19918, 19936, 19947, 19960, 19984, 20035, 20067, 20084, 20134,\n",
       "       20209, 20247, 20287, 20311, 20343, 20354, 20389, 20406, 20421,\n",
       "       20445, 20461, 20491, 20514, 20535, 20558, 20584, 20619, 20644,\n",
       "       20666, 20723, 20750, 20792, 20832, 20874, 20906, 20950, 20991,\n",
       "       21008, 21046, 21059, 21082, 21106, 21129, 21186, 21215, 21234,\n",
       "       21271, 21323, 21372, 21434, 21474, 21496, 21518, 21536, 21562,\n",
       "       21580, 21595, 21631, 21670, 21697, 21720, 21759, 21785, 21825,\n",
       "       21852, 21902, 21944, 21984, 22015, 22029, 22057, 22104, 22123,\n",
       "       22134, 22176, 22194, 22215, 22252, 22275, 22302, 22362, 22414,\n",
       "       22437, 22454, 22460, 22490, 22510, 22527, 22555, 22602, 22615,\n",
       "       22638, 22659, 22682, 22694, 22718, 22737, 22757, 22772, 22796,\n",
       "       22815, 22851, 22884, 22925, 22957, 22970, 22988, 23003, 23058,\n",
       "       23065, 23103, 23115, 23135, 23165, 23199, 23242, 23268, 23288,\n",
       "       23333, 23372, 23403, 23428, 23451, 23482, 23555, 23584, 23601,\n",
       "       23638, 23682, 23728, 23746, 23775, 23813, 23830, 23862, 23886,\n",
       "       23915, 23955, 23968, 23981, 24002, 24054, 24089, 24109, 24118,\n",
       "       24172, 24201, 24245, 24260, 24274, 24320, 24337, 24355, 24405,\n",
       "       24452, 24482, 24501, 24548, 24572, 24630, 24646, 24661, 24680,\n",
       "       24706, 24735, 24760, 24782, 24801, 24832, 24868, 24899, 24964,\n",
       "       25019, 25030, 25052, 25087, 25122, 25146, 25161, 25179, 25210,\n",
       "       25256, 25284, 25301, 25330, 25364, 25401, 25429, 25467, 25488,\n",
       "       25512, 25548, 25577, 25612, 25636, 25665, 25688, 25704, 25744,\n",
       "       25775, 25791, 25819, 25853, 25900, 25934, 25962, 25982, 26018,\n",
       "       26056, 26082, 26098, 26124, 26151, 26185, 26209, 26233, 26270,\n",
       "       26323, 26374, 26424, 26436, 26457, 26487, 26507, 26538, 26561,\n",
       "       26592, 26628, 26661, 26685, 26709, 26723, 26736, 26776, 26794,\n",
       "       26822, 26861, 26882, 26899, 26921, 26953, 27001, 27028, 27083,\n",
       "       27123, 27143, 27160, 27213, 27228, 27241, 27301, 27341, 27360,\n",
       "       27398, 27423, 27454, 27488, 27511, 27543, 27551, 27581, 27619,\n",
       "       27673, 27684, 27709, 27726, 27751, 27785, 27799, 27840, 27858,\n",
       "       27875, 27926, 27962, 27979, 27987, 28021, 28049, 28061, 28078,\n",
       "       28107, 28139, 28159, 28202, 28223, 28253, 28280, 28300, 28318,\n",
       "       28347, 28377, 28406, 28430, 28518, 28564, 28584, 28614, 28637,\n",
       "       28664, 28681, 28711, 28728, 28759, 28795, 28828, 28848, 28864,\n",
       "       28905, 28931, 28967, 28993, 29067, 29089, 29114, 29130, 29154,\n",
       "       29173, 29185, 29204, 29261, 29311, 29325, 29337, 29388, 29399,\n",
       "       29427, 29444, 29463, 29499, 29545, 29570, 29583, 29625, 29656,\n",
       "       29671, 29690, 29709, 29736, 29766, 29791, 29815, 29848, 29863,\n",
       "       29891, 29919, 29942, 29981, 30081, 30092, 30111, 30140, 30167,\n",
       "       30180, 30223, 30243, 30281, 30332, 30354, 30375, 30390, 30405,\n",
       "       30422, 30441, 30479, 30521, 30540, 30580, 30624, 30663, 30710,\n",
       "       30739, 30771, 30779, 30795, 30837, 30863, 30898, 30907, 30933,\n",
       "       30954, 30969, 31015, 31053, 31074, 31129, 31154, 31196, 31249,\n",
       "       31270, 31285, 31320, 31347, 31420, 31437, 31462, 31498, 31517,\n",
       "       31556, 31612, 31643, 31690, 31706, 31725, 31744, 31752, 31773,\n",
       "       31814, 31836, 31861, 31891, 31915, 31934, 31954, 31969, 32001,\n",
       "       32025, 32048, 32077, 32112, 32139, 32184, 32197, 32255, 32283,\n",
       "       32309, 32337, 32372, 32410, 32459, 32495, 32518, 32550, 32588,\n",
       "       32632, 32660, 32684, 32698, 32720, 32745, 32774, 32801, 32820,\n",
       "       32839, 32869, 32896, 32916, 32937, 32959, 33005, 33026, 33048,\n",
       "       33086, 33116, 33135, 33151, 33159, 33187, 33203, 33222, 33244,\n",
       "       33274, 33290, 33303, 33331, 33357, 33411, 33444, 33478, 33503,\n",
       "       33526, 33538, 33594, 33631, 33640, 33665, 33691, 33722, 33763,\n",
       "       33783, 33801, 33844, 33865, 33876, 33927, 33959, 33988, 34038,\n",
       "       34068, 34098, 34113])"
      ]
     },
     "execution_count": 50,
     "metadata": {},
     "output_type": "execute_result"
    }
   ],
   "source": [
    "sum(indexToTake)"
   ]
  },
  {
   "cell_type": "code",
   "execution_count": 31,
   "metadata": {},
   "outputs": [
    {
     "data": {
      "text/plain": [
       "array([0, 5])"
      ]
     },
     "execution_count": 31,
     "metadata": {},
     "output_type": "execute_result"
    }
   ],
   "source": [
    "result[0]"
   ]
  },
  {
   "cell_type": "markdown",
   "metadata": {},
   "source": [
    "# splitting dataset in train-val-test"
   ]
  },
  {
   "cell_type": "code",
   "execution_count": 37,
   "metadata": {},
   "outputs": [],
   "source": [
    "from sklearn.model_selection import StratifiedShuffleSplit\n",
    "import pickle\n",
    "\n",
    "TEST_SIZE = 0.1\n",
    "VAL_SIZE = 0.2\n",
    "modelNames = [\"PoseNet-101\",\"keypoint_rcnn_X_101_32x8d_FPN_3x\"]\n",
    "for modelName in modelNames:\n",
    "    datasetName = DATASET_FOLDER+modelName+\"-dataset.pickle\"\n",
    "    with open(datasetName,'rb') as file_in:\n",
    "        readFeatures, readLabels, readSetups, readCameras, readPerformers, readReplications = pickle.load(file_in)\n",
    "\n",
    "    readOnes = [readFeatures, readLabels, readSetups, readCameras, readPerformers, readReplications]\n",
    "    # TRAIN-TEST splitting\n",
    "    sss = StratifiedShuffleSplit(n_splits=1, test_size=TEST_SIZE)\n",
    "    for train_idx, test_idx in sss.split(readFeatures, readLabels):\n",
    "        trainValSet = [el[train_idx] for el in readOnes]\n",
    "        testSet = [el[test_idx] for el in readOnes]\n",
    "    # TRAIN-VAL splitting\n",
    "    sss = StratifiedShuffleSplit(n_splits=1, test_size=VAL_SIZE)\n",
    "    for train_idx, val_idx in sss.split(trainValSet[0], trainValSet[1]):\n",
    "        trainSet = [el[train_idx] for el in trainValSet]\n",
    "        valSet = [el[val_idx] for el in trainValSet]\n",
    "        \n",
    "    with open(DATASET_FOLDER+modelName+\"-SPLIT-dataset.pickle\", 'wb') as handle:\n",
    "        pickle.dump((trainSet, valSet, testSet), handle, protocol=pickle.HIGHEST_PROTOCOL)\n",
    "\n"
   ]
  },
  {
   "cell_type": "code",
   "execution_count": 40,
   "metadata": {},
   "outputs": [],
   "source": [
    "with open(DATASET_FOLDER+\"keypoint_rcnn_X_101_32x8d_FPN_3x-SPLIT-dataset.pickle\",'rb') as file_in:\n",
    "    read_train_set, read_val_set, read_test_set = pickle.load(file_in)\n"
   ]
  },
  {
   "cell_type": "code",
   "execution_count": 41,
   "metadata": {},
   "outputs": [
    {
     "data": {
      "text/plain": [
       "7584"
      ]
     },
     "execution_count": 41,
     "metadata": {},
     "output_type": "execute_result"
    }
   ],
   "source": [
    "len(read_train_set[0])+len(read_val_set[0])+len(read_test_set[0])"
   ]
  },
  {
   "cell_type": "code",
   "execution_count": 42,
   "metadata": {},
   "outputs": [
    {
     "data": {
      "text/plain": [
       "(5460, 1365, 759)"
      ]
     },
     "execution_count": 42,
     "metadata": {},
     "output_type": "execute_result"
    }
   ],
   "source": [
    "len(read_train_set[0]), len(read_val_set[0]), len(read_test_set[0])"
   ]
  },
  {
   "cell_type": "code",
   "execution_count": 90,
   "metadata": {},
   "outputs": [
    {
     "data": {
      "image/png": "[encoded data removed]",
      "text/plain": [
       "<Figure size 1080x720 with 15 Axes>"
      ]
     },
     "metadata": {},
     "output_type": "display_data"
    }
   ],
   "source": [
    "import matplotlib.pyplot as plt\n",
    "\n",
    "xLabels = [\"labels\", \"setups\", \"cameras\", \"performers\", \"replications\"]\n",
    "yLabels = [\"trainig\", \"validation\", \"test\"]\n",
    "fig, axes = plt.subplots(nrows=3, ncols=5)\n",
    "fig.set_size_inches(15,10)\n",
    "for ids, dataSet in enumerate([read_train_set, read_val_set, read_test_set]):\n",
    "    axes[ids][0].set_ylabel(yLabels[ids],fontsize = 15)\n",
    "    for iid, data in enumerate(dataSet[1:]):\n",
    "        axes[ids][iid].set_xlabel(xLabels[iid],fontsize = 10)\n",
    "        axes[ids][iid].hist(data, bins = max(data))\n",
    "fig.tight_layout()\n",
    "plt.show()\n",
    "        "
   ]
  },
  {
   "cell_type": "markdown",
   "metadata": {},
   "source": [
    "# splitting dataset in same train-val-test for every model"
   ]
  },
  {
   "cell_type": "code",
   "execution_count": 60,
   "metadata": {},
   "outputs": [
    {
     "name": "stdout",
     "output_type": "stream",
     "text": [
      "LOADING 'keypoint_rcnn_X_101_32x8d_FPN_3x' AS REFERENCE\n",
      "ADAPTING 'PoseNet-101' following the reference\n",
      "get the indexes of train-val-test elements\n",
      "creating the train-val-test set following the previously calculated indexes\n",
      "DONE!\n"
     ]
    }
   ],
   "source": [
    "from sklearn.model_selection import StratifiedShuffleSplit\n",
    "import pickle\n",
    "import numpy as np \n",
    "\n",
    "def getStringList(labels, setups, cameras, performers, replications):\n",
    "    strList = []\n",
    "    for i in range(len(labels)):\n",
    "        strList.append(\"{} {} {} {} {}\".format(labels[i],setups[i],cameras[i],performers[i],replications[i]))\n",
    "    return strList\n",
    "\n",
    "print(\"LOADING 'keypoint_rcnn_X_101_32x8d_FPN_3x' AS REFERENCE\")\n",
    "with open(DATASET_FOLDER+\"keypoint_rcnn_X_101_32x8d_FPN_3x-SPLIT-dataset.pickle\",\"rb\") as file_in:\n",
    "        trainSet_ref, valSet_ref, testSet_ref = pickle.load(file_in)\n",
    "\n",
    "stringListTrain = getStringList(*trainSet_ref[1:])\n",
    "stringListVal = getStringList(*valSet_ref[1:])\n",
    "stringListTest = getStringList(*testSet_ref[1:])\n",
    "\n",
    "print(\"ADAPTING 'PoseNet-101' following the reference\")\n",
    "with open(DATASET_FOLDER+\"PoseNet-101-dataset.pickle\",\"rb\") as file_in:\n",
    "    readFeatures, readLabels, readSetups, readCameras, readPerformers, readReplications = pickle.load(file_in)\n",
    "\n",
    "readOnes = [readFeatures, readLabels, readSetups, readCameras, readPerformers, readReplications]\n",
    "stringListGlobal = getStringList(*readOnes[1:])\n",
    "\n",
    "print(\"get the indexes of train-val-test elements\")\n",
    "train_idx = [stringListGlobal.index(el) for el in stringListTrain]\n",
    "val_idx = [stringListGlobal.index(el) for el in stringListVal]\n",
    "test_idx = [stringListGlobal.index(el) for el in stringListTest]\n",
    "\n",
    "print(\"creating the train-val-test set following the previously calculated indexes\")\n",
    "trainSet = [el[train_idx] for el in readOnes]\n",
    "valSet = [el[val_idx] for el in readOnes]\n",
    "testSet = [el[test_idx] for el in readOnes]\n",
    "\n",
    "\n",
    "with open(DATASET_FOLDER+\"PoseNet-101-SPLIT_AS_DETECTRON-dataset.pickle\", 'wb') as handle:\n",
    "    pickle.dump((trainSet, valSet, testSet), handle, protocol=pickle.HIGHEST_PROTOCOL)\n",
    "\n",
    "print(\"DONE!\")"
   ]
  },
  {
   "cell_type": "markdown",
   "metadata": {},
   "source": [
    "## check if the dataset are equal"
   ]
  },
  {
   "cell_type": "code",
   "execution_count": 61,
   "metadata": {},
   "outputs": [],
   "source": [
    "dataset_1 = DATASET_FOLDER+\"keypoint_rcnn_X_101_32x8d_FPN_3x-SPLIT-dataset.pickle\"\n",
    "with open(dataset_1,\"rb\") as file_in:\n",
    "        trainSet_1, valSet_1, testSet_1 = pickle.load(file_in)\n",
    "\n",
    "dataset_2 = DATASET_FOLDER+\"PoseNet-101-SPLIT-dataset.pickle\"\n",
    "with open(dataset_2,\"rb\") as file_in:\n",
    "        trainSet_2, valSet_2, testSet_2 = pickle.load(file_in)"
   ]
  },
  {
   "cell_type": "code",
   "execution_count": 69,
   "metadata": {},
   "outputs": [
    {
     "data": {
      "text/plain": [
       "True"
      ]
     },
     "execution_count": 69,
     "metadata": {},
     "output_type": "execute_result"
    }
   ],
   "source": [
    "all(trainSet_1[1] == trainSet_2[1])"
   ]
  },
  {
   "cell_type": "code",
   "execution_count": null,
   "metadata": {},
   "outputs": [],
   "source": []
  }
 ],
 "metadata": {
  "kernelspec": {
   "display_name": "Python 3",
   "language": "python",
   "name": "python3"
  },
  "language_info": {
   "codemirror_mode": {
    "name": "ipython",
    "version": 3
   },
   "file_extension": ".py",
   "mimetype": "text/x-python",
   "name": "python",
   "nbconvert_exporter": "python",
   "pygments_lexer": "ipython3",
   "version": "3.6.9"
  }
 },
 "nbformat": 4,
 "nbformat_minor": 2
}
